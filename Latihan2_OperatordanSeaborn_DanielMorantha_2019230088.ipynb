{
 "cells": [
  {
   "cell_type": "markdown",
   "metadata": {},
   "source": [
    "# <center>Tutorial Mengenal Python Lewat JuPyter NoteBook</center>\n",
    "<center>\n",
    "    \n",
    "    \n",
    "<img width=20% src=\"https://1.bp.blogspot.com/-7m6jQ5cDPeE/XyjueCvjZ7I/AAAAAAAAJYQ/sRvCfTmKEYcc0ow9EqLjldmF9a0ZojjMgCLcBGAsYHQ/s1600/Unsada.png\">\n",
    "    \n",
    "</center>    "
   ]
  },
  {
   "cell_type": "markdown",
   "metadata": {},
   "source": [
    "<center><b>Pertemuan 2 : Sesi Dasar-dasar pemrograman Python</b></center>\n",
    "<center><b>Herianto</b></center>"
   ]
  },
  {
   "cell_type": "markdown",
   "metadata": {},
   "source": [
    "# Mengenal Syntax Program Python\n",
    "- Syntax Python dirancang untuk mudah dibaca (readability), dan sangat mirip dengan bahasa Inggris dan notasi matematika\n",
    "- Untuk menyatakan satu baris perintah python cukup dengan pindah ke baris baru (new line), berbeda dengan beberapa bahasa pemrograman lain yang pakai semicolons (;) atau tanda kurung.\n",
    "- Python menggunakan indentation (tab, menjorok ke dalam) dan/atau whitespace (spasi) untuk membatasi scope program. Berbeda dengan banyak bahasa pemrograman lain yang banyak menggunakan tanda kurung (kurawal pada c/c++, java)"
   ]
  },
  {
   "cell_type": "markdown",
   "metadata": {},
   "source": [
    "## I. Percobaan AWAL\n",
    "**1. Mencetak kata Hello World, ketikkan coding di bawah pada cell anda, RUN, lihat hasilnya di bawah cell  :**\n",
    "> print(\"Hello World.\")"
   ]
  },
  {
   "cell_type": "markdown",
   "metadata": {},
   "source": [
    "Silahkan coba :"
   ]
  },
  {
   "cell_type": "code",
   "execution_count": 1,
   "metadata": {
    "scrolled": true
   },
   "outputs": [
    {
     "name": "stdout",
     "output_type": "stream",
     "text": [
      "Hello World.\n"
     ]
    }
   ],
   "source": [
    "print(\"Hello World.\")"
   ]
  },
  {
   "cell_type": "markdown",
   "metadata": {},
   "source": [
    "Hasilnya adalah menampilkan apa yang ada di dalam kurung perintah print"
   ]
  },
  {
   "cell_type": "markdown",
   "metadata": {},
   "source": [
    "Cobakan cara mencetak isi variabel tanpa print\n",
    "~~~\n",
    "a=5\n",
    "a\n",
    "~~~"
   ]
  },
  {
   "cell_type": "markdown",
   "metadata": {},
   "source": [
    "Silahkan coba :"
   ]
  },
  {
   "cell_type": "code",
   "execution_count": 5,
   "metadata": {},
   "outputs": [
    {
     "data": {
      "text/plain": [
       "5"
      ]
     },
     "execution_count": 5,
     "metadata": {},
     "output_type": "execute_result"
    }
   ],
   "source": [
    "a=5\n",
    "a"
   ]
  },
  {
   "cell_type": "markdown",
   "metadata": {},
   "source": [
    "Cobakan cara mencetak isi variabel tanpa print\n",
    "~~~\n",
    "x=\"Hello Dunia\"\n",
    "x\n",
    "~~~"
   ]
  },
  {
   "cell_type": "code",
   "execution_count": 6,
   "metadata": {},
   "outputs": [
    {
     "data": {
      "text/plain": [
       "'Hello Dunia'"
      ]
     },
     "execution_count": 6,
     "metadata": {},
     "output_type": "execute_result"
    }
   ],
   "source": [
    "x=\"Hello Dunia\"\n",
    "x"
   ]
  },
  {
   "cell_type": "markdown",
   "metadata": {},
   "source": [
    "**2. Percobaan Python Indentation pada decision if, ketikkan program berikut pada cell di bawah :**\n",
    "```\n",
    " if 5 > 2:\n",
    "     print(\"Lima lebih besar dari dua!\")\n",
    "```   "
   ]
  },
  {
   "cell_type": "markdown",
   "metadata": {},
   "source": [
    "Silahkan coba :"
   ]
  },
  {
   "cell_type": "code",
   "execution_count": 7,
   "metadata": {},
   "outputs": [
    {
     "name": "stdout",
     "output_type": "stream",
     "text": [
      "Lima lebih besar dari dua!\n"
     ]
    }
   ],
   "source": [
    "if 5 > 2:\n",
    "     print(\"Lima lebih besar dari dua!\")"
   ]
  },
  {
   "cell_type": "markdown",
   "metadata": {},
   "source": [
    "**3. Percobaan Python Indentation pada looping for, ketikkan program berikut pada cell di bawah :**\n",
    "```\n",
    "for x in range(1,5):\n",
    "      print(x)\n",
    "```"
   ]
  },
  {
   "cell_type": "markdown",
   "metadata": {},
   "source": [
    "Silahkan coba :"
   ]
  },
  {
   "cell_type": "code",
   "execution_count": 8,
   "metadata": {},
   "outputs": [
    {
     "name": "stdout",
     "output_type": "stream",
     "text": [
      "1\n",
      "2\n",
      "3\n",
      "4\n"
     ]
    }
   ],
   "source": [
    "for x in range(1,5):\n",
    "      print(x)"
   ]
  },
  {
   "cell_type": "markdown",
   "metadata": {},
   "source": [
    "**4. Percobaan Python Indentation pada fungsi, ketikkan program berikut pada cell di bawah :**\n",
    "```\n",
    "def fungsi_ku():\n",
    "      print(\"Hai ini dicetak dari funngsi\")\n",
    "      print(\"Terima kasih sudah mencoba\")\n",
    "```"
   ]
  },
  {
   "cell_type": "markdown",
   "metadata": {},
   "source": [
    "Silahkan coba :"
   ]
  },
  {
   "cell_type": "code",
   "execution_count": 9,
   "metadata": {},
   "outputs": [],
   "source": [
    "def fungsi_ku():\n",
    "      print(\"Hai ini dicetak dari funngsi\")\n",
    "      print(\"Terima kasih sudah mencoba\")"
   ]
  },
  {
   "cell_type": "markdown",
   "metadata": {},
   "source": [
    "Panggil fungsi di atas dengan cara seperti di bawah ini : \n",
    ">fungsi_ku()"
   ]
  },
  {
   "cell_type": "markdown",
   "metadata": {},
   "source": [
    "Silahkan coba :"
   ]
  },
  {
   "cell_type": "code",
   "execution_count": 10,
   "metadata": {},
   "outputs": [
    {
     "name": "stdout",
     "output_type": "stream",
     "text": [
      "Hai ini dicetak dari funngsi\n",
      "Terima kasih sudah mencoba\n"
     ]
    }
   ],
   "source": [
    "fungsi_ku()"
   ]
  },
  {
   "cell_type": "markdown",
   "metadata": {},
   "source": [
    "**5. Menulis komentar pada program python**\n",
    "\n",
    "***Komentar 1 baris*** (Pakai penanda # di awal)\n",
    "\n",
    "~~~\n",
    "#print(\"Hello, World!\")\n",
    "print(\"Cheers, Mate!\")\n",
    "~~~\n",
    "\n",
    "***Komentar beberapa baris*** (Diantara double quotes tiga buah)\n",
    "\n",
    "~~~\n",
    "\"\"\"\n",
    "Ini adalah komenta\n",
    "yang ditulis\n",
    "dalam beberapa baris\n",
    "\"\"\"\n",
    "print(\"Hello, World!\")\n",
    "~~~\n",
    "\n"
   ]
  },
  {
   "cell_type": "markdown",
   "metadata": {},
   "source": [
    "Silahkan coba :"
   ]
  },
  {
   "cell_type": "code",
   "execution_count": 11,
   "metadata": {},
   "outputs": [
    {
     "name": "stdout",
     "output_type": "stream",
     "text": [
      "Hello, World!\n"
     ]
    }
   ],
   "source": [
    "#print(\"Hello\")\n",
    "\"\"\"\n",
    "Ini adalah komenta\n",
    "yang ditulis\n",
    "dalam beberapa baris\n",
    "\"\"\"\n",
    "print(\"Hello, World!\")"
   ]
  },
  {
   "cell_type": "markdown",
   "metadata": {},
   "source": [
    "## II. Percobaan variabel, tipe data dan struktur data\n",
    "\n",
    "Python memiliki beberapa tipe data built-in seperti berikut :\n",
    "\n",
    "~~~\n",
    "Text Type      :\tstr\n",
    "Numeric Types  :\tint, float, complex\n",
    "Sequence Types :\tlist, tuple, range\n",
    "Mapping Type   :\tdict\n",
    "Set Types      :\tset, frozenset\n",
    "Boolean Type   :\tbool\n",
    "Binary Types   :\tbytes, bytearray, memoryview\n",
    "~~~"
   ]
  },
  {
   "cell_type": "markdown",
   "metadata": {},
   "source": [
    "**1. Percobaan memasukkan data ke variabel yang diberi nama x dan y dan mencetak isinya**\n",
    "~~~\n",
    " x = 5\n",
    " y = \"John\"\n",
    " print(x)\n",
    " print(y)\n",
    "~~~"
   ]
  },
  {
   "cell_type": "markdown",
   "metadata": {},
   "source": [
    "Silahkan coba :"
   ]
  },
  {
   "cell_type": "code",
   "execution_count": 15,
   "metadata": {},
   "outputs": [
    {
     "ename": "IndentationError",
     "evalue": "unexpected indent (<ipython-input-15-591dbeb4de12>, line 2)",
     "output_type": "error",
     "traceback": [
      "\u001b[1;36m  File \u001b[1;32m\"<ipython-input-15-591dbeb4de12>\"\u001b[1;36m, line \u001b[1;32m2\u001b[0m\n\u001b[1;33m    y = \"John\"\u001b[0m\n\u001b[1;37m    ^\u001b[0m\n\u001b[1;31mIndentationError\u001b[0m\u001b[1;31m:\u001b[0m unexpected indent\n"
     ]
    }
   ],
   "source": [
    "x = 5\n",
    " y = \"John\"\n",
    " print(\"\"+x)\n",
    " print(y)"
   ]
  },
  {
   "cell_type": "markdown",
   "metadata": {},
   "source": [
    "Lanjutan di atas, percobaan berikut memperlihat tipe data variabel pada python bersifat dinamis\n",
    "~~~\n",
    "x = 4       # x saat ini tipe datanya  int\n",
    "x = \"Sally\" # x di sini tipenya str\n",
    "print(x)\n",
    "~~~"
   ]
  },
  {
   "cell_type": "markdown",
   "metadata": {},
   "source": [
    "Silahkan coba :"
   ]
  },
  {
   "cell_type": "code",
   "execution_count": 16,
   "metadata": {},
   "outputs": [
    {
     "name": "stdout",
     "output_type": "stream",
     "text": [
      "Sally\n"
     ]
    }
   ],
   "source": [
    "x = 4       # x saat ini tipe datanya  int\n",
    "x = \"Sally\" # x di sini tipenya str\n",
    "print(x)"
   ]
  },
  {
   "cell_type": "markdown",
   "metadata": {},
   "source": [
    "Nilai tipe data string (str) bisa Single atau Double Quotes\n",
    "~~~\n",
    "x = \"John\"\n",
    "#sama saja dengan\n",
    "x = 'John'\n",
    "~~~"
   ]
  },
  {
   "cell_type": "markdown",
   "metadata": {},
   "source": [
    "Silahkan coba :"
   ]
  },
  {
   "cell_type": "code",
   "execution_count": 17,
   "metadata": {},
   "outputs": [],
   "source": [
    "x = \"John\"\n",
    "#sama saja dengan\n",
    "x = 'John'"
   ]
  },
  {
   "cell_type": "markdown",
   "metadata": {},
   "source": [
    "**2. Percobaan Operator pada Python**\n",
    "\n",
    "Python memiliki beberapa jenis operator seperti berikut :\n",
    "\n",
    "- Arithmetic operators   : +, -, *, /, %, **, // \n",
    "- Assignment operators   : =, +=, -=, *=, /=, %=, **=, //=, &=, |=, ^=, >>=, <<= \n",
    "- Comparison operators   : ==, !=, <, >, <=, >= \n",
    "- Logical operators      : and, or not\n",
    "- Identity operators     : is, is not\n",
    "- Membership operators   : in, not in\n",
    "- Bitwise operators      : &, |,  ^, ~ , <<, >>\n"
   ]
  },
  {
   "cell_type": "code",
   "execution_count": 18,
   "metadata": {
    "scrolled": false
   },
   "outputs": [
    {
     "name": "stdout",
     "output_type": "stream",
     "text": [
      "Hasil pejumlahan :  5\n",
      "Hasil pengurangan :  -1\n",
      "Hasil perkalian  : 6.00  \n",
      "Hasil pembagian : 0.67 \n",
      "Hasil Akar 2 dengan 3 = 8\n",
      "Hasil Modulus 2 dengan 3 = 2\n"
     ]
    }
   ],
   "source": [
    "#Silahkan langsung jalankan koding berikut :\n",
    "\n",
    "a=2\n",
    "b=3\n",
    "tambah=a+b\n",
    "print(\"Hasil pejumlahan : \",tambah)\n",
    "kurang=a-b\n",
    "print(\"Hasil pengurangan : \",kurang)\n",
    "kali=a*b\n",
    "print(\"Hasil perkalian  : %2.2f  \"% kali)\n",
    "bagi=a/b\n",
    "print(\"Hasil pembagian : %2.2f \"% bagi)\n",
    "\n",
    "#Tambahan operator lain\n",
    "akar = a ** b\n",
    "print(\"Hasil Akar\" ,a, \"dengan\", b, \"=\",akar)\n",
    "\n",
    "modulus = a % b\n",
    "print(\"Hasil Modulus\" ,a, \"dengan\" ,b, \"=\", modulus)\n",
    "\n",
    "\n",
    "#TUGAS/Latihan\n",
    "#Lanjutkan untuk operator yang lain\n"
   ]
  },
  {
   "cell_type": "markdown",
   "metadata": {},
   "source": [
    "**3. Percobaan menggunakan tipe data list (Data terstruktur), perhatikan tidak ada array pada tipe data dasar python**\n",
    "\n",
    "Cobakan koding python  berikut yang terdiri dari tipe data list 10 buah item data:\n",
    "~~~\n",
    "listku = [1, 25, 7, 9, 3, 8, 9, 12, 8, 11]\n",
    "print(listku)\n",
    "~~~"
   ]
  },
  {
   "cell_type": "markdown",
   "metadata": {},
   "source": [
    "Silahkan coba :"
   ]
  },
  {
   "cell_type": "code",
   "execution_count": 19,
   "metadata": {},
   "outputs": [
    {
     "name": "stdout",
     "output_type": "stream",
     "text": [
      "[1, 25, 7, 9, 3, 8, 9, 12, 8, 11]\n"
     ]
    }
   ],
   "source": [
    "listku = [1, 25, 7, 9, 3, 8, 9, 12, 8, 11]\n",
    "print(listku)"
   ]
  },
  {
   "cell_type": "markdown",
   "metadata": {},
   "source": [
    "Mengambil data list sebagian dengan format slicing. Perhatihan index list dimulai dari 0\n",
    "~~~\n",
    "print(listku[1]) # yang diambil hanya index ke 1\n",
    "print(listku[2:4])  # yang diambil mulai index 2 s.d 3 \n",
    "print(listku[-1]) # yang diambil mulai dari ujung\n",
    "~~~"
   ]
  },
  {
   "cell_type": "markdown",
   "metadata": {},
   "source": [
    "Silahkan coba :"
   ]
  },
  {
   "cell_type": "code",
   "execution_count": 20,
   "metadata": {
    "scrolled": true
   },
   "outputs": [
    {
     "name": "stdout",
     "output_type": "stream",
     "text": [
      "25\n",
      "[7, 9]\n",
      "11\n"
     ]
    }
   ],
   "source": [
    "print(listku[1]) # yang diambil hanya index ke 1\n",
    "print(listku[2:4])  # yang diambil mulai index 2 s.d 3 \n",
    "print(listku[-1]) # yang diambil mulai dari ujung\n"
   ]
  },
  {
   "cell_type": "code",
   "execution_count": 9,
   "metadata": {},
   "outputs": [
    {
     "name": "stdout",
     "output_type": "stream",
     "text": [
      "10\n",
      "93\n",
      "9.3\n",
      "[1, 25, 7, 9, 3, 8, 9, 12, 8, 11, 1, 25, 7, 9, 3, 8, 9, 12, 8, 11]\n"
     ]
    }
   ],
   "source": [
    "#Mengolah list dengan fungsi\n",
    "#Silahkan coba jalankan :\n",
    "listku = [1, 25, 7, 9, 3, 8, 9, 12, 8, 11]\n",
    "print(len(listku)) # jumlah item nya\n",
    "print(sum(listku))  #total\n",
    "print(sum(listku)/len(listku))  #rata-rata\n",
    "print(listku*2)"
   ]
  },
  {
   "cell_type": "markdown",
   "metadata": {},
   "source": [
    "**Latihan :**\n",
    "~~~\n",
    "Buatlah fungsi rata-rata list dengan nama : rataku(argumen)\n",
    "Sehingga jika di panggil :    \n",
    "rataku(listku)\n",
    "\n",
    "Output nya adalah rata-rata dari list yang didalam argumen\n",
    "~~~"
   ]
  },
  {
   "cell_type": "markdown",
   "metadata": {},
   "source": [
    "Click untuk melihat clue-nya 🤭\n",
    "<!--  \n",
    "#ini dia jawabannya\n",
    "\n",
    "#membuat list\n",
    "def rataku(list1):\n",
    "    list2=sum(list1)/len(list1)\n",
    "    return list2\n",
    "\n",
    "#Menggunakan list\n",
    "rataku(listku)\n",
    "\n",
    "\n",
    "-->"
   ]
  },
  {
   "cell_type": "markdown",
   "metadata": {},
   "source": [
    "Cobakan : "
   ]
  },
  {
   "cell_type": "code",
   "execution_count": 21,
   "metadata": {},
   "outputs": [
    {
     "data": {
      "text/plain": [
       "9.3"
      ]
     },
     "execution_count": 21,
     "metadata": {},
     "output_type": "execute_result"
    }
   ],
   "source": [
    "def rataku(list1):\n",
    "    list2=sum(list1)/len(list1)\n",
    "    return list2\n",
    "\n",
    "rataku(listku)"
   ]
  },
  {
   "cell_type": "markdown",
   "metadata": {},
   "source": [
    "## III. Percobaan menggunakan package\n",
    "~~~\n",
    "Q = Kenapa python butuh package ?\n",
    "A = Karena python secara default tidak mampu melakukan kemampuan tertentu, sehingga oleh pihak ketiga dibuatkan \n",
    "    library-nya.\n",
    "\n",
    "Contoh python tidak mampu melakukan perhitungan matriks dengan list, untuk itu python butuh package : numpy \n",
    "Untuk memanggil paket tertentu digunakan statemen import, misal : import numpy\n",
    "Agar kode berikutnya mudah untuk memanggil paket tersebut diberi nama alias yang lebih singkat, contoh :\n",
    "\n",
    "import numpy as np\n",
    "\n",
    "selanjutnya numpy akan dipanggil dengan np\n",
    "~~~\n",
    "\n"
   ]
  },
  {
   "cell_type": "code",
   "execution_count": 22,
   "metadata": {},
   "outputs": [
    {
     "data": {
      "text/plain": [
       "[[1, 25, 7], [9, 3, 8]]"
      ]
     },
     "execution_count": 22,
     "metadata": {},
     "output_type": "execute_result"
    }
   ],
   "source": [
    "#ini list1, 2 x 3\n",
    "list1 = [[1, 25, 7], [9, 3, 8]]\n",
    "list1"
   ]
  },
  {
   "cell_type": "code",
   "execution_count": 23,
   "metadata": {},
   "outputs": [
    {
     "data": {
      "text/plain": [
       "[[1], [25], [7]]"
      ]
     },
     "execution_count": 23,
     "metadata": {},
     "output_type": "execute_result"
    }
   ],
   "source": [
    "#ini list2 3 x 1\n",
    "list2 = [[1], [25], [7]]\n",
    "list2"
   ]
  },
  {
   "cell_type": "markdown",
   "metadata": {},
   "source": [
    "Coba kalikan list di atas dengan 2"
   ]
  },
  {
   "cell_type": "code",
   "execution_count": 24,
   "metadata": {},
   "outputs": [
    {
     "ename": "TypeError",
     "evalue": "can't multiply sequence by non-int of type 'list'",
     "output_type": "error",
     "traceback": [
      "\u001b[1;31m---------------------------------------------------------------------------\u001b[0m",
      "\u001b[1;31mTypeError\u001b[0m                                 Traceback (most recent call last)",
      "\u001b[1;32m<ipython-input-24-1e9425ae1cb8>\u001b[0m in \u001b[0;36m<module>\u001b[1;34m\u001b[0m\n\u001b[0;32m      1\u001b[0m \u001b[1;31m#ini akan error, karena list tidak bisa dioperasikan sebagai matriks\u001b[0m\u001b[1;33m\u001b[0m\u001b[1;33m\u001b[0m\u001b[1;33m\u001b[0m\u001b[0m\n\u001b[1;32m----> 2\u001b[1;33m \u001b[0mlist1\u001b[0m\u001b[1;33m*\u001b[0m\u001b[0mlist2\u001b[0m\u001b[1;33m\u001b[0m\u001b[1;33m\u001b[0m\u001b[0m\n\u001b[0m",
      "\u001b[1;31mTypeError\u001b[0m: can't multiply sequence by non-int of type 'list'"
     ]
    }
   ],
   "source": [
    "#ini akan error, karena list tidak bisa dioperasikan sebagai matriks\n",
    "list1*list2"
   ]
  },
  {
   "cell_type": "markdown",
   "metadata": {},
   "source": [
    "Maka digunakankan libary atau package : numpy"
   ]
  },
  {
   "cell_type": "code",
   "execution_count": 25,
   "metadata": {},
   "outputs": [
    {
     "name": "stdout",
     "output_type": "stream",
     "text": [
      "Matriks A\n",
      "[[1 3 7]\n",
      " [9 3 8]]\n",
      "Dimensinya :\n",
      "(2, 3)\n",
      "\n",
      "Matriks B\n",
      "[[2]\n",
      " [4]\n",
      " [8]]\n",
      "Dimensinya :\n",
      "(3, 1)\n",
      "\n",
      "Matriks C\n",
      "[[70]\n",
      " [94]]\n",
      "Dimensinya :\n",
      "(2, 1)\n"
     ]
    }
   ],
   "source": [
    "import numpy as np\n",
    "\n",
    "\"\"\"\n",
    "Matriks A (2x3) =  1 25 7\n",
    "                   9  3  8 \n",
    "\n",
    "Matriks/vektor B (3x1) =  1 \n",
    "                         25\n",
    "                          7\n",
    "                    \n",
    "Matrriks C = A x B                    \n",
    "\"\"\"\n",
    "\n",
    "#Memasukkan data ke array sebagai matrix/vector\n",
    "arrayA = np.array([[1, 3, 7], [9, 3, 8]])\n",
    "arrayB = np.array([[2], [4], [8]])\n",
    "\n",
    "print(\"Matriks A\")\n",
    "print(arrayA)\n",
    "print(\"Dimensinya :\")\n",
    "print(arrayA.shape)\n",
    "print()\n",
    "print(\"Matriks B\")\n",
    "print(arrayB)\n",
    "print(\"Dimensinya :\")\n",
    "print(arrayB.shape)\n",
    "print()\n",
    "\n",
    "arrayC=np.matmul(arrayA,arrayB) # gunakan ini untuk matrix-vector multiplication\n",
    "arrayC=np.dot(arrayA,arrayB) # atau gunakan ini\n",
    "# arrayC=arrayA*arrayB    #jangan pakai ini\n",
    "\n",
    "print(\"Matriks C\")\n",
    "print(arrayC)\n",
    "print(\"Dimensinya :\")\n",
    "print(arrayC.shape)\n"
   ]
  },
  {
   "cell_type": "markdown",
   "metadata": {},
   "source": [
    "<center>---</center>\n",
    "\n",
    "~~~\n",
    "\n",
    "~~~"
   ]
  },
  {
   "cell_type": "markdown",
   "metadata": {},
   "source": [
    "# IV. CONTOH-CONTOH PENERAPAN NYATA"
   ]
  },
  {
   "cell_type": "markdown",
   "metadata": {},
   "source": [
    "## 1. Contoh Menampilkan Grafis Sinyal Random :"
   ]
  },
  {
   "cell_type": "markdown",
   "metadata": {},
   "source": [
    "**Membuat Grafis/Visualisasi**"
   ]
  },
  {
   "cell_type": "code",
   "execution_count": 26,
   "metadata": {},
   "outputs": [
    {
     "data": {
      "image/png": "[encoded data removed]",
      "text/plain": [
       "<Figure size 432x288 with 1 Axes>"
      ]
     },
     "metadata": {
      "needs_background": "light"
     },
     "output_type": "display_data"
    }
   ],
   "source": [
    "import numpy as np\n",
    "from matplotlib import pyplot as plt\n",
    "\n",
    "ys = 200 + np.random.randn(100)\n",
    "x = [x for x in range(len(ys))]\n",
    "\n",
    "plt.plot(x, ys, '-')\n",
    "plt.fill_between(x, ys, 195, where=(ys > 195), facecolor='g', alpha=0.6)\n",
    "\n",
    "plt.title(\"Contoh Visualisasi sinyal random\")\n",
    "\n",
    "\n",
    "plt.show()"
   ]
  },
  {
   "cell_type": "markdown",
   "metadata": {},
   "source": [
    "## 2. Contoh Membandingkan daftar harga bitcoin pada tahun yang berbeda\n",
    "\n",
    "Misalkan kita memiliki daftar harga Bitcoin yang dicatat setiap akhir minggu (Minggu) di 2018 dan 2019. Kita bisa membuat visualisasi yang memungkinkan menjawab pertanyaan: Tahun 2018 atau 2019 yang cenderung memberikan pengembalian yang lebih baik bagi pemegang Bitcoin ?"
   ]
  },
  {
   "cell_type": "code",
   "execution_count": 27,
   "metadata": {},
   "outputs": [],
   "source": [
    "harga_bitcoin = [14292.2, 12858.9, 11467.5, 9241.1, 8559.6, 11073.5, 9704.3, 11402.3,\n",
    "          8762.0, 7874.9, 8547.4, 6938.2, 6905.7, 8004.4, 8923.1, 9352.4,\n",
    "          9853.5, 8459.5, 8245.1, 7361.3, 7646.6, 7515.8, 6505.8, 6167.3, \n",
    "          6398.9, 6765.5, 6254.8, 7408.7, 8234.1, 7014.3, 6231.6, 6379.1,\n",
    "          6734.8, 7189.6, 6184.3, 6519.0, 6729.6, 6603.9, 6596.3, 6321.7,\n",
    "          6572.2, 6494.2, 6386.2, 6427.1, 5621.8, 3920.4, 4196.2, 3430.4,\n",
    "          3228.7, 3964.4, 3706.8, 3785.4, 3597.2, 3677.8, 3570.9, 3502.5,\n",
    "          3661.4, 3616.8, 4120.4, 3823.1, 3944.3, 4006.4, 4002.5, 4111.8,\n",
    "          5046.2, 5051.8, 5290.2, 5265.9, 5830.9, 7190.3, 7262.6, 8027.4,\n",
    "          8545.7, 7901.4, 8812.5, 10721.7, 11906.5, 11268.0, 11364.9, 10826.7,\n",
    "          9492.1, 10815.7, 11314.5, 10218.1, 10131.0, 9594.4, 10461.1, 10337.3,\n",
    "          9993.0, 8208.5, 8127.3, 8304.4, 7957.3, 9230.6, 9300.6, 8804.5,\n",
    "          8497.3, 7324.1, 7546.6, 7510.9, 7080.8, 7156.2, 7321.5, 7376.8]"
   ]
  },
  {
   "cell_type": "code",
   "execution_count": 16,
   "metadata": {},
   "outputs": [
    {
     "data": {
      "image/png": "[encoded data removed]",
      "text/plain": [
       "<Figure size 432x288 with 1 Axes>"
      ]
     },
     "metadata": {
      "needs_background": "light"
     },
     "output_type": "display_data"
    }
   ],
   "source": [
    "#membagi menjadi 2 vektor di masing-masing tahun\n",
    "import numpy as np\n",
    "bitcoin_2018=harga_bitcoin[0:52]\n",
    "bitcoin_2019=harga_bitcoin[52:]\n",
    "\n",
    "#Menyajikan dalam bentuk grafis\n",
    "serial1=np.arange(len(bitcoin_2018))\n",
    "serial2=np.arange(len(bitcoin_2019))\n",
    "plt.plot(serial1,bitcoin_2018,label='2018')\n",
    "plt.plot(serial2,bitcoin_2019,label='2019')\n",
    "plt.legend ()\n",
    "plt.ylabel(\"Harga Bit coin\")\n",
    "plt.xlabel(\"Minggu ke-\")\n",
    "plt.title(\"Perbandingan Grafik Harga Bitcoin tahun 2018 dan 2019\")\n",
    "plt.show()"
   ]
  },
  {
   "cell_type": "markdown",
   "metadata": {},
   "source": [
    "## 3. Contoh Melihat Perbandingan perubahan suhu setiap bulan pada beberapa negara"
   ]
  },
  {
   "cell_type": "markdown",
   "metadata": {},
   "source": [
    "Kita dapat melihat kota-kota di garis lintang yang lebih tinggi, lebih dingin dari bulan September hingga Maret dan suhu cenderung meningkat seiring dengan semakin mengecilnya garis lintang. Perhatikan juga bahwa Sao Paulo terlihat lebih hangat di tengah tahun meskipun berada di belahan bumi selatan. Memang, skema warnanya sulit dibaca. Anda dapat mengubah skema warna menggunakan argumen cmap =. cmap = menerima daftar warna dan skema warna preset. Anda dapat menemukan skema di Matplotlib colormap documentation."
   ]
  },
  {
   "cell_type": "code",
   "execution_count": 28,
   "metadata": {},
   "outputs": [
    {
     "data": {
      "text/plain": [
       "<AxesSubplot:>"
      ]
     },
     "execution_count": 28,
     "metadata": {},
     "output_type": "execute_result"
    },
    {
     "data": {
      "image/png": "[encoded data removed]",
      "text/plain": [
       "<Figure size 432x288 with 2 Axes>"
      ]
     },
     "metadata": {
      "needs_background": "light"
     },
     "output_type": "display_data"
    }
   ],
   "source": [
    "import seaborn as sns\n",
    "\n",
    "cities = ['New York', 'Beijing', 'Tokyo', 'Osaka', 'Shanghai', 'Cairo', 'Delhi',\n",
    "          'Karachi', 'Dhaka', 'Mexico City', 'Mumbai', 'Sao Paulo']\n",
    "\n",
    "months = ['J', 'F', 'M', 'A', 'M', 'J', 'J', 'A', 'S', 'O', 'N', 'D']\n",
    "\n",
    "temperatures = [\n",
    "  [ 4,  6, 11, 18, 22, 27, 29, 29, 25, 18, 13,  7], # New York\n",
    "  [ 2,  5, 12, 21, 27, 30, 31, 30, 26, 19, 10,  4], # Beijing\n",
    "  [10, 10, 14, 19, 23, 26, 30, 31, 27, 22, 17, 12], # Tokyo\n",
    "  [ 9, 10, 14, 20, 25, 28, 32, 33, 29, 23, 18, 12], # Osaka\n",
    "  [ 8, 10, 14, 20, 24, 28, 32, 32, 27, 23, 17, 11], # Shanghai\n",
    "  [19, 21, 24, 29, 33, 35, 35, 35, 34, 30, 25, 21], # Cairo\n",
    "  [20, 24, 30, 37, 40, 39, 35, 34, 34, 33, 28, 22], # Delhi\n",
    "  [26, 28, 32, 35, 36, 35, 33, 32, 33, 35, 32, 28], # Karachi\n",
    "  [25, 29, 32, 33, 33, 32, 32, 32, 32, 31, 29, 26], # Dhaka\n",
    "  [22, 24, 26, 27, 27, 26, 24, 25, 24, 24, 23, 23], # Mexico City\n",
    "  [31, 32, 33, 33, 34, 32, 30, 30, 31, 34, 34, 32], # Mumbai\n",
    "  [29, 29, 28, 27, 23, 23, 23, 25, 25, 26, 27, 28], # Sao Paulo\n",
    "]\n",
    "\n",
    "sns.heatmap(\n",
    "    temperatures,\n",
    "    yticklabels=cities,\n",
    "    xticklabels=months,\n",
    "    cmap='coolwarm'\n",
    ")"
   ]
  },
  {
   "cell_type": "markdown",
   "metadata": {},
   "source": [
    "## 4. Contoh Penelitian Sederhana : \n",
    "### Menentukan Pusat Pertumbuhan Jamur\n",
    "\n",
    "Beberapa peneliti sedang mempelajari jamur. Mereka telah menemukan cincin jamur dan memberi label koordinat. Biasanya jamur menyebar keluar dari pusat jamur awal. Dengan koordinat di bawah ini, peneliti ingin menjawab pertanyaan: Kira-kira di manakah letak pusat pertumbuhan jamur? Buat bagan yang memungkinkan peneliti memperkirakan pusat pertumbuhan."
   ]
  },
  {
   "cell_type": "code",
   "execution_count": 29,
   "metadata": {},
   "outputs": [],
   "source": [
    "#Titik Koordinat x tanaman jamur\n",
    "x = [4.61, 5.08, 5.18, 7.82, 10.46, 7.66, 7.6, 9.32, 14.04, 9.95, 4.95, 7.23, \n",
    "     5.21, 8.64, 10.08, 8.32, 12.83, 7.51, 7.82, 6.29, 0.04, 6.62, 13.16, 6.34, \n",
    "     0.09, 10.04, 13.06, 9.54, 11.32, 7.12, -0.67, 10.5, 8.37, 7.24, 9.18, \n",
    "     10.12, 12.29, 8.53, 11.11, 9.65, 9.42, 8.61, -0.67, 5.94, 6.49, 7.57, 3.11,\n",
    "     8.7, 5.28, 8.28, 9.55, 8.33, 13.7, 6.65, 2.4, 3.54, 9.19, 7.51, -0.68,\n",
    "     8.47, 14.82, 5.31, 14.01, 8.75, -0.57, 5.35, 10.51, 3.11, -0.26, 5.74,\n",
    "     8.33, 6.5, 13.85, 9.78, 4.91, 4.19, 14.8, 10.04, 13.47, 3.28]\n",
    "\n",
    "#Titik Koordinat y tanaman jamur\n",
    "y = [-2.36, -3.41, 13.01, -2.91, -2.28, 12.83, 13.13, 11.94, 0.93, -2.76, 13.31,\n",
    "     -3.57, -2.33, 12.43, -1.83, 12.32, -0.42, -3.08, -2.98, 12.46, 8.34, -3.19,\n",
    "     -0.47, 12.78, 2.12, -2.72, 10.64, 11.98, 12.21, 12.52, 5.53, 11.72, 12.91,\n",
    "     12.56, -2.49, 12.08, -1.09, -2.89, -1.78, -2.47, 12.77, 12.41, 5.33, -3.23,\n",
    "     13.45, -3.41, 12.46, 12.1, -2.56, 12.51, -2.37, 12.76, 9.69, 12.59, -1.12,\n",
    "     -2.8, 12.94, -3.55, 7.33, 12.59, 2.92, 12.7, 0.5, 12.57, 6.39, 12.84,\n",
    "     -1.95, 11.76, 6.82, 12.44, 13.28, -3.46, 0.7, -2.55, -2.37, 12.48, 7.26,\n",
    "     -2.45, 0.31, -2.51]"
   ]
  },
  {
   "cell_type": "markdown",
   "metadata": {},
   "source": [
    "**Menggunakan chart scatter, karena dapat memperlihatkan sebaran titik hubungan dari dua item data**"
   ]
  },
  {
   "cell_type": "code",
   "execution_count": 18,
   "metadata": {},
   "outputs": [
    {
     "data": {
      "text/plain": [
       "<matplotlib.collections.PathCollection at 0x2bb35530490>"
      ]
     },
     "execution_count": 18,
     "metadata": {},
     "output_type": "execute_result"
    },
    {
     "data": {
      "image/png": "[encoded data removed]",
      "text/plain": [
       "<Figure size 432x288 with 1 Axes>"
      ]
     },
     "metadata": {
      "needs_background": "light"
     },
     "output_type": "display_data"
    }
   ],
   "source": [
    "plt.xlabel('Koordinat x')\n",
    "plt.ylabel('Koordinat y')\n",
    "plt.title('Sebaran Koordinat Jamur')\n",
    "plt.scatter(x,y)"
   ]
  },
  {
   "cell_type": "markdown",
   "metadata": {},
   "source": [
    "Koordinat pusat (x,y) pusat pertumbuhan jamur dapat dihitung dengan proses perhitungannya seperti berikut :"
   ]
  },
  {
   "cell_type": "code",
   "execution_count": 30,
   "metadata": {},
   "outputs": [
    {
     "data": {
      "image/png": "[encoded data removed]",
      "text/plain": [
       "<Figure size 720x576 with 1 Axes>"
      ]
     },
     "metadata": {
      "needs_background": "light"
     },
     "output_type": "display_data"
    }
   ],
   "source": [
    "plt.subplots(figsize=(10,8))\n",
    "\n",
    "x=np.array(x)\n",
    "y=np.array(y)\n",
    "cgx = np.sum(x*y)/np.sum(y) # perhitungan titik tengah koordinat x\n",
    "cgy = np.sum(x*y)/np.sum(x) # perhitungan titik tengah koordinat y\n",
    "plt.xlabel('Koordinat x')\n",
    "plt.ylabel('Koordinat y')\n",
    "plt.title('Sebaran Koordinat Jamur')\n",
    "plt.scatter(x,y)\n",
    "plt.scatter(cgx, cgy, color='y', marker='+', s=1e6);"
   ]
  },
  {
   "cell_type": "code",
   "execution_count": 31,
   "metadata": {},
   "outputs": [
    {
     "name": "stdout",
     "output_type": "stream",
     "text": [
      "Koordinat pusat x=  7.14  dan  Koordinat pusat y=  4.79\n"
     ]
    }
   ],
   "source": [
    "print(\"Koordinat pusat x= \",np.round(cgx,2),\" dan \",\"Koordinat pusat y= \",np.round(cgy,2))"
   ]
  },
  {
   "cell_type": "markdown",
   "metadata": {},
   "source": [
    "## Latihan \n",
    "#### (FUN Time, saatnya bersenang-senang)\n",
    "\n",
    "Soalnya : \n",
    "\n",
    "Kita memperoleh data penggunaan CPU rata-rata per jam untuk komputer pekerja selama seminggu. Setiap baris data mewakili satu hari dalam seminggu yang dimulai dengan Senin. Setiap kolom data adalah satu jam dalam sehari dimulai dengan 0 s.d 23 dan tengah malam.\n",
    "\n",
    "Buat bagan yang menunjukkan penggunaan CPU selama seminggu. Anda harus dapat menjawab pertanyaan-pertanyaan berikut menggunakan bagan yang anda pilih: \n",
    "\n",
    "- Jam berapa pekerja biasanya makan siang? Jam 13.00\n",
    "- Apakah pekerja tersebut bekerja pada akhir pekan? pada hari minggu ya jam 18--20\n",
    "- Pada hari apa pekerja mulai bekerja pada komputer mereka pada malam hari? Minggu\n",
    "\n",
    "Berikut datanya :"
   ]
  },
  {
   "cell_type": "code",
   "execution_count": 33,
   "metadata": {},
   "outputs": [],
   "source": [
    "#Data penggunaan CPU di sebuah instansi\n",
    "import seaborn as sns\n",
    "import numpy as np\n",
    "from matplotlib import pyplot as plt\n",
    "cpu_usage = [\n",
    "  [2, 2, 4, 2, 4, 1, 1, 4, 4, 12, 22, 23, \n",
    "   45, 9, 33, 56, 23, 40, 21, 6, 6, 2, 2, 3], # Monday\n",
    "  [1, 2, 3, 2, 3, 2, 3, 2, 7, 22, 45, 44,\n",
    "   33, 9, 23, 19, 33, 56, 12, 2, 3, 1, 2, 2], # Tuesday\n",
    "  [2, 3, 1, 2, 4, 4, 2, 2, 1, 2,  5, 31,\n",
    "   54, 7, 6, 34, 68, 34, 49, 6, 6, 2, 2, 3], # Wednesday\n",
    "  [1, 2, 3, 2, 4, 1, 2, 4, 1, 17, 24, 18,\n",
    "   41, 3, 44, 42, 12, 36, 41, 2, 2, 4, 2, 4], # Thursday\n",
    "  [4, 1, 2, 2, 3, 2, 5, 1, 2, 12, 33, 27,\n",
    "   43, 8, 38, 53, 29, 45, 39, 3, 1, 1, 3, 4], # Friday\n",
    "  [2, 3, 1, 2, 2, 5, 2, 8, 4, 2, 3,\n",
    "   1, 5, 1, 2, 3, 2, 6, 1, 2, 2, 1, 4, 3], # Saturday\n",
    "  [1, 2, 3, 1, 1, 3, 4, 2, 3, 1, 2,\n",
    "   2, 5, 3, 2, 1, 4, 2, 45, 26, 33, 2, 2, 1], # Sunday\n",
    "]\n"
   ]
  },
  {
   "cell_type": "markdown",
   "metadata": {},
   "source": [
    "Double Click untuk melihat clue nya  🙈🙈🙈\n",
    "<!--\n",
    "Yaaah, clue nya gak ada di sini...\n",
    "-->"
   ]
  },
  {
   "cell_type": "code",
   "execution_count": 3,
   "metadata": {},
   "outputs": [],
   "source": [
    "#Cobakan script di bawah ini"
   ]
  },
  {
   "cell_type": "code",
   "execution_count": 4,
   "metadata": {},
   "outputs": [
    {
     "data": {
      "text/plain": [
       "<AxesSubplot:>"
      ]
     },
     "execution_count": 4,
     "metadata": {},
     "output_type": "execute_result"
    },
    {
     "data": {
      "image/png": "[encoded data removed]",
      "text/plain": [
       "<Figure size 720x576 with 2 Axes>"
      ]
     },
     "metadata": {
      "needs_background": "light"
     },
     "output_type": "display_data"
    }
   ],
   "source": [
    "hari=['Senin','Selasa','Rabu','Kamis','Jumat','Sabtu','Minggu']\n",
    "jam=np.arange(24) \n",
    "\n",
    "plt.subplots(figsize=(10,8))\n",
    "sns.heatmap(cpu_usage,\n",
    "           yticklabels=hari,\n",
    "           xticklabels=jam,\n",
    "           cmap='viridis',\n",
    "           annot=True\n",
    "           )"
   ]
  },
  {
   "cell_type": "markdown",
   "metadata": {},
   "source": []
  },
  {
   "cell_type": "markdown",
   "metadata": {},
   "source": [
    "~~~\n",
    "\n",
    "~~~\n",
    "# <center>Terima kasih sudah menggunakan Tutorial ini sampai akhir</center>\n",
    "<center>herianto </center>"
   ]
  },
  {
   "cell_type": "code",
   "execution_count": null,
   "metadata": {},
   "outputs": [],
   "source": []
  }
 ],
 "metadata": {
  "kernelspec": {
   "display_name": "Python 3",
   "language": "python",
   "name": "python3"
  },
  "language_info": {
   "codemirror_mode": {
    "name": "ipython",
    "version": 3
   },
   "file_extension": ".py",
   "mimetype": "text/x-python",
   "name": "python",
   "nbconvert_exporter": "python",
   "pygments_lexer": "ipython3",
   "version": "3.8.8"
  }
 },
 "nbformat": 4,
 "nbformat_minor": 4
}
