{
 "cells": [
  {
   "cell_type": "markdown",
   "id": "6c8d15d3",
   "metadata": {},
   "source": [
    "# Tahap DATA PREPARATION -  Seleksi Fitur (2)\n",
    "\n",
    "- Menggunakan Feature Importance"
   ]
  },
  {
   "cell_type": "markdown",
   "id": "bac4f2bc",
   "metadata": {},
   "source": [
    "Pertama, Cek bahwa pada python anda telah ter-instal library scikit-learn\n",
    "\n",
    "Versi library yang telah diinstal bisa diperiksa dengan contoh kode berikut:"
   ]
  },
  {
   "cell_type": "code",
   "execution_count": 3,
   "id": "c991c343",
   "metadata": {},
   "outputs": [
    {
     "name": "stdout",
     "output_type": "stream",
     "text": [
      "0.24.1\n"
     ]
    }
   ],
   "source": [
    "# check scikit-learn version\n",
    "import sklearn\n",
    "print(sklearn.__version__)"
   ]
  },
  {
   "cell_type": "markdown",
   "id": "b4e6f43d",
   "metadata": {},
   "source": [
    "Versi scikit-learn yaitu 0.24, sudah lebih tinggi dari versi referensi contoh ini"
   ]
  },
  {
   "cell_type": "markdown",
   "id": "f5827fe2",
   "metadata": {},
   "source": [
    "#### Dataset Uji\n",
    "Selanjutnya, mari kita tentukan beberapa dataset pengujian yang dapat kita gunakan sebagai dasar untuk mendemonstrasikan dan menjelajahi skor feature importance.\n",
    "\n",
    "Setiap soal uji  memiliki lima fitur (importance) penting dan lima fitur (unimportance)tidak penting, dan mungkin menarik untuk melihat metode mana yang konsisten dalam menemukan atau membedakan fitur berdasarkan (importance) nya.\n",
    "\n",
    "#### Dataset Klasifikasi\n",
    "Kita akan menggunakan *make_classification() function* untuk membuat dataset uji: klasifikasi biner.\n",
    "Dataset akan memiliki 1.000 contoh, dengan 10 fitur input, lima di antaranya akan informatif dan lima sisanya akan redundan. Kami akan memperbaiki seed nomor acak untuk memastikan kami mendapatkan contoh yang sama setiap kali kode dijalankan.\n",
    "\n",
    "Contoh membuat dan meringkas dataset tercantum di bawah ini."
   ]
  },
  {
   "cell_type": "code",
   "execution_count": 4,
   "id": "aff0f463",
   "metadata": {},
   "outputs": [
    {
     "name": "stdout",
     "output_type": "stream",
     "text": [
      "(1000, 10) (1000,)\n"
     ]
    }
   ],
   "source": [
    "# test classification dataset\n",
    "from sklearn.datasets import make_classification\n",
    "# define dataset\n",
    "X, y = make_classification(n_samples=1000, n_features=10, n_informative=5, n_redundant=5, random_state=1)\n",
    "# summarize the dataset\n",
    "print(X.shape, y.shape)"
   ]
  },
  {
   "cell_type": "code",
   "execution_count": 5,
   "id": "86fdc9aa",
   "metadata": {
    "scrolled": true
   },
   "outputs": [
    {
     "data": {
      "text/plain": [
       "array([[ 2.56999479, -0.13019997,  3.16075093, ..., -1.93094078,\n",
       "         3.26130366,  2.05692145],\n",
       "       [ 0.34129317,  2.51321418, -0.80416572, ...,  6.24734437,\n",
       "        -1.92769365,  2.9503149 ],\n",
       "       [ 2.27539972,  3.36561455,  0.17164362, ...,  2.74693781,\n",
       "         0.13492444,  2.00339547],\n",
       "       ...,\n",
       "       [ 0.5234359 ,  1.90466429,  0.93243365, ...,  1.53945231,\n",
       "         1.90646166,  1.99458587],\n",
       "       [ 1.33747921,  3.25859684,  0.78792366, ...,  5.18788314,\n",
       "        -0.82071083,  3.51411431],\n",
       "       [-0.98534299,  0.83919047,  2.5820803 , ...,  3.04705685,\n",
       "         0.66885641,  3.32838496]])"
      ]
     },
     "execution_count": 5,
     "metadata": {},
     "output_type": "execute_result"
    }
   ],
   "source": [
    "X"
   ]
  },
  {
   "cell_type": "code",
   "execution_count": 6,
   "id": "9a28ee7e",
   "metadata": {},
   "outputs": [
    {
     "data": {
      "text/plain": [
       "array([1, 0, 0, 1, 0, 1, 1, 0, 0, 0, 1, 0, 1, 1, 0, 0, 1, 1, 1, 0, 0, 1,\n",
       "       1, 0, 1, 1, 1, 0, 0, 1, 1, 0, 1, 0, 1, 1, 1, 0, 0, 0, 0, 0, 0, 1,\n",
       "       0, 1, 0, 1, 1, 1, 0, 1, 1, 0, 1, 1, 0, 1, 0, 0, 0, 1, 0, 0, 0, 0,\n",
       "       1, 1, 0, 0, 0, 1, 0, 0, 1, 0, 0, 1, 1, 0, 1, 0, 1, 1, 1, 0, 1, 0,\n",
       "       0, 1, 0, 0, 0, 1, 0, 1, 1, 1, 0, 1, 1, 1, 1, 0, 1, 0, 1, 1, 0, 0,\n",
       "       1, 0, 1, 0, 1, 0, 1, 1, 1, 1, 1, 0, 1, 0, 0, 1, 0, 0, 1, 0, 1, 0,\n",
       "       0, 0, 1, 1, 0, 0, 0, 0, 0, 1, 1, 1, 0, 1, 0, 1, 1, 1, 1, 1, 0, 1,\n",
       "       1, 0, 1, 1, 0, 0, 0, 0, 0, 0, 1, 0, 1, 1, 1, 0, 0, 0, 0, 1, 1, 0,\n",
       "       1, 0, 1, 1, 1, 0, 0, 0, 1, 1, 1, 1, 1, 1, 0, 1, 1, 0, 1, 1, 0, 0,\n",
       "       1, 1, 0, 0, 1, 0, 0, 1, 1, 1, 1, 0, 1, 1, 1, 1, 0, 0, 1, 1, 1, 0,\n",
       "       0, 1, 1, 1, 0, 0, 0, 1, 1, 1, 1, 0, 0, 1, 0, 1, 1, 0, 1, 0, 0, 1,\n",
       "       0, 0, 1, 0, 0, 1, 0, 1, 1, 0, 0, 1, 0, 0, 1, 1, 0, 1, 1, 0, 1, 0,\n",
       "       1, 1, 1, 1, 0, 1, 0, 1, 1, 0, 1, 0, 1, 1, 0, 1, 0, 1, 1, 1, 1, 0,\n",
       "       0, 0, 0, 0, 0, 1, 1, 1, 0, 1, 1, 1, 0, 1, 1, 1, 0, 0, 1, 0, 1, 1,\n",
       "       0, 1, 0, 0, 0, 1, 1, 1, 1, 0, 0, 1, 0, 1, 0, 1, 0, 0, 0, 1, 0, 1,\n",
       "       0, 0, 0, 0, 1, 0, 0, 0, 0, 0, 1, 1, 0, 0, 1, 0, 0, 1, 1, 0, 0, 0,\n",
       "       0, 1, 1, 1, 1, 1, 0, 1, 1, 0, 1, 1, 1, 1, 1, 1, 0, 0, 1, 1, 1, 0,\n",
       "       1, 0, 0, 0, 1, 0, 0, 0, 0, 1, 0, 0, 0, 1, 1, 0, 1, 1, 0, 0, 0, 1,\n",
       "       1, 1, 0, 1, 0, 0, 0, 1, 1, 0, 0, 1, 1, 1, 1, 0, 0, 0, 0, 1, 1, 0,\n",
       "       1, 1, 1, 0, 0, 1, 1, 1, 0, 0, 1, 0, 1, 1, 1, 1, 1, 0, 0, 1, 1, 1,\n",
       "       0, 1, 0, 1, 0, 1, 0, 0, 0, 1, 1, 0, 0, 0, 1, 0, 1, 1, 0, 1, 0, 0,\n",
       "       0, 1, 0, 1, 0, 0, 0, 0, 0, 0, 1, 1, 1, 1, 0, 0, 0, 1, 1, 0, 0, 1,\n",
       "       1, 1, 1, 1, 0, 0, 0, 0, 0, 0, 0, 1, 1, 0, 1, 0, 0, 0, 1, 0, 1, 1,\n",
       "       1, 1, 1, 1, 0, 0, 0, 0, 0, 1, 0, 1, 0, 1, 1, 0, 1, 0, 1, 0, 0, 0,\n",
       "       1, 0, 0, 1, 1, 1, 1, 1, 1, 0, 0, 0, 0, 1, 0, 1, 1, 0, 0, 0, 1, 0,\n",
       "       1, 0, 1, 0, 1, 1, 0, 0, 0, 1, 1, 0, 0, 0, 0, 1, 0, 1, 0, 1, 0, 1,\n",
       "       0, 0, 1, 1, 0, 0, 1, 1, 0, 1, 0, 1, 0, 1, 1, 1, 0, 1, 0, 0, 0, 1,\n",
       "       1, 1, 0, 0, 1, 0, 1, 1, 0, 1, 0, 1, 1, 1, 1, 0, 0, 1, 1, 0, 0, 1,\n",
       "       1, 0, 1, 1, 1, 0, 0, 1, 0, 0, 0, 0, 0, 0, 1, 1, 0, 0, 1, 1, 1, 1,\n",
       "       1, 1, 0, 1, 1, 1, 0, 1, 1, 0, 0, 1, 1, 0, 1, 1, 0, 0, 1, 0, 0, 1,\n",
       "       1, 1, 0, 1, 1, 1, 0, 0, 0, 1, 1, 0, 0, 1, 0, 1, 0, 0, 0, 0, 0, 0,\n",
       "       0, 0, 0, 1, 1, 1, 1, 1, 1, 0, 0, 1, 0, 1, 1, 0, 1, 0, 1, 1, 0, 1,\n",
       "       0, 0, 1, 1, 0, 0, 0, 1, 0, 0, 0, 0, 1, 0, 1, 0, 0, 0, 1, 0, 0, 0,\n",
       "       1, 0, 0, 1, 1, 0, 0, 0, 0, 1, 1, 1, 0, 1, 1, 1, 0, 1, 0, 1, 0, 0,\n",
       "       1, 1, 1, 0, 1, 0, 0, 1, 0, 1, 1, 0, 0, 1, 0, 1, 1, 0, 1, 0, 0, 0,\n",
       "       0, 0, 1, 1, 0, 1, 1, 1, 1, 0, 0, 1, 0, 1, 0, 1, 1, 1, 1, 1, 0, 0,\n",
       "       0, 0, 0, 0, 0, 0, 0, 1, 1, 1, 1, 0, 0, 1, 0, 1, 1, 1, 0, 0, 0, 0,\n",
       "       0, 0, 0, 1, 0, 1, 1, 1, 1, 0, 1, 1, 1, 0, 0, 1, 1, 0, 1, 0, 1, 0,\n",
       "       1, 0, 0, 1, 1, 0, 1, 1, 1, 1, 1, 1, 0, 0, 0, 1, 0, 1, 1, 1, 1, 0,\n",
       "       0, 1, 0, 0, 1, 0, 1, 1, 1, 0, 1, 1, 0, 1, 0, 0, 1, 0, 0, 0, 1, 0,\n",
       "       0, 1, 0, 0, 1, 0, 0, 1, 1, 1, 1, 1, 1, 0, 0, 1, 1, 0, 0, 1, 0, 1,\n",
       "       1, 0, 1, 0, 0, 0, 0, 0, 0, 0, 0, 1, 0, 1, 0, 1, 0, 1, 1, 1, 0, 1,\n",
       "       1, 1, 1, 1, 0, 0, 0, 0, 0, 0, 1, 0, 0, 1, 1, 1, 0, 0, 0, 0, 1, 1,\n",
       "       0, 0, 0, 1, 1, 0, 0, 1, 1, 0, 1, 0, 1, 0, 1, 0, 1, 0, 1, 0, 1, 0,\n",
       "       0, 1, 0, 1, 1, 1, 0, 1, 0, 0, 1, 1, 1, 0, 1, 0, 0, 1, 1, 0, 0, 1,\n",
       "       1, 0, 0, 0, 0, 1, 1, 0, 0, 0])"
      ]
     },
     "execution_count": 6,
     "metadata": {},
     "output_type": "execute_result"
    }
   ],
   "source": [
    "y"
   ]
  },
  {
   "cell_type": "markdown",
   "id": "b7ff5aba",
   "metadata": {},
   "source": [
    "Menjalankan contoh di atas akan membuat dataset dan mengonfirmasi jumlah sampel dan fitur yang diharapkan.(di atas)"
   ]
  },
  {
   "cell_type": "markdown",
   "id": "048a9e24",
   "metadata": {},
   "source": [
    "Kita akan menggunakan *make_regression() function* untuk membuat dataset uji regresi.\n",
    "Seperti dataset klasifikasi, dataset regresi akan memiliki 1.000 contoh, dengan 10 fitur input, lima di antaranya akan informatif dan lima sisanya akan redundan."
   ]
  },
  {
   "cell_type": "code",
   "execution_count": 7,
   "id": "40f018eb",
   "metadata": {},
   "outputs": [
    {
     "name": "stdout",
     "output_type": "stream",
     "text": [
      "(1000, 10) (1000,)\n"
     ]
    }
   ],
   "source": [
    "# test regression dataset\n",
    "from sklearn.datasets import make_regression\n",
    "# define dataset\n",
    "X, y = make_regression(n_samples=1000, n_features=10, n_informative=5, random_state=1)\n",
    "# summarize the dataset\n",
    "print(X.shape, y.shape)"
   ]
  },
  {
   "cell_type": "markdown",
   "id": "97ae0b39",
   "metadata": {},
   "source": [
    "Menjalankan contoh akan membuat dataset dan mengonfirmasi jumlah sampel dan fitur yang diharapkan.\n",
    "Selanjutnya, mari kita lihat lebih dekat koefisien sebagai skor *importance*."
   ]
  },
  {
   "cell_type": "markdown",
   "id": "5f4d8f8a",
   "metadata": {},
   "source": [
    "### Koefisien sebagai Feature Importance\n",
    "Algoritma ML Linier cocok dengan model di mana prediksinya adalah jumlah bobot dari nilai input.\n",
    "\n",
    "Contohnya termasuk regresi linier, regresi logistik, dan ekstensi yang menambahkan regularisasi, seperti regresi punggungan dan jaring elastis.\n",
    "\n",
    "Semua algoritma ini menemukan satu set koefisien untuk digunakan dalam jumlah tertimbang untuk membuat prediksi. Koefisien ini dapat digunakan secara langsung sebagai tipe kasar dari skor kepentingan fitur.\n",
    "\n",
    "Mari kita lihat lebih dekat menggunakan koefisien sebagai  *Feature Importance* untuk klasifikasi dan regresi. Kami akan menyesuaikan model pada dataset untuk menemukan koefisien, kemudian meringkas skor importance untuk setiap fitur input dan akhirnya membuat diagram batang untuk mendapatkan gambaran tentang *importance* relatif fitur tersebut.\n",
    "\n",
    "### Feature Importance Regresi Linier\n",
    "Kita dapat memasukkan model LinearRegression pada dataset regresi dan mengambil  coeff_ property yang berisi koefisien yang ditemukan untuk setiap variabel input.\n",
    "\n",
    "Koefisien ini dapat memberikan dasar untuk skor kepentingan fitur kasar. Ini mengasumsikan bahwa variabel input memiliki skala yang sama atau telah diskalakan sebelum memasang model.\n",
    "\n",
    "Contoh lengkap koefisien regresi linier untuk kepentingan fitur tercantum di bawah ini."
   ]
  },
  {
   "cell_type": "code",
   "execution_count": 8,
   "id": "eeabfece",
   "metadata": {},
   "outputs": [
    {
     "name": "stdout",
     "output_type": "stream",
     "text": [
      "Feature: 0, Score: -0.00000\n",
      "Feature: 1, Score: 12.44483\n",
      "Feature: 2, Score: 0.00000\n",
      "Feature: 3, Score: -0.00000\n",
      "Feature: 4, Score: 93.32225\n",
      "Feature: 5, Score: 86.50811\n",
      "Feature: 6, Score: 26.74607\n",
      "Feature: 7, Score: 3.28535\n",
      "Feature: 8, Score: 0.00000\n",
      "Feature: 9, Score: -0.00000\n"
     ]
    },
    {
     "data": {
      "image/png": "[encoded data removed]",
      "text/plain": [
       "<Figure size 432x288 with 1 Axes>"
      ]
     },
     "metadata": {
      "needs_background": "light"
     },
     "output_type": "display_data"
    }
   ],
   "source": [
    "# linear regression feature importance\n",
    "from sklearn.datasets import make_regression\n",
    "from sklearn.linear_model import LinearRegression\n",
    "from matplotlib import pyplot\n",
    "# define dataset\n",
    "X, y = make_regression(n_samples=1000, n_features=10, n_informative=5, random_state=1)\n",
    "# define the model\n",
    "model = LinearRegression()\n",
    "# fit the model\n",
    "model.fit(X, y)\n",
    "# get importance\n",
    "importance = model.coef_\n",
    "# summarize feature importance\n",
    "for i,v in enumerate(importance):\n",
    "\tprint('Feature: %0d, Score: %.5f' % (i,v))\n",
    "# plot feature importance\n",
    "pyplot.bar([x for x in range(len(importance))], importance)\n",
    "pyplot.show()"
   ]
  },
  {
   "cell_type": "markdown",
   "id": "632d1b7d",
   "metadata": {},
   "source": [
    "Menjalankan contoh sesuai dengan model, lalu melaporkan nilai koefisien untuk setiap fitur.\n",
    "\n",
    "Catatan: Hasil Anda mungkin berbeda karena sifat stokastik dari algoritme atau prosedur evaluasi, atau perbedaan dalam presisi numerik. Pertimbangkan menjalankan contoh beberapa kali dan membandingkan hasil rata-rata.\n",
    "\n",
    "Skor menunjukkan bahwa model menemukan lima fitur penting dan menandai semua fitur lainnya dengan koefisien nol, yang pada dasarnya menghapusnya dari model."
   ]
  },
  {
   "cell_type": "markdown",
   "id": "d0c5dbd0",
   "metadata": {},
   "source": [
    "Masih ada feature importance lainnya, seperti Decision Tree; Regresi Logistik; Random Forest; XGBoost, Permutasi. Sumber: https://machinelearningmastery.com/calculate-feature-importance-with-python/  "
   ]
  },
  {
   "cell_type": "code",
   "execution_count": null,
   "id": "dc8c7783",
   "metadata": {},
   "outputs": [],
   "source": []
  }
 ],
 "metadata": {
  "kernelspec": {
   "display_name": "Python 3",
   "language": "python",
   "name": "python3"
  },
  "language_info": {
   "codemirror_mode": {
    "name": "ipython",
    "version": 3
   },
   "file_extension": ".py",
   "mimetype": "text/x-python",
   "name": "python",
   "nbconvert_exporter": "python",
   "pygments_lexer": "ipython3",
   "version": "3.8.8"
  }
 },
 "nbformat": 4,
 "nbformat_minor": 5
}
