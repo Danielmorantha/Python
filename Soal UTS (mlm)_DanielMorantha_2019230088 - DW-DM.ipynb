{
 "cells": [
  {
   "cell_type": "markdown",
   "id": "6065c550",
   "metadata": {},
   "source": [
    "# <center>SOAL UTS (Malam) : Data Warehouse dan Data Mining</center>\n",
    "\n",
    "- NIM : 2019230088\n",
    "- Nama : Daniel Morantha"
   ]
  },
  {
   "cell_type": "markdown",
   "id": "605560c9",
   "metadata": {},
   "source": [
    "### Soal 1 :"
   ]
  },
  {
   "cell_type": "markdown",
   "id": "8c096a30",
   "metadata": {},
   "source": [
    "Sebutkan 6 tahapan CRISP-DM dan jelaskan secara ringkas apa yang dilakukan pada setiap tahapan CRISP-DM tersebut :"
   ]
  },
  {
   "cell_type": "markdown",
   "id": "60dec2fc",
   "metadata": {},
   "source": [
    "#### Jawaban  soal 1 di sini :\n",
    "- Tahap 1 : ...\n",
    "&nbsp; <i>Business Understanding</i> <br>\n",
    "<b>Penjelasan</b> : Pada tahap ini melakukan pemahaman permasalahan untuk dapat diselesaikan menggunakan <i>datamining</i> <br>\n",
    "dapatkah permasalahan diselesaikan dengan datamining? <br>\n",
    "- Tahap 2 : ...\n",
    "&nbsp; <i>Data Understanding</i><br>\n",
    "<b>Penjelasan</b> : Pada tahap ini menindaklanjuti tahap <i>Business Understanding</i> setelah permasalahan dapat diselesaikan dengan <i>datamining</i> dan sudah mendapatkan data untuk diolah, tahap ini berisikan mengetahui deskripsi data, melakukan hubungan korelasi data, memverifikasi data, memvisualisasikan data. Dilakukan setelah masalah bisnis terdefinisikan sebagai hasil tahapan <i>Business Understanding</i><br>\n",
    "- Tahap 3 : ...\n",
    "&nbsp; <i>Data Preparation</i><br>\n",
    "<b>Penjelasan</b> : Penentuan objek data dan pembersihan data<br>\n",
    "- Tahap 4 : ...\n",
    "&nbsp; <i>Modeling</i><br>\n",
    "<b>Penjelasan</b> : Pada tahap ini dilakukan metode statistika dan Machine Learning untuk penentuan terhadap teknik data mining, alat bantu data mining, dan algoritma data mining yang akan diterapkan <br>\n",
    "- Tahap 5 : ...\n",
    "&nbsp; <i>Evaluation</i><br>\n",
    "<b>Penjelasan</b> : Evaluasi dilakukan terhadap model yang diterapkan pada tahap sebelumnya dengan tujuan agar model yang ditentukan dapat sesuai dengan tujuan yang ingin dicapai dalam tahap pertama <br>\n",
    "- Tahap 6 : ...\n",
    "&nbsp; <i>Deployment</i><br>\n",
    "<b>Penjelasan</b> : Perencanaan untuk Deployment dimulai selama Business Understanding dan harus menggabungkan tidak hanya bagaimana untuk menghasilkan nilai model, tetapi juga bagaimana mengkonversi skor keputusan, dan bagaimana untuk menggabungkan keputusan dalam sistem operasional.<br>"
   ]
  },
  {
   "cell_type": "markdown",
   "id": "4426ee21",
   "metadata": {},
   "source": [
    "### Soal 2"
   ]
  },
  {
   "cell_type": "markdown",
   "id": "c2bfccc2",
   "metadata": {},
   "source": [
    "Datamining membutuhkan data warehouse, jelaskan apakah ini wajib atau ada pilihan lain ?"
   ]
  },
  {
   "cell_type": "markdown",
   "id": "c6cf4592",
   "metadata": {},
   "source": [
    "#### Jawaban  soal 2 di sini :\n",
    "Wajib. Karena untuk menggerekan <i>datamining</i> membutuhkan <i>datawarehouse</i> yang dikenal gudang data, tanpa adanya gudang data data mining tidak dapat bergerak, karena tidak ada data yang bisa diolah."
   ]
  },
  {
   "cell_type": "markdown",
   "id": "ee4e85f9",
   "metadata": {},
   "source": [
    "### Soal 3"
   ]
  },
  {
   "cell_type": "markdown",
   "id": "550db6d8",
   "metadata": {},
   "source": [
    "Diketahui matriks berikut :\n",
    "<img width=15% src=http://4.bp.blogspot.com/-hyPihfqeZsk/Tn3Z_esvPyI/AAAAAAAABaE/BDtkAyxLfqk/s400/matrik_2x3_ab.png>\n",
    "\n",
    "Buatkan program perkaliannya (A x B) dalam python menggunakan library numpy !"
   ]
  },
  {
   "cell_type": "code",
   "execution_count": 1,
   "id": "f33cfa5a",
   "metadata": {},
   "outputs": [
    {
     "name": "stdout",
     "output_type": "stream",
     "text": [
      "[[1 2 3]\n",
      " [4 5 6]]\n",
      "\n",
      "[[ 7  8  9]\n",
      " [10 11 12]]\n",
      "\n",
      "[[ 7 16 27]\n",
      " [40 55 72]]\n"
     ]
    }
   ],
   "source": [
    "import numpy as np\n",
    "\n",
    "A = np.array([[1, 2, 3], [4, 5, 6]])\n",
    "B = np.array([[7, 8, 9], [10, 11, 12]])\n",
    "\n",
    "print(A)\n",
    "print()\n",
    "print(B)\n",
    "print()\n",
    "\n",
    "Hasil = A * B\n",
    "print(Hasil)"
   ]
  },
  {
   "cell_type": "markdown",
   "id": "4b8fd74b",
   "metadata": {},
   "source": [
    "### Soal 4"
   ]
  },
  {
   "cell_type": "markdown",
   "id": "c4e20b9f",
   "metadata": {},
   "source": [
    "Tuliskan contoh kasus yang dapat dipecahkan secara datamining masing-masing untuk kasus : Regresi, Klasifikasi dan Clustering (masing-masing 1)"
   ]
  },
  {
   "cell_type": "markdown",
   "id": "5359a7a7",
   "metadata": {},
   "source": [
    "#### Jawaban soal 4 di sini"
   ]
  },
  {
   "cell_type": "markdown",
   "id": "a71b25cf",
   "metadata": {},
   "source": [
    "Contoh kasus Regresi : Penjualan barang, barang mana yang nantinya mengalami peningkatan penjualan di masa yang akan datang berdasarkan data yang ada <br>\n",
    "<br>Contoh kasus Klasifikasi : seorang nasabah yang ingin meminjam uang ke bank apakah nasabah baik atau buruk, nasabah akan mengembalikan pinjaman atau tidak, berdasarkan data nasabah masa lalu. Bisa ditentukan dari segi pendapatan, bisa juga ditentukan dari pekerjaan. <br>\n",
    "<br>Contoh kasus Clustering : Mahasiswa berdasarkan pencapaian nilai, nilai 90-100 dengan kelompok A nilai 80-89 dengan Kelompok B, Nilai 70-79 dengan kelompok C,dst. <br>\n"
   ]
  },
  {
   "cell_type": "markdown",
   "id": "f6a6f5e4",
   "metadata": {},
   "source": [
    "### Soal 5"
   ]
  },
  {
   "cell_type": "markdown",
   "id": "08298810",
   "metadata": {},
   "source": [
    "Download file csv melalui link berikut :    <a href=https://www.w3schools.com/python/pandas/dirtydata.csv>download</a>"
   ]
  },
  {
   "cell_type": "code",
   "execution_count": 2,
   "id": "f71920d6",
   "metadata": {},
   "outputs": [
    {
     "name": "stdout",
     "output_type": "stream",
     "text": [
      " Volume in drive C is OS\n",
      " Volume Serial Number is EC90-DFF4\n",
      "\n",
      " Directory of C:\\Users\\ASUS\\LatihanPython_DanielMorantha\\pa herianto\\UTS_DanielMorantha_2019230088\n",
      "\n",
      "11/23/2021  08:07 PM    <DIR>          .\n",
      "11/23/2021  08:07 PM    <DIR>          ..\n",
      "11/23/2021  07:02 PM    <DIR>          .ipynb_checkpoints\n",
      "11/23/2021  07:47 PM               965 dirtydata.csv\n",
      "11/23/2021  08:07 PM            35,192 Soal UTS (mlm)_DanielMorantha_2019230088 - DW-DM.ipynb\n",
      "               2 File(s)         36,157 bytes\n",
      "               3 Dir(s)  19,808,518,144 bytes free\n"
     ]
    }
   ],
   "source": [
    "#pastikan file : ditrydata.csv sudah ada\n",
    "\n",
    "!dir"
   ]
  },
  {
   "cell_type": "markdown",
   "id": "f9bd2361",
   "metadata": {},
   "source": [
    "***Soal 5.1 - Buka file csv tersebut dengan library pandas***"
   ]
  },
  {
   "cell_type": "code",
   "execution_count": 3,
   "id": "145f7d62",
   "metadata": {},
   "outputs": [
    {
     "data": {
      "text/html": [
       "<div>\n",
       "<style scoped>\n",
       "    .dataframe tbody tr th:only-of-type {\n",
       "        vertical-align: middle;\n",
       "    }\n",
       "\n",
       "    .dataframe tbody tr th {\n",
       "        vertical-align: top;\n",
       "    }\n",
       "\n",
       "    .dataframe thead th {\n",
       "        text-align: right;\n",
       "    }\n",
       "</style>\n",
       "<table border=\"1\" class=\"dataframe\">\n",
       "  <thead>\n",
       "    <tr style=\"text-align: right;\">\n",
       "      <th></th>\n",
       "      <th>Duration</th>\n",
       "      <th>Date</th>\n",
       "      <th>Pulse</th>\n",
       "      <th>Maxpulse</th>\n",
       "      <th>Calories</th>\n",
       "    </tr>\n",
       "  </thead>\n",
       "  <tbody>\n",
       "    <tr>\n",
       "      <th>0</th>\n",
       "      <td>60</td>\n",
       "      <td>'2020/12/01'</td>\n",
       "      <td>110</td>\n",
       "      <td>130</td>\n",
       "      <td>409.1</td>\n",
       "    </tr>\n",
       "    <tr>\n",
       "      <th>1</th>\n",
       "      <td>60</td>\n",
       "      <td>'2020/12/02'</td>\n",
       "      <td>117</td>\n",
       "      <td>145</td>\n",
       "      <td>479.0</td>\n",
       "    </tr>\n",
       "    <tr>\n",
       "      <th>2</th>\n",
       "      <td>60</td>\n",
       "      <td>'2020/12/03'</td>\n",
       "      <td>103</td>\n",
       "      <td>135</td>\n",
       "      <td>340.0</td>\n",
       "    </tr>\n",
       "    <tr>\n",
       "      <th>3</th>\n",
       "      <td>45</td>\n",
       "      <td>'2020/12/04'</td>\n",
       "      <td>109</td>\n",
       "      <td>175</td>\n",
       "      <td>282.4</td>\n",
       "    </tr>\n",
       "    <tr>\n",
       "      <th>4</th>\n",
       "      <td>45</td>\n",
       "      <td>'2020/12/05'</td>\n",
       "      <td>117</td>\n",
       "      <td>148</td>\n",
       "      <td>406.0</td>\n",
       "    </tr>\n",
       "  </tbody>\n",
       "</table>\n",
       "</div>"
      ],
      "text/plain": [
       "   Duration          Date  Pulse  Maxpulse  Calories\n",
       "0        60  '2020/12/01'    110       130     409.1\n",
       "1        60  '2020/12/02'    117       145     479.0\n",
       "2        60  '2020/12/03'    103       135     340.0\n",
       "3        45  '2020/12/04'    109       175     282.4\n",
       "4        45  '2020/12/05'    117       148     406.0"
      ]
     },
     "execution_count": 3,
     "metadata": {},
     "output_type": "execute_result"
    }
   ],
   "source": [
    "# Jawaban soal 5.1\n",
    "# lengkapi koding di bawah\n",
    "\n",
    "import pandas as pd\n",
    "\n",
    "path='dirtydata.csv'\n",
    "df=pd.read_csv(path)\n",
    "df.head()"
   ]
  },
  {
   "cell_type": "markdown",
   "id": "d7329642",
   "metadata": {},
   "source": [
    "Sehingga hasilnya seperti di atas."
   ]
  },
  {
   "cell_type": "markdown",
   "id": "47e8fe68",
   "metadata": {},
   "source": [
    "***Soal 5.2 - jenis-jenis tipe data dari masing-masing variabel***"
   ]
  },
  {
   "cell_type": "code",
   "execution_count": 4,
   "id": "ec699fa8",
   "metadata": {},
   "outputs": [
    {
     "name": "stdout",
     "output_type": "stream",
     "text": [
      "Duration      int64\n",
      "Date         object\n",
      "Pulse         int64\n",
      "Maxpulse      int64\n",
      "Calories    float64\n",
      "dtype: object\n"
     ]
    }
   ],
   "source": [
    "#Jawaban  Soal 5.2 di sini\n",
    "\n",
    "print(df.dtypes)"
   ]
  },
  {
   "cell_type": "markdown",
   "id": "204697f1",
   "metadata": {},
   "source": [
    "***Soal 5.3 - Melihat deskripsi dataset***"
   ]
  },
  {
   "cell_type": "code",
   "execution_count": 5,
   "id": "8257d46c",
   "metadata": {},
   "outputs": [
    {
     "data": {
      "text/html": [
       "<div>\n",
       "<style scoped>\n",
       "    .dataframe tbody tr th:only-of-type {\n",
       "        vertical-align: middle;\n",
       "    }\n",
       "\n",
       "    .dataframe tbody tr th {\n",
       "        vertical-align: top;\n",
       "    }\n",
       "\n",
       "    .dataframe thead th {\n",
       "        text-align: right;\n",
       "    }\n",
       "</style>\n",
       "<table border=\"1\" class=\"dataframe\">\n",
       "  <thead>\n",
       "    <tr style=\"text-align: right;\">\n",
       "      <th></th>\n",
       "      <th>Duration</th>\n",
       "      <th>Pulse</th>\n",
       "      <th>Maxpulse</th>\n",
       "      <th>Calories</th>\n",
       "    </tr>\n",
       "  </thead>\n",
       "  <tbody>\n",
       "    <tr>\n",
       "      <th>count</th>\n",
       "      <td>32.000000</td>\n",
       "      <td>32.000000</td>\n",
       "      <td>32.000000</td>\n",
       "      <td>30.000000</td>\n",
       "    </tr>\n",
       "    <tr>\n",
       "      <th>mean</th>\n",
       "      <td>68.437500</td>\n",
       "      <td>103.500000</td>\n",
       "      <td>128.500000</td>\n",
       "      <td>304.680000</td>\n",
       "    </tr>\n",
       "    <tr>\n",
       "      <th>std</th>\n",
       "      <td>70.039591</td>\n",
       "      <td>7.832933</td>\n",
       "      <td>12.998759</td>\n",
       "      <td>66.003779</td>\n",
       "    </tr>\n",
       "    <tr>\n",
       "      <th>min</th>\n",
       "      <td>30.000000</td>\n",
       "      <td>90.000000</td>\n",
       "      <td>101.000000</td>\n",
       "      <td>195.100000</td>\n",
       "    </tr>\n",
       "    <tr>\n",
       "      <th>25%</th>\n",
       "      <td>60.000000</td>\n",
       "      <td>100.000000</td>\n",
       "      <td>120.000000</td>\n",
       "      <td>250.700000</td>\n",
       "    </tr>\n",
       "    <tr>\n",
       "      <th>50%</th>\n",
       "      <td>60.000000</td>\n",
       "      <td>102.500000</td>\n",
       "      <td>127.500000</td>\n",
       "      <td>291.200000</td>\n",
       "    </tr>\n",
       "    <tr>\n",
       "      <th>75%</th>\n",
       "      <td>60.000000</td>\n",
       "      <td>106.500000</td>\n",
       "      <td>132.250000</td>\n",
       "      <td>343.975000</td>\n",
       "    </tr>\n",
       "    <tr>\n",
       "      <th>max</th>\n",
       "      <td>450.000000</td>\n",
       "      <td>130.000000</td>\n",
       "      <td>175.000000</td>\n",
       "      <td>479.000000</td>\n",
       "    </tr>\n",
       "  </tbody>\n",
       "</table>\n",
       "</div>"
      ],
      "text/plain": [
       "         Duration       Pulse    Maxpulse    Calories\n",
       "count   32.000000   32.000000   32.000000   30.000000\n",
       "mean    68.437500  103.500000  128.500000  304.680000\n",
       "std     70.039591    7.832933   12.998759   66.003779\n",
       "min     30.000000   90.000000  101.000000  195.100000\n",
       "25%     60.000000  100.000000  120.000000  250.700000\n",
       "50%     60.000000  102.500000  127.500000  291.200000\n",
       "75%     60.000000  106.500000  132.250000  343.975000\n",
       "max    450.000000  130.000000  175.000000  479.000000"
      ]
     },
     "execution_count": 5,
     "metadata": {},
     "output_type": "execute_result"
    }
   ],
   "source": [
    "#jawaban soal 5.3 di sini\n",
    "\n",
    "df.describe()"
   ]
  },
  {
   "cell_type": "markdown",
   "id": "90ee9d12",
   "metadata": {},
   "source": [
    "***Soal 5.4 - Melihat file histogram untuk atribut : Pulse, dengan bins=15***"
   ]
  },
  {
   "cell_type": "code",
   "execution_count": 6,
   "id": "090fb880",
   "metadata": {},
   "outputs": [
    {
     "data": {
      "image/png": "[encoded data removed]",
      "text/plain": [
       "<Figure size 432x288 with 1 Axes>"
      ]
     },
     "metadata": {
      "needs_background": "light"
     },
     "output_type": "display_data"
    }
   ],
   "source": [
    "#jawaban soal 5.4\n",
    "#lengkapi titik2 koding berikut\n",
    "import pandas as pd\n",
    "import numpy as np\n",
    "import matplotlib.pyplot as plt\n",
    "import seaborn as sns\n",
    "\n",
    "df.hist(column='Pulse', bins=15);"
   ]
  },
  {
   "cell_type": "markdown",
   "id": "d4b8d297",
   "metadata": {},
   "source": [
    "***Soal 5.5 menghapus colums :  Calories***"
   ]
  },
  {
   "cell_type": "code",
   "execution_count": 7,
   "id": "a02495e7",
   "metadata": {},
   "outputs": [
    {
     "data": {
      "text/html": [
       "<div>\n",
       "<style scoped>\n",
       "    .dataframe tbody tr th:only-of-type {\n",
       "        vertical-align: middle;\n",
       "    }\n",
       "\n",
       "    .dataframe tbody tr th {\n",
       "        vertical-align: top;\n",
       "    }\n",
       "\n",
       "    .dataframe thead th {\n",
       "        text-align: right;\n",
       "    }\n",
       "</style>\n",
       "<table border=\"1\" class=\"dataframe\">\n",
       "  <thead>\n",
       "    <tr style=\"text-align: right;\">\n",
       "      <th></th>\n",
       "      <th>Duration</th>\n",
       "      <th>Date</th>\n",
       "      <th>Pulse</th>\n",
       "      <th>Maxpulse</th>\n",
       "    </tr>\n",
       "  </thead>\n",
       "  <tbody>\n",
       "    <tr>\n",
       "      <th>0</th>\n",
       "      <td>60</td>\n",
       "      <td>'2020/12/01'</td>\n",
       "      <td>110</td>\n",
       "      <td>130</td>\n",
       "    </tr>\n",
       "    <tr>\n",
       "      <th>1</th>\n",
       "      <td>60</td>\n",
       "      <td>'2020/12/02'</td>\n",
       "      <td>117</td>\n",
       "      <td>145</td>\n",
       "    </tr>\n",
       "    <tr>\n",
       "      <th>2</th>\n",
       "      <td>60</td>\n",
       "      <td>'2020/12/03'</td>\n",
       "      <td>103</td>\n",
       "      <td>135</td>\n",
       "    </tr>\n",
       "    <tr>\n",
       "      <th>3</th>\n",
       "      <td>45</td>\n",
       "      <td>'2020/12/04'</td>\n",
       "      <td>109</td>\n",
       "      <td>175</td>\n",
       "    </tr>\n",
       "    <tr>\n",
       "      <th>4</th>\n",
       "      <td>45</td>\n",
       "      <td>'2020/12/05'</td>\n",
       "      <td>117</td>\n",
       "      <td>148</td>\n",
       "    </tr>\n",
       "  </tbody>\n",
       "</table>\n",
       "</div>"
      ],
      "text/plain": [
       "   Duration          Date  Pulse  Maxpulse\n",
       "0        60  '2020/12/01'    110       130\n",
       "1        60  '2020/12/02'    117       145\n",
       "2        60  '2020/12/03'    103       135\n",
       "3        45  '2020/12/04'    109       175\n",
       "4        45  '2020/12/05'    117       148"
      ]
     },
     "execution_count": 7,
     "metadata": {},
     "output_type": "execute_result"
    }
   ],
   "source": [
    "#Jawaban 5.5 di sini\n",
    "#lengkap titik2\n",
    "\n",
    "to_drop = ['Calories']\n",
    "df.drop(to_drop, inplace=True, axis=1)\n",
    "df.head()"
   ]
  },
  {
   "cell_type": "markdown",
   "id": "fb302131",
   "metadata": {},
   "source": [
    "***Soal 5.6 Mengganti miss data atau yang bernilai NULL (na)***"
   ]
  },
  {
   "cell_type": "code",
   "execution_count": 8,
   "id": "76f2b956",
   "metadata": {},
   "outputs": [
    {
     "name": "stdout",
     "output_type": "stream",
     "text": [
      "<class 'pandas.core.frame.DataFrame'>\n",
      "RangeIndex: 32 entries, 0 to 31\n",
      "Data columns (total 4 columns):\n",
      " #   Column    Non-Null Count  Dtype \n",
      "---  ------    --------------  ----- \n",
      " 0   Duration  32 non-null     int64 \n",
      " 1   Date      31 non-null     object\n",
      " 2   Pulse     32 non-null     int64 \n",
      " 3   Maxpulse  32 non-null     int64 \n",
      "dtypes: int64(3), object(1)\n",
      "memory usage: 1.1+ KB\n"
     ]
    }
   ],
   "source": [
    "#Cek terlebih dahulu dengan df.info()\n",
    "#saat di RUN tampak pada atrbut Date jumlah datanya hanya 31 yang berarti memiliki nilai null\n",
    "\n",
    "df.info()"
   ]
  },
  {
   "cell_type": "code",
   "execution_count": 9,
   "id": "f020bbb4",
   "metadata": {},
   "outputs": [],
   "source": [
    "#Ganti data tanggal yang kosong tersebut dengan tanggal : '2020/12/20'\n",
    "x='2020/12/20'\n",
    "df[\"Date\"].fillna(x, inplace = True)"
   ]
  },
  {
   "cell_type": "code",
   "execution_count": 10,
   "id": "a14c592a",
   "metadata": {},
   "outputs": [
    {
     "data": {
      "text/html": [
       "<div>\n",
       "<style scoped>\n",
       "    .dataframe tbody tr th:only-of-type {\n",
       "        vertical-align: middle;\n",
       "    }\n",
       "\n",
       "    .dataframe tbody tr th {\n",
       "        vertical-align: top;\n",
       "    }\n",
       "\n",
       "    .dataframe thead th {\n",
       "        text-align: right;\n",
       "    }\n",
       "</style>\n",
       "<table border=\"1\" class=\"dataframe\">\n",
       "  <thead>\n",
       "    <tr style=\"text-align: right;\">\n",
       "      <th></th>\n",
       "      <th>Duration</th>\n",
       "      <th>Date</th>\n",
       "      <th>Pulse</th>\n",
       "      <th>Maxpulse</th>\n",
       "    </tr>\n",
       "  </thead>\n",
       "  <tbody>\n",
       "    <tr>\n",
       "      <th>0</th>\n",
       "      <td>60</td>\n",
       "      <td>'2020/12/01'</td>\n",
       "      <td>110</td>\n",
       "      <td>130</td>\n",
       "    </tr>\n",
       "    <tr>\n",
       "      <th>1</th>\n",
       "      <td>60</td>\n",
       "      <td>'2020/12/02'</td>\n",
       "      <td>117</td>\n",
       "      <td>145</td>\n",
       "    </tr>\n",
       "    <tr>\n",
       "      <th>2</th>\n",
       "      <td>60</td>\n",
       "      <td>'2020/12/03'</td>\n",
       "      <td>103</td>\n",
       "      <td>135</td>\n",
       "    </tr>\n",
       "    <tr>\n",
       "      <th>3</th>\n",
       "      <td>45</td>\n",
       "      <td>'2020/12/04'</td>\n",
       "      <td>109</td>\n",
       "      <td>175</td>\n",
       "    </tr>\n",
       "    <tr>\n",
       "      <th>4</th>\n",
       "      <td>45</td>\n",
       "      <td>'2020/12/05'</td>\n",
       "      <td>117</td>\n",
       "      <td>148</td>\n",
       "    </tr>\n",
       "    <tr>\n",
       "      <th>5</th>\n",
       "      <td>60</td>\n",
       "      <td>'2020/12/06'</td>\n",
       "      <td>102</td>\n",
       "      <td>127</td>\n",
       "    </tr>\n",
       "    <tr>\n",
       "      <th>6</th>\n",
       "      <td>60</td>\n",
       "      <td>'2020/12/07'</td>\n",
       "      <td>110</td>\n",
       "      <td>136</td>\n",
       "    </tr>\n",
       "    <tr>\n",
       "      <th>7</th>\n",
       "      <td>450</td>\n",
       "      <td>'2020/12/08'</td>\n",
       "      <td>104</td>\n",
       "      <td>134</td>\n",
       "    </tr>\n",
       "    <tr>\n",
       "      <th>8</th>\n",
       "      <td>30</td>\n",
       "      <td>'2020/12/09'</td>\n",
       "      <td>109</td>\n",
       "      <td>133</td>\n",
       "    </tr>\n",
       "    <tr>\n",
       "      <th>9</th>\n",
       "      <td>60</td>\n",
       "      <td>'2020/12/10'</td>\n",
       "      <td>98</td>\n",
       "      <td>124</td>\n",
       "    </tr>\n",
       "    <tr>\n",
       "      <th>10</th>\n",
       "      <td>60</td>\n",
       "      <td>'2020/12/11'</td>\n",
       "      <td>103</td>\n",
       "      <td>147</td>\n",
       "    </tr>\n",
       "    <tr>\n",
       "      <th>11</th>\n",
       "      <td>60</td>\n",
       "      <td>'2020/12/12'</td>\n",
       "      <td>100</td>\n",
       "      <td>120</td>\n",
       "    </tr>\n",
       "    <tr>\n",
       "      <th>12</th>\n",
       "      <td>60</td>\n",
       "      <td>'2020/12/12'</td>\n",
       "      <td>100</td>\n",
       "      <td>120</td>\n",
       "    </tr>\n",
       "    <tr>\n",
       "      <th>13</th>\n",
       "      <td>60</td>\n",
       "      <td>'2020/12/13'</td>\n",
       "      <td>106</td>\n",
       "      <td>128</td>\n",
       "    </tr>\n",
       "    <tr>\n",
       "      <th>14</th>\n",
       "      <td>60</td>\n",
       "      <td>'2020/12/14'</td>\n",
       "      <td>104</td>\n",
       "      <td>132</td>\n",
       "    </tr>\n",
       "    <tr>\n",
       "      <th>15</th>\n",
       "      <td>60</td>\n",
       "      <td>'2020/12/15'</td>\n",
       "      <td>98</td>\n",
       "      <td>123</td>\n",
       "    </tr>\n",
       "    <tr>\n",
       "      <th>16</th>\n",
       "      <td>60</td>\n",
       "      <td>'2020/12/16'</td>\n",
       "      <td>98</td>\n",
       "      <td>120</td>\n",
       "    </tr>\n",
       "    <tr>\n",
       "      <th>17</th>\n",
       "      <td>60</td>\n",
       "      <td>'2020/12/17'</td>\n",
       "      <td>100</td>\n",
       "      <td>120</td>\n",
       "    </tr>\n",
       "    <tr>\n",
       "      <th>18</th>\n",
       "      <td>45</td>\n",
       "      <td>'2020/12/18'</td>\n",
       "      <td>90</td>\n",
       "      <td>112</td>\n",
       "    </tr>\n",
       "    <tr>\n",
       "      <th>19</th>\n",
       "      <td>60</td>\n",
       "      <td>'2020/12/19'</td>\n",
       "      <td>103</td>\n",
       "      <td>123</td>\n",
       "    </tr>\n",
       "    <tr>\n",
       "      <th>20</th>\n",
       "      <td>45</td>\n",
       "      <td>'2020/12/20'</td>\n",
       "      <td>97</td>\n",
       "      <td>125</td>\n",
       "    </tr>\n",
       "    <tr>\n",
       "      <th>21</th>\n",
       "      <td>60</td>\n",
       "      <td>'2020/12/21'</td>\n",
       "      <td>108</td>\n",
       "      <td>131</td>\n",
       "    </tr>\n",
       "    <tr>\n",
       "      <th>22</th>\n",
       "      <td>45</td>\n",
       "      <td>2020/12/20</td>\n",
       "      <td>100</td>\n",
       "      <td>119</td>\n",
       "    </tr>\n",
       "    <tr>\n",
       "      <th>23</th>\n",
       "      <td>60</td>\n",
       "      <td>'2020/12/23'</td>\n",
       "      <td>130</td>\n",
       "      <td>101</td>\n",
       "    </tr>\n",
       "    <tr>\n",
       "      <th>24</th>\n",
       "      <td>45</td>\n",
       "      <td>'2020/12/24'</td>\n",
       "      <td>105</td>\n",
       "      <td>132</td>\n",
       "    </tr>\n",
       "    <tr>\n",
       "      <th>25</th>\n",
       "      <td>60</td>\n",
       "      <td>'2020/12/25'</td>\n",
       "      <td>102</td>\n",
       "      <td>126</td>\n",
       "    </tr>\n",
       "    <tr>\n",
       "      <th>26</th>\n",
       "      <td>60</td>\n",
       "      <td>20201226</td>\n",
       "      <td>100</td>\n",
       "      <td>120</td>\n",
       "    </tr>\n",
       "    <tr>\n",
       "      <th>27</th>\n",
       "      <td>60</td>\n",
       "      <td>'2020/12/27'</td>\n",
       "      <td>92</td>\n",
       "      <td>118</td>\n",
       "    </tr>\n",
       "    <tr>\n",
       "      <th>28</th>\n",
       "      <td>60</td>\n",
       "      <td>'2020/12/28'</td>\n",
       "      <td>103</td>\n",
       "      <td>132</td>\n",
       "    </tr>\n",
       "    <tr>\n",
       "      <th>29</th>\n",
       "      <td>60</td>\n",
       "      <td>'2020/12/29'</td>\n",
       "      <td>100</td>\n",
       "      <td>132</td>\n",
       "    </tr>\n",
       "    <tr>\n",
       "      <th>30</th>\n",
       "      <td>60</td>\n",
       "      <td>'2020/12/30'</td>\n",
       "      <td>102</td>\n",
       "      <td>129</td>\n",
       "    </tr>\n",
       "    <tr>\n",
       "      <th>31</th>\n",
       "      <td>60</td>\n",
       "      <td>'2020/12/31'</td>\n",
       "      <td>92</td>\n",
       "      <td>115</td>\n",
       "    </tr>\n",
       "  </tbody>\n",
       "</table>\n",
       "</div>"
      ],
      "text/plain": [
       "    Duration          Date  Pulse  Maxpulse\n",
       "0         60  '2020/12/01'    110       130\n",
       "1         60  '2020/12/02'    117       145\n",
       "2         60  '2020/12/03'    103       135\n",
       "3         45  '2020/12/04'    109       175\n",
       "4         45  '2020/12/05'    117       148\n",
       "5         60  '2020/12/06'    102       127\n",
       "6         60  '2020/12/07'    110       136\n",
       "7        450  '2020/12/08'    104       134\n",
       "8         30  '2020/12/09'    109       133\n",
       "9         60  '2020/12/10'     98       124\n",
       "10        60  '2020/12/11'    103       147\n",
       "11        60  '2020/12/12'    100       120\n",
       "12        60  '2020/12/12'    100       120\n",
       "13        60  '2020/12/13'    106       128\n",
       "14        60  '2020/12/14'    104       132\n",
       "15        60  '2020/12/15'     98       123\n",
       "16        60  '2020/12/16'     98       120\n",
       "17        60  '2020/12/17'    100       120\n",
       "18        45  '2020/12/18'     90       112\n",
       "19        60  '2020/12/19'    103       123\n",
       "20        45  '2020/12/20'     97       125\n",
       "21        60  '2020/12/21'    108       131\n",
       "22        45    2020/12/20    100       119\n",
       "23        60  '2020/12/23'    130       101\n",
       "24        45  '2020/12/24'    105       132\n",
       "25        60  '2020/12/25'    102       126\n",
       "26        60      20201226    100       120\n",
       "27        60  '2020/12/27'     92       118\n",
       "28        60  '2020/12/28'    103       132\n",
       "29        60  '2020/12/29'    100       132\n",
       "30        60  '2020/12/30'    102       129\n",
       "31        60  '2020/12/31'     92       115"
      ]
     },
     "execution_count": 10,
     "metadata": {},
     "output_type": "execute_result"
    }
   ],
   "source": [
    "df"
   ]
  },
  {
   "cell_type": "markdown",
   "id": "eb22b99f",
   "metadata": {},
   "source": [
    "# <center>Selamat Melaksanakan UTS</center>"
   ]
  },
  {
   "cell_type": "code",
   "execution_count": null,
   "id": "6c6879c6",
   "metadata": {},
   "outputs": [],
   "source": []
  }
 ],
 "metadata": {
  "kernelspec": {
   "display_name": "Python 3",
   "language": "python",
   "name": "python3"
  },
  "language_info": {
   "codemirror_mode": {
    "name": "ipython",
    "version": 3
   },
   "file_extension": ".py",
   "mimetype": "text/x-python",
   "name": "python",
   "nbconvert_exporter": "python",
   "pygments_lexer": "ipython3",
   "version": "3.8.8"
  }
 },
 "nbformat": 4,
 "nbformat_minor": 5
}
