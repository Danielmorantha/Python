{
 "cells": [
  {
   "cell_type": "markdown",
   "id": "fc5d7eff",
   "metadata": {},
   "source": [
    "<b> Nama &nbsp; &nbsp; &nbsp; &nbsp; &nbsp;   : </b> Daniel Morantha <br>\n",
    "<b> NIM  &nbsp; &nbsp; &nbsp; &nbsp; &nbsp; &nbsp; &nbsp; : </b> 2019230088 <br>\n",
    "<b> Matakuliah  &nbsp;   : </b> Metode Numerik <br>\n",
    "\n"
   ]
  },
  {
   "cell_type": "markdown",
   "id": "3e7cd58b",
   "metadata": {},
   "source": [
    "***Metode Bisection***\n",
    "<br>\n",
    "# F(x)=4x³+x²-3x-3"
   ]
  },
  {
   "cell_type": "code",
   "execution_count": 2,
   "id": "bbc8e9af",
   "metadata": {},
   "outputs": [
    {
     "name": "stdout",
     "output_type": "stream",
     "text": [
      "Masukan angka tebakan ke-1: 1\n",
      "Masukan angka tebakan ke-2: 2\n",
      "Error Relatif: 0.001\n",
      "akar persamaan x= 1.0810546875\n",
      "Iterasi ke- 11\n"
     ]
    },
    {
     "data": {
      "image/png": "[encoded data removed]",
      "text/plain": [
       "<Figure size 432x288 with 1 Axes>"
      ]
     },
     "metadata": {
      "needs_background": "light"
     },
     "output_type": "display_data"
    }
   ],
   "source": [
    "%matplotlib inline\n",
    "import numpy as np\n",
    "import matplotlib.pyplot as plt\n",
    "from scipy.optimize import fsolve\n",
    "\n",
    "def f(x):\n",
    "    return (4*x**3)+(x**2)-(3*x)-3\n",
    "\n",
    "def bisection(a,b,tol):\n",
    "    xl = a\n",
    "    xu = b\n",
    "    \n",
    "    i = 1\n",
    "    while(np.abs(xl-xu)>= tol):\n",
    "        xr = (xl+xu)/2\n",
    "        prod = f(xl)*f(xr)\n",
    "        if prod > tol:\n",
    "            xl = xr\n",
    "            i+=1\n",
    "        else:\n",
    "            if prod < tol:\n",
    "                xu = xr\n",
    "                i+=1\n",
    "    return i,xr\n",
    "\n",
    "jawaban = bisection(1,2,0.001)\n",
    "a = input('Masukan angka tebakan ke-1: ')\n",
    "b = input('Masukan angka tebakan ke-2: ')\n",
    "tol = input('Error Relatif: ')\n",
    "print(\"akar persamaan x=\", jawaban[1])\n",
    "print(\"Iterasi ke-\" ,jawaban[0])\n",
    "x = np.linspace(-2,2,100)\n",
    "\n",
    "\n",
    "plt.title(\"metode bisection Penyelesaian persamaan f(x)= 4x³+x²-3x-3\")\n",
    "plt.plot(x, f(x))\n",
    "plt.grid()\n",
    "plt.show()"
   ]
  },
  {
   "cell_type": "code",
   "execution_count": null,
   "id": "3f13bb62",
   "metadata": {},
   "outputs": [],
   "source": []
  }
 ],
 "metadata": {
  "kernelspec": {
   "display_name": "Python 3",
   "language": "python",
   "name": "python3"
  },
  "language_info": {
   "codemirror_mode": {
    "name": "ipython",
    "version": 3
   },
   "file_extension": ".py",
   "mimetype": "text/x-python",
   "name": "python",
   "nbconvert_exporter": "python",
   "pygments_lexer": "ipython3",
   "version": "3.8.8"
  }
 },
 "nbformat": 4,
 "nbformat_minor": 5
}
