{
 "cells": [
  {
   "cell_type": "markdown",
   "id": "b22a8944",
   "metadata": {},
   "source": [
    "<b> Nama &nbsp; &nbsp; &nbsp; &nbsp; &nbsp;   : </b> Daniel Morantha <br>\n",
    "<b> NIM  &nbsp; &nbsp; &nbsp; &nbsp; &nbsp; &nbsp; &nbsp; : </b> 2019230088 <br>\n",
    "<b> Matakuliah  &nbsp;   : </b> Metode Numerik <br>\n",
    "\n"
   ]
  },
  {
   "cell_type": "markdown",
   "id": "a13e6c4a",
   "metadata": {},
   "source": [
    "***Metode Newton-Rapshon***\n",
    "<br>\n",
    "# F(x)=4x³+x²-3x-3"
   ]
  },
  {
   "cell_type": "code",
   "execution_count": 1,
   "id": "b7f9d2f8",
   "metadata": {},
   "outputs": [
    {
     "name": "stdout",
     "output_type": "stream",
     "text": [
      "Masukan nilai xn = 2\n",
      "Masukan error relative = 0.001\n",
      "Iterasi 2 xn =  1.1731447039618876\n",
      "Iterasi 3 xn =  1.0902343970208355\n",
      "Iterasi 4 xn =  1.0826943857415872\n",
      "Iterasi 5 xn =  1.0826340085290393\n",
      "Akar persamaan:  1.0826340085290393\n"
     ]
    }
   ],
   "source": [
    "%matplotlib inline\n",
    "import numpy as np\n",
    "import matplotlib.pyplot as plt\n",
    "from scipy.optimize import fsolve\n",
    "\n",
    "def f(x):\n",
    "    return (4*x**3)+(x**2)-(3*x)-3\n",
    "\n",
    "def df(x):\n",
    "    return (12*x**2)+(2*x)-3\n",
    "\n",
    "def dff(x):\n",
    "    return (24*x)+(4*x)\n",
    "\n",
    "xn = eval(input('Masukan nilai xn = '))\n",
    "e = eval(input('Masukan error relative = '))\n",
    "n = 1\n",
    "\n",
    "if (((f(xn)*dff(xn))/(df(xn)*df(xn))>=1)):\n",
    "    print('Nilai yang dimasukan salah')\n",
    "else:\n",
    "    x1 = xn-(f(xn)/df(xn))\n",
    "    while(abs(x1-xn)>=e):\n",
    "        xn = x1\n",
    "        x1 = xn-(f(xn)/df(xn))\n",
    "        n = n+1\n",
    "        print('Iterasi',n-0,'xn = ',x1)\n",
    "print(\"Akar persamaan: \", x1)"
   ]
  },
  {
   "cell_type": "code",
   "execution_count": null,
   "id": "4e2097e8",
   "metadata": {},
   "outputs": [],
   "source": []
  }
 ],
 "metadata": {
  "kernelspec": {
   "display_name": "Python 3",
   "language": "python",
   "name": "python3"
  },
  "language_info": {
   "codemirror_mode": {
    "name": "ipython",
    "version": 3
   },
   "file_extension": ".py",
   "mimetype": "text/x-python",
   "name": "python",
   "nbconvert_exporter": "python",
   "pygments_lexer": "ipython3",
   "version": "3.8.8"
  }
 },
 "nbformat": 4,
 "nbformat_minor": 5
}
