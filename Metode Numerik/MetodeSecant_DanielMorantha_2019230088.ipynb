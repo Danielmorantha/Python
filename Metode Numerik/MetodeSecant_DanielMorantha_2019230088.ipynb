{
 "cells": [
  {
   "cell_type": "markdown",
   "id": "df3e780c",
   "metadata": {
    "scrolled": true
   },
   "source": [
    "<b> Nama &nbsp; &nbsp; &nbsp; &nbsp; &nbsp;   : </b> Daniel Morantha <br>\n",
    "<b> NIM  &nbsp; &nbsp; &nbsp; &nbsp; &nbsp; &nbsp; &nbsp; : </b> 2019230088 <br>\n",
    "<b> Matakuliah  &nbsp;   : </b> Metode Numerik <br>\n",
    "\n"
   ]
  },
  {
   "cell_type": "markdown",
   "id": "502e00d7",
   "metadata": {},
   "source": [
    "***Metode Secant***\n",
    "<br>\n",
    "# F(x)=4x³+x²-3x-3"
   ]
  },
  {
   "cell_type": "code",
   "execution_count": 1,
   "id": "d4caf300",
   "metadata": {},
   "outputs": [
    {
     "name": "stdout",
     "output_type": "stream",
     "text": [
      "Masukan angka tebakan ke-1: 2\n",
      "Masukan angka tebakan ke-2: 3\n",
      "Error Relatif: 0.001\n",
      "Iterasi maximal: 10\n",
      "\n",
      "\n",
      " Metode Secant \n",
      "Iteration-1, x2 = 1.653846\n",
      "x0 = 2.000000 |  x1 =3.000000 |  x2 = 1.653846 |   F(x0) = 27.000000 |   F(x1) = 105.000000\n",
      "\n",
      "Iteration-2, x2 = 1.465828\n",
      "x0 = 3.000000 |  x1 =1.653846 |  x2 = 1.465828 |   F(x0) = 105.000000 |   F(x1) = 12.868116\n",
      "\n",
      "Iteration-3, x2 = 1.215441\n",
      "x0 = 1.653846 |  x1 =1.465828 |  x2 = 1.215441 |   F(x0) = 12.868116 |   F(x1) = 7.349384\n",
      "\n",
      "Iteration-4, x2 = 1.120974\n",
      "x0 = 1.465828 |  x1 =1.215441 |  x2 = 1.120974 |   F(x0) = 7.349384 |   F(x1) = 2.013247\n",
      "\n",
      "Iteration-5, x2 = 1.087387\n",
      "x0 = 1.215441 |  x1 =1.120974 |  x2 = 1.087387 |   F(x0) = 2.013247 |   F(x1) = 0.528047\n",
      "\n",
      "Iteration-6, x2 = 1.082821\n",
      "x0 = 1.120974 |  x1 =1.087387 |  x2 = 1.082821 |   F(x0) = 0.528047 |   F(x1) = 0.063203\n",
      "\n",
      "Iteration-7, x2 = 1.082635\n",
      "x0 = 1.087387 |  x1 =1.082821 |  x2 = 1.082635 |   F(x0) = 0.063203 |   F(x1) = 0.002468\n",
      "\n",
      "\n",
      " Akar persamaan: 1.08263494\n"
     ]
    }
   ],
   "source": [
    "def f(x):\n",
    "    return (4*x**3)+(x**2)-(3*x)-3\n",
    "\n",
    "# Perhitungan metode secant\n",
    "\n",
    "def secant(x0,x1,e,N):\n",
    "    print('\\n\\n Metode Secant ')\n",
    "    step = 1\n",
    "    condition = True\n",
    "    while condition:\n",
    "        if f(x0) == f(x1):\n",
    "            print('Pembagian error!')\n",
    "            break\n",
    "        \n",
    "        x2 = x0 - (x1-x0)*f(x0)/( f(x1) - f(x0) )\n",
    "        print('Iteration-%d, x2 = %0.6f' % (step, x2))\n",
    "        print('x0 = %0.6f' % (x0), '|', ' x1 =%0.6f' % (x1), '|', ' x2 = %0.6f' % (x2), '|', '  F(x0) = %0.6f' % (f(x0)), '|', '  F(x1) = %0.6f' % (f(x1)))\n",
    "        print('')\n",
    "        x0 = x1\n",
    "        x1 = x2\n",
    "        step = step + 1\n",
    "        \n",
    "        if step > N:\n",
    "            print('Tidak Konvergen!')\n",
    "            break\n",
    "        \n",
    "        condition = abs(f(x2)) > e\n",
    "    print('\\n Akar persamaan: %0.8f' % x2)\n",
    "\n",
    "\n",
    "# Dinamis Variable\n",
    "x0 = input('Masukan angka tebakan ke-1: ')\n",
    "x1 = input('Masukan angka tebakan ke-2: ')\n",
    "e = input('Error Relatif: ')\n",
    "N = input('Iterasi maximal: ')\n",
    "\n",
    "\n",
    "\n",
    "x0 = float(x0)\n",
    "x1 = float(x1)\n",
    "e = float(e)\n",
    "\n",
    "\n",
    "N = int(N)\n",
    "\n",
    "\n",
    "\n",
    "\n",
    "secant(x0,x1,e,N)"
   ]
  },
  {
   "cell_type": "code",
   "execution_count": null,
   "id": "06099050",
   "metadata": {},
   "outputs": [],
   "source": []
  }
 ],
 "metadata": {
  "kernelspec": {
   "display_name": "Python 3",
   "language": "python",
   "name": "python3"
  },
  "language_info": {
   "codemirror_mode": {
    "name": "ipython",
    "version": 3
   },
   "file_extension": ".py",
   "mimetype": "text/x-python",
   "name": "python",
   "nbconvert_exporter": "python",
   "pygments_lexer": "ipython3",
   "version": "3.8.8"
  }
 },
 "nbformat": 4,
 "nbformat_minor": 5
}
