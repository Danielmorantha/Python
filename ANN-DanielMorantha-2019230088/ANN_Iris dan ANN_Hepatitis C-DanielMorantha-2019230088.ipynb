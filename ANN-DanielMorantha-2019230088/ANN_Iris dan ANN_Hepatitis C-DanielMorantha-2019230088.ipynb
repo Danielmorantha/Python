{
 "cells": [
  {
   "cell_type": "markdown",
   "metadata": {},
   "source": [
    "<img width=15% src='https://drive.google.com/uc?export=view&id=12lBq2t3d2iPzN2EsbLGnvu-vo_WTl-sR'>    \n",
    "\n",
    "## <center>Kuliah Intelijensi Buatan</center>\n",
    "\n",
    "### <center>Materi : Percobaan ANN Pada dataset Hepatitis C </center> \n",
    "### <center><br> Disusun Oleh : <br> Daniel Morantha <br> (2019230088) </center>\n",
    "##### <center>Library : sklearn Multi-layer Perceptron Classifier (MLPClassifier) dan tensorflow.keras</center> "
   ]
  },
  {
   "cell_type": "markdown",
   "metadata": {},
   "source": [
    "---"
   ]
  },
  {
   "cell_type": "markdown",
   "metadata": {},
   "source": [
    "# 1. Percobaan sklearn Multi-layer Perceptron Classifier (MLPClassifier)"
   ]
  },
  {
   "cell_type": "code",
   "execution_count": 1,
   "metadata": {},
   "outputs": [],
   "source": [
    "from sklearn import datasets\n",
    "from sklearn.model_selection import train_test_split\n",
    "\n",
    "iris = datasets.load_iris()\n",
    "\n",
    "X = iris.data\n",
    "y = iris.target"
   ]
  },
  {
   "cell_type": "code",
   "execution_count": 2,
   "metadata": {},
   "outputs": [
    {
     "name": "stdout",
     "output_type": "stream",
     "text": [
      "X_train (114, 4)\n",
      "X_val (21, 4)\n",
      "X_test (15, 4)\n"
     ]
    }
   ],
   "source": [
    "X_train, X_test, Y_train, Y_test = train_test_split(X, y, test_size=.10)\n",
    "X_train, X_val, Y_train, Y_val = train_test_split(X_train, Y_train, test_size=.15)\n",
    "print('X_train', X_train.shape)\n",
    "print('X_val', X_val.shape)\n",
    "print('X_test', X_test.shape)"
   ]
  },
  {
   "cell_type": "code",
   "execution_count": 3,
   "metadata": {
    "scrolled": false
   },
   "outputs": [
    {
     "name": "stdout",
     "output_type": "stream",
     "text": [
      "[0 0 0 0 0 0 0 0 0 0 0 0 0 0 0 0 0 0 0 0 0 0 0 0 0 0 0 0 0 0 0 0 0 0 0 0 0\n",
      " 0 0 0 0 0 0 0 0 0 0 0 0 0 1 1 1 1 1 1 1 1 1 1 1 1 1 1 1 1 1 1 1 1 1 1 1 1\n",
      " 1 1 1 1 1 1 1 1 1 1 1 1 1 1 1 1 1 1 1 1 1 1 1 1 1 1 2 2 2 2 2 2 2 2 2 2 2\n",
      " 2 2 2 2 2 2 2 2 2 2 2 2 2 2 2 2 2 2 2 2 2 2 2 2 2 2 2 2 2 2 2 2 2 2 2 2 2\n",
      " 2 2]\n"
     ]
    }
   ],
   "source": [
    "print(iris.target)"
   ]
  },
  {
   "cell_type": "code",
   "execution_count": 4,
   "metadata": {},
   "outputs": [],
   "source": [
    "from sklearn.neural_network import MLPClassifier\n",
    "\n",
    "mlp = MLPClassifier(hidden_layer_sizes=(64, ), activation='relu',max_iter=1000, epsilon=1e-08)"
   ]
  },
  {
   "cell_type": "code",
   "execution_count": 5,
   "metadata": {},
   "outputs": [
    {
     "name": "stdout",
     "output_type": "stream",
     "text": [
      "Akurasi Validasi Training ANN: 1.0\n"
     ]
    }
   ],
   "source": [
    "from sklearn.metrics import accuracy_score\n",
    "\n",
    "mlp.fit(X_train, Y_train)\n",
    "prediksi_val = mlp.predict(X_val)\n",
    "acc_val = accuracy_score(Y_val, prediksi_val)\n",
    "print('Akurasi Validasi Training ANN:', acc_val)"
   ]
  },
  {
   "cell_type": "code",
   "execution_count": 6,
   "metadata": {},
   "outputs": [
    {
     "name": "stdout",
     "output_type": "stream",
     "text": [
      "Akurasi Testing ANN: 1.0\n"
     ]
    }
   ],
   "source": [
    "prediksi_test = mlp.predict(X_test)\n",
    "acc_test = accuracy_score(Y_test, prediksi_test)\n",
    "print('Akurasi Testing ANN:', acc_test)"
   ]
  },
  {
   "cell_type": "code",
   "execution_count": 7,
   "metadata": {},
   "outputs": [
    {
     "name": "stdout",
     "output_type": "stream",
     "text": [
      "Akurasi Testing ANN: 1.0\n"
     ]
    },
    {
     "data": {
      "image/png": "[encoded data removed]",
      "text/plain": [
       "<Figure size 432x288 with 2 Axes>"
      ]
     },
     "metadata": {
      "needs_background": "light"
     },
     "output_type": "display_data"
    }
   ],
   "source": [
    "from sklearn.metrics import accuracy_score, plot_confusion_matrix\n",
    "\n",
    "prediksi = mlp.predict(X_test)\n",
    "plot_confusion_matrix(mlp, X_test, Y_test)\n",
    "accuracy = accuracy_score(Y_test, prediksi)\n",
    "print('Akurasi Testing ANN:', accuracy)"
   ]
  },
  {
   "cell_type": "markdown",
   "metadata": {},
   "source": [
    "# 2. Percobaan tensorflow.keras"
   ]
  },
  {
   "cell_type": "code",
   "execution_count": 8,
   "metadata": {},
   "outputs": [],
   "source": [
    "#from keras.utils import to_categorical\n",
    "from tensorflow.keras.utils import to_categorical\n",
    "\n",
    "Y_train = to_categorical(Y_train,3)\n",
    "Y_val = to_categorical(Y_val,3)\n",
    "Y_test = to_categorical(Y_test,3)"
   ]
  },
  {
   "cell_type": "code",
   "execution_count": 9,
   "metadata": {},
   "outputs": [],
   "source": [
    "from keras.models import Sequential\n",
    "from keras.layers import Flatten, Dense\n",
    "\n",
    "model = Sequential()\n",
    "model.add(Flatten())\n",
    "model.add(Dense(64,activation='relu'))\n",
    "model.add(Dense(3,activation='softmax'))\n",
    "\n",
    "model.compile(optimizer='adam',loss='categorical_crossentropy', metrics=['acc'])"
   ]
  },
  {
   "cell_type": "code",
   "execution_count": 13,
   "metadata": {
    "scrolled": false
   },
   "outputs": [
    {
     "name": "stdout",
     "output_type": "stream",
     "text": [
      "Epoch 1/100\n",
      "23/23 [==============================] - 0s 3ms/step - loss: 0.0989 - acc: 0.9561 - val_loss: 0.0820 - val_acc: 1.0000\n",
      "Epoch 2/100\n",
      "23/23 [==============================] - 0s 3ms/step - loss: 0.0899 - acc: 0.9649 - val_loss: 0.0510 - val_acc: 1.0000\n",
      "Epoch 3/100\n",
      "23/23 [==============================] - 0s 8ms/step - loss: 0.0912 - acc: 0.9649 - val_loss: 0.0539 - val_acc: 1.0000\n",
      "Epoch 4/100\n",
      "23/23 [==============================] - 0s 9ms/step - loss: 0.0884 - acc: 0.9737 - val_loss: 0.0665 - val_acc: 1.0000\n",
      "Epoch 5/100\n",
      "23/23 [==============================] - 0s 5ms/step - loss: 0.0895 - acc: 0.9649 - val_loss: 0.0767 - val_acc: 1.0000\n",
      "Epoch 6/100\n",
      "23/23 [==============================] - 0s 6ms/step - loss: 0.0859 - acc: 0.9737 - val_loss: 0.0439 - val_acc: 1.0000\n",
      "Epoch 7/100\n",
      "23/23 [==============================] - 0s 9ms/step - loss: 0.0894 - acc: 0.9737 - val_loss: 0.0671 - val_acc: 1.0000\n",
      "Epoch 8/100\n",
      "23/23 [==============================] - 0s 10ms/step - loss: 0.0973 - acc: 0.9649 - val_loss: 0.0403 - val_acc: 1.0000\n",
      "Epoch 9/100\n",
      "23/23 [==============================] - 0s 8ms/step - loss: 0.1016 - acc: 0.9561 - val_loss: 0.0564 - val_acc: 1.0000\n",
      "Epoch 10/100\n",
      "23/23 [==============================] - 0s 9ms/step - loss: 0.1025 - acc: 0.9649 - val_loss: 0.1066 - val_acc: 0.9524\n",
      "Epoch 11/100\n",
      "23/23 [==============================] - 0s 8ms/step - loss: 0.0928 - acc: 0.9649 - val_loss: 0.0567 - val_acc: 1.0000\n",
      "Epoch 12/100\n",
      "23/23 [==============================] - 0s 9ms/step - loss: 0.0866 - acc: 0.9649 - val_loss: 0.0728 - val_acc: 1.0000\n",
      "Epoch 13/100\n",
      "23/23 [==============================] - 0s 8ms/step - loss: 0.0828 - acc: 0.9737 - val_loss: 0.0581 - val_acc: 1.0000\n",
      "Epoch 14/100\n",
      "23/23 [==============================] - 0s 9ms/step - loss: 0.0863 - acc: 0.9649 - val_loss: 0.0472 - val_acc: 1.0000\n",
      "Epoch 15/100\n",
      "23/23 [==============================] - 0s 9ms/step - loss: 0.0951 - acc: 0.9649 - val_loss: 0.0434 - val_acc: 1.0000\n",
      "Epoch 16/100\n",
      "23/23 [==============================] - 0s 7ms/step - loss: 0.0890 - acc: 0.9649 - val_loss: 0.1175 - val_acc: 0.9524\n",
      "Epoch 17/100\n",
      "23/23 [==============================] - 0s 7ms/step - loss: 0.0904 - acc: 0.9737 - val_loss: 0.0482 - val_acc: 1.0000\n",
      "Epoch 18/100\n",
      "23/23 [==============================] - 0s 5ms/step - loss: 0.0853 - acc: 0.9737 - val_loss: 0.0772 - val_acc: 1.0000\n",
      "Epoch 19/100\n",
      "23/23 [==============================] - 0s 6ms/step - loss: 0.0858 - acc: 0.9649 - val_loss: 0.0484 - val_acc: 1.0000\n",
      "Epoch 20/100\n",
      "23/23 [==============================] - 0s 7ms/step - loss: 0.0817 - acc: 0.9649 - val_loss: 0.0858 - val_acc: 1.0000\n",
      "Epoch 21/100\n",
      "23/23 [==============================] - 0s 7ms/step - loss: 0.0848 - acc: 0.9737 - val_loss: 0.0545 - val_acc: 1.0000\n",
      "Epoch 22/100\n",
      "23/23 [==============================] - 0s 7ms/step - loss: 0.0942 - acc: 0.9561 - val_loss: 0.0383 - val_acc: 1.0000\n",
      "Epoch 23/100\n",
      "23/23 [==============================] - 0s 8ms/step - loss: 0.0993 - acc: 0.9561 - val_loss: 0.0990 - val_acc: 0.9524\n",
      "Epoch 24/100\n",
      "23/23 [==============================] - 0s 6ms/step - loss: 0.0835 - acc: 0.9737 - val_loss: 0.0522 - val_acc: 1.0000\n",
      "Epoch 25/100\n",
      "23/23 [==============================] - 0s 4ms/step - loss: 0.0833 - acc: 0.9737 - val_loss: 0.0438 - val_acc: 1.0000\n",
      "Epoch 26/100\n",
      "23/23 [==============================] - 0s 4ms/step - loss: 0.0875 - acc: 0.9649 - val_loss: 0.0993 - val_acc: 0.9524\n",
      "Epoch 27/100\n",
      "23/23 [==============================] - 0s 4ms/step - loss: 0.0840 - acc: 0.9649 - val_loss: 0.0629 - val_acc: 1.0000\n",
      "Epoch 28/100\n",
      "23/23 [==============================] - 0s 5ms/step - loss: 0.0832 - acc: 0.9737 - val_loss: 0.0518 - val_acc: 1.0000\n",
      "Epoch 29/100\n",
      "23/23 [==============================] - 0s 5ms/step - loss: 0.0826 - acc: 0.9737 - val_loss: 0.0660 - val_acc: 1.0000\n",
      "Epoch 30/100\n",
      "23/23 [==============================] - 0s 7ms/step - loss: 0.0825 - acc: 0.9649 - val_loss: 0.0550 - val_acc: 1.0000\n",
      "Epoch 31/100\n",
      "23/23 [==============================] - 0s 8ms/step - loss: 0.0779 - acc: 0.9737 - val_loss: 0.0684 - val_acc: 1.0000\n",
      "Epoch 32/100\n",
      "23/23 [==============================] - 0s 8ms/step - loss: 0.0842 - acc: 0.9649 - val_loss: 0.0337 - val_acc: 1.0000\n",
      "Epoch 33/100\n",
      "23/23 [==============================] - 0s 8ms/step - loss: 0.0936 - acc: 0.9649 - val_loss: 0.0626 - val_acc: 1.0000\n",
      "Epoch 34/100\n",
      "23/23 [==============================] - 0s 8ms/step - loss: 0.0941 - acc: 0.9649 - val_loss: 0.0871 - val_acc: 1.0000\n",
      "Epoch 35/100\n",
      "23/23 [==============================] - 0s 8ms/step - loss: 0.0930 - acc: 0.9649 - val_loss: 0.0671 - val_acc: 1.0000\n",
      "Epoch 36/100\n",
      "23/23 [==============================] - 0s 8ms/step - loss: 0.0778 - acc: 0.9737 - val_loss: 0.0733 - val_acc: 1.0000\n",
      "Epoch 37/100\n",
      "23/23 [==============================] - 0s 9ms/step - loss: 0.0817 - acc: 0.9649 - val_loss: 0.0396 - val_acc: 1.0000\n",
      "Epoch 38/100\n",
      "23/23 [==============================] - 0s 9ms/step - loss: 0.0852 - acc: 0.9649 - val_loss: 0.0464 - val_acc: 1.0000\n",
      "Epoch 39/100\n",
      "23/23 [==============================] - 0s 8ms/step - loss: 0.0837 - acc: 0.9737 - val_loss: 0.0514 - val_acc: 1.0000\n",
      "Epoch 40/100\n",
      "23/23 [==============================] - 0s 8ms/step - loss: 0.0893 - acc: 0.9561 - val_loss: 0.0758 - val_acc: 1.0000\n",
      "Epoch 41/100\n",
      "23/23 [==============================] - 0s 7ms/step - loss: 0.0910 - acc: 0.9649 - val_loss: 0.0532 - val_acc: 1.0000\n",
      "Epoch 42/100\n",
      "23/23 [==============================] - 0s 5ms/step - loss: 0.0793 - acc: 0.9737 - val_loss: 0.0706 - val_acc: 1.0000\n",
      "Epoch 43/100\n",
      "23/23 [==============================] - 0s 6ms/step - loss: 0.0776 - acc: 0.9737 - val_loss: 0.0494 - val_acc: 1.0000\n",
      "Epoch 44/100\n",
      "23/23 [==============================] - 0s 6ms/step - loss: 0.0781 - acc: 0.9649 - val_loss: 0.0521 - val_acc: 1.0000\n",
      "Epoch 45/100\n",
      "23/23 [==============================] - 0s 9ms/step - loss: 0.0748 - acc: 0.9737 - val_loss: 0.0613 - val_acc: 1.0000\n",
      "Epoch 46/100\n",
      "23/23 [==============================] - 0s 8ms/step - loss: 0.0759 - acc: 0.9649 - val_loss: 0.0579 - val_acc: 1.0000\n",
      "Epoch 47/100\n",
      "23/23 [==============================] - 0s 9ms/step - loss: 0.0786 - acc: 0.9737 - val_loss: 0.0534 - val_acc: 1.0000\n",
      "Epoch 48/100\n",
      "23/23 [==============================] - 0s 10ms/step - loss: 0.0797 - acc: 0.9737 - val_loss: 0.0523 - val_acc: 1.0000\n",
      "Epoch 49/100\n",
      "23/23 [==============================] - 0s 9ms/step - loss: 0.0851 - acc: 0.9649 - val_loss: 0.0381 - val_acc: 1.0000\n",
      "Epoch 50/100\n",
      "23/23 [==============================] - 0s 8ms/step - loss: 0.0784 - acc: 0.9737 - val_loss: 0.0769 - val_acc: 1.0000\n",
      "Epoch 51/100\n",
      "23/23 [==============================] - 0s 6ms/step - loss: 0.0788 - acc: 0.9737 - val_loss: 0.0686 - val_acc: 1.0000\n",
      "Epoch 52/100\n",
      "23/23 [==============================] - 0s 6ms/step - loss: 0.0766 - acc: 0.9737 - val_loss: 0.0510 - val_acc: 1.0000\n",
      "Epoch 53/100\n",
      "23/23 [==============================] - 0s 6ms/step - loss: 0.0765 - acc: 0.9737 - val_loss: 0.0523 - val_acc: 1.0000\n",
      "Epoch 54/100\n",
      "23/23 [==============================] - 0s 8ms/step - loss: 0.0746 - acc: 0.9649 - val_loss: 0.0659 - val_acc: 1.0000\n",
      "Epoch 55/100\n",
      "23/23 [==============================] - 0s 8ms/step - loss: 0.0825 - acc: 0.9737 - val_loss: 0.0518 - val_acc: 1.0000\n",
      "Epoch 56/100\n",
      "23/23 [==============================] - 0s 8ms/step - loss: 0.0759 - acc: 0.9737 - val_loss: 0.0553 - val_acc: 1.0000\n",
      "Epoch 57/100\n",
      "23/23 [==============================] - 0s 9ms/step - loss: 0.0745 - acc: 0.9825 - val_loss: 0.0528 - val_acc: 1.0000\n",
      "Epoch 58/100\n",
      "23/23 [==============================] - 0s 8ms/step - loss: 0.0736 - acc: 0.9737 - val_loss: 0.0691 - val_acc: 1.0000\n",
      "Epoch 59/100\n",
      "23/23 [==============================] - 0s 8ms/step - loss: 0.0955 - acc: 0.9737 - val_loss: 0.0844 - val_acc: 1.0000\n",
      "Epoch 60/100\n",
      "23/23 [==============================] - 0s 8ms/step - loss: 0.0892 - acc: 0.9561 - val_loss: 0.0553 - val_acc: 1.0000\n",
      "Epoch 61/100\n",
      "23/23 [==============================] - 0s 9ms/step - loss: 0.0747 - acc: 0.9649 - val_loss: 0.0630 - val_acc: 1.0000\n",
      "Epoch 62/100\n",
      "23/23 [==============================] - 0s 9ms/step - loss: 0.0772 - acc: 0.9825 - val_loss: 0.0625 - val_acc: 1.0000\n",
      "Epoch 63/100\n",
      "23/23 [==============================] - 0s 9ms/step - loss: 0.0786 - acc: 0.9649 - val_loss: 0.0725 - val_acc: 1.0000\n",
      "Epoch 64/100\n",
      "23/23 [==============================] - 0s 9ms/step - loss: 0.0728 - acc: 0.9737 - val_loss: 0.0557 - val_acc: 1.0000\n",
      "Epoch 65/100\n",
      "23/23 [==============================] - 0s 8ms/step - loss: 0.0745 - acc: 0.9737 - val_loss: 0.0600 - val_acc: 1.0000\n",
      "Epoch 66/100\n",
      "23/23 [==============================] - 0s 9ms/step - loss: 0.0745 - acc: 0.9649 - val_loss: 0.0518 - val_acc: 1.0000\n",
      "Epoch 67/100\n",
      "23/23 [==============================] - 0s 8ms/step - loss: 0.0754 - acc: 0.9737 - val_loss: 0.0479 - val_acc: 1.0000\n",
      "Epoch 68/100\n",
      "23/23 [==============================] - 0s 9ms/step - loss: 0.0736 - acc: 0.9649 - val_loss: 0.0509 - val_acc: 1.0000\n",
      "Epoch 69/100\n",
      "23/23 [==============================] - 0s 4ms/step - loss: 0.0736 - acc: 0.9737 - val_loss: 0.0475 - val_acc: 1.0000\n",
      "Epoch 70/100\n",
      "23/23 [==============================] - 0s 3ms/step - loss: 0.0816 - acc: 0.9561 - val_loss: 0.0404 - val_acc: 1.0000\n",
      "Epoch 71/100\n",
      "23/23 [==============================] - 0s 8ms/step - loss: 0.0793 - acc: 0.9737 - val_loss: 0.0739 - val_acc: 1.0000\n",
      "Epoch 72/100\n",
      "23/23 [==============================] - 0s 9ms/step - loss: 0.0741 - acc: 0.9649 - val_loss: 0.0543 - val_acc: 1.0000\n",
      "Epoch 73/100\n",
      "23/23 [==============================] - 0s 8ms/step - loss: 0.0794 - acc: 0.9737 - val_loss: 0.0683 - val_acc: 1.0000\n",
      "Epoch 74/100\n",
      "23/23 [==============================] - 0s 3ms/step - loss: 0.0771 - acc: 0.9649 - val_loss: 0.0490 - val_acc: 1.0000\n",
      "Epoch 75/100\n",
      "23/23 [==============================] - 0s 3ms/step - loss: 0.0762 - acc: 0.9825 - val_loss: 0.0405 - val_acc: 1.0000\n",
      "Epoch 76/100\n",
      "23/23 [==============================] - 0s 4ms/step - loss: 0.0797 - acc: 0.9737 - val_loss: 0.0342 - val_acc: 1.0000\n",
      "Epoch 77/100\n",
      "23/23 [==============================] - 0s 9ms/step - loss: 0.0744 - acc: 0.9737 - val_loss: 0.0738 - val_acc: 1.0000\n",
      "Epoch 78/100\n",
      "23/23 [==============================] - 0s 8ms/step - loss: 0.0802 - acc: 0.9561 - val_loss: 0.0435 - val_acc: 1.0000\n",
      "Epoch 79/100\n",
      "23/23 [==============================] - 0s 8ms/step - loss: 0.0700 - acc: 0.9737 - val_loss: 0.0469 - val_acc: 1.0000\n",
      "Epoch 80/100\n",
      "23/23 [==============================] - 0s 8ms/step - loss: 0.0763 - acc: 0.9561 - val_loss: 0.0419 - val_acc: 1.0000\n",
      "Epoch 81/100\n",
      "23/23 [==============================] - 0s 9ms/step - loss: 0.0797 - acc: 0.9649 - val_loss: 0.0363 - val_acc: 1.0000\n",
      "Epoch 82/100\n",
      "23/23 [==============================] - 0s 9ms/step - loss: 0.0762 - acc: 0.9561 - val_loss: 0.0592 - val_acc: 1.0000\n",
      "Epoch 83/100\n",
      "23/23 [==============================] - 0s 9ms/step - loss: 0.0788 - acc: 0.9649 - val_loss: 0.0529 - val_acc: 1.0000\n",
      "Epoch 84/100\n",
      "23/23 [==============================] - 0s 10ms/step - loss: 0.0771 - acc: 0.9737 - val_loss: 0.0505 - val_acc: 1.0000\n",
      "Epoch 85/100\n",
      "23/23 [==============================] - 0s 10ms/step - loss: 0.0781 - acc: 0.9825 - val_loss: 0.0667 - val_acc: 1.0000\n",
      "Epoch 86/100\n",
      "23/23 [==============================] - 0s 9ms/step - loss: 0.0712 - acc: 0.9737 - val_loss: 0.0532 - val_acc: 1.0000\n",
      "Epoch 87/100\n",
      "23/23 [==============================] - 0s 8ms/step - loss: 0.0721 - acc: 0.9737 - val_loss: 0.0589 - val_acc: 1.0000\n",
      "Epoch 88/100\n",
      "23/23 [==============================] - 0s 8ms/step - loss: 0.0719 - acc: 0.9737 - val_loss: 0.0559 - val_acc: 1.0000\n",
      "Epoch 89/100\n",
      "23/23 [==============================] - 0s 9ms/step - loss: 0.0769 - acc: 0.9737 - val_loss: 0.0642 - val_acc: 1.0000\n",
      "Epoch 90/100\n",
      "23/23 [==============================] - 0s 8ms/step - loss: 0.0760 - acc: 0.9825 - val_loss: 0.0382 - val_acc: 1.0000\n",
      "Epoch 91/100\n",
      "23/23 [==============================] - 0s 8ms/step - loss: 0.0786 - acc: 0.9737 - val_loss: 0.0474 - val_acc: 1.0000\n",
      "Epoch 92/100\n",
      "23/23 [==============================] - 0s 8ms/step - loss: 0.0688 - acc: 0.9737 - val_loss: 0.0546 - val_acc: 1.0000\n",
      "Epoch 93/100\n",
      "23/23 [==============================] - 0s 7ms/step - loss: 0.0800 - acc: 0.9649 - val_loss: 0.0741 - val_acc: 1.0000\n",
      "Epoch 94/100\n",
      "23/23 [==============================] - 0s 7ms/step - loss: 0.0726 - acc: 0.9737 - val_loss: 0.0339 - val_acc: 1.0000\n",
      "Epoch 95/100\n",
      "23/23 [==============================] - 0s 8ms/step - loss: 0.0727 - acc: 0.9649 - val_loss: 0.0495 - val_acc: 1.0000\n",
      "Epoch 96/100\n",
      "23/23 [==============================] - 0s 9ms/step - loss: 0.0706 - acc: 0.9649 - val_loss: 0.0495 - val_acc: 1.0000\n",
      "Epoch 97/100\n",
      "23/23 [==============================] - 0s 8ms/step - loss: 0.0723 - acc: 0.9649 - val_loss: 0.0617 - val_acc: 1.0000\n",
      "Epoch 98/100\n",
      "23/23 [==============================] - 0s 9ms/step - loss: 0.0768 - acc: 0.9737 - val_loss: 0.0398 - val_acc: 1.0000\n",
      "Epoch 99/100\n",
      "23/23 [==============================] - 0s 3ms/step - loss: 0.0737 - acc: 0.9737 - val_loss: 0.0449 - val_acc: 1.0000\n",
      "Epoch 100/100\n",
      "23/23 [==============================] - 0s 5ms/step - loss: 0.0683 - acc: 0.9737 - val_loss: 0.0573 - val_acc: 1.0000\n"
     ]
    },
    {
     "data": {
      "text/plain": [
       "<keras.callbacks.History at 0x162ffb0b9a0>"
      ]
     },
     "execution_count": 13,
     "metadata": {},
     "output_type": "execute_result"
    }
   ],
   "source": [
    "model.fit(X_train,Y_train,epochs=100,batch_size=5,validation_data=(X_val,Y_val))"
   ]
  },
  {
   "cell_type": "code",
   "execution_count": 11,
   "metadata": {},
   "outputs": [
    {
     "name": "stdout",
     "output_type": "stream",
     "text": [
      "Model: \"sequential\"\n",
      "_________________________________________________________________\n",
      " Layer (type)                Output Shape              Param #   \n",
      "=================================================================\n",
      " flatten (Flatten)           (None, 4)                 0         \n",
      "                                                                 \n",
      " dense (Dense)               (None, 64)                320       \n",
      "                                                                 \n",
      " dense_1 (Dense)             (None, 3)                 195       \n",
      "                                                                 \n",
      "=================================================================\n",
      "Total params: 515\n",
      "Trainable params: 515\n",
      "Non-trainable params: 0\n",
      "_________________________________________________________________\n"
     ]
    }
   ],
   "source": [
    "model.summary()"
   ]
  },
  {
   "cell_type": "code",
   "execution_count": 12,
   "metadata": {},
   "outputs": [
    {
     "name": "stdout",
     "output_type": "stream",
     "text": [
      "1/1 [==============================] - 0s 31ms/step - loss: 0.0276 - acc: 1.0000\n",
      "Akurasi Testing ANN: 1.0\n"
     ]
    }
   ],
   "source": [
    "from sklearn.metrics import confusion_matrix\n",
    "\n",
    "loss, accuracy = model.evaluate(X_test, Y_test)\n",
    "print('Akurasi Testing ANN:', accuracy)\n"
   ]
  },
  {
   "cell_type": "markdown",
   "metadata": {},
   "source": [
    "---"
   ]
  },
  {
   "cell_type": "markdown",
   "metadata": {},
   "source": [
    "# <font color=red>TUGAS :</font>\n",
    "Implementasi metode Artificial Neural Network (ANN) pada permasalahan klasifikasi\n",
    "\n",
    "- Download dataset Hepatitis C pada link berikut https://archive.ics.uci.edu/ml/datasets/HCV+data\n",
    "- Membagi dataset menjadi 3 bagian yaitu data train, data validasi, dan data uji\n",
    "- Merancang dan membangun model ANN\n",
    "- Lakukan tuning parameter agar menghasilkan model yang terbaik\n",
    "- Menampilkan grafik loss train dan validasi dari hasil pembangunan model"
   ]
  },
  {
   "cell_type": "markdown",
   "metadata": {},
   "source": [
    "\n",
    "## <center>Implementasi metode Artificial Neural Network (ANN) untuk klasifikasi pada Dataset Hepatitis C</center>\n",
    "<img width=15% src='https://drive.google.com/uc?export=view&id=12lBq2t3d2iPzN2EsbLGnvu-vo_WTl-sR'>    \n",
    "\n",
    "### <center><br> Disusun Oleh : <br> Daniel Morantha <br> (2019230088) </center>\n",
    "\n",
    "### <center>PROGRAM STUDI TEKNOLOGI INFORMASI <br>  FAKULTAS TEKNIK <br>  UNIVERSITAS DARMA PERSADA <br> 2022</center>"
   ]
  },
  {
   "cell_type": "markdown",
   "metadata": {},
   "source": [
    "#### Pendahuluan\n",
    "\n",
    "<p align=\"justify\">Pada projek ini, kita menggunakan Scikit-Learn, Keras, TensorFlow, NumPy, Pandas, Seaborn dan libraries lainnya untuk klasifikasi dataset Hepatitis melaui UCI  Machine Learning Repository. <br> </p>\n",
    "\n",
    "<p align=\"justify\"> The data set contains laboratory values of blood donors and Hepatitis C patients and demographic values like age. The data was obtained from UCI Machine Learning Repository: https://archive.ics.uci.edu/ml/datasets/HCV+data. </p> <br>\n",
    "\n",
    "<p align=\"justify\"> projek ini menggunakan model K-Nearest Neighbor, MLP Classifier, AdaBoostClassifier, GradientBoostingClassifier, XGBClassifier, distribution of features, feature importance, cross validation score, and predicted values versus true values, confusion matrix, learning curve, performace of the model, scalability of the model, training loss, and training accuracy. </p> <br>"
   ]
  },
  {
   "cell_type": "markdown",
   "metadata": {},
   "source": [
    "### 1. Import pustaka yg dibtuhkan"
   ]
  },
  {
   "cell_type": "code",
   "execution_count": 1,
   "metadata": {},
   "outputs": [],
   "source": [
    "import pandas as pd\n",
    "import numpy as np\n",
    "import seaborn as sns\n",
    "import matplotlib.pyplot as plt\n",
    "import matplotlib as mpl\n",
    "import joblib\n",
    "from imblearn.over_sampling import SMOTE\n",
    "from sklearn.model_selection import train_test_split\n",
    "from sklearn.preprocessing import StandardScaler, MinMaxScaler\n",
    "from sklearn.neural_network import MLPClassifier\n",
    "from sklearn.neighbors import KNeighborsClassifier\n",
    "from sklearn.ensemble import AdaBoostClassifier, GradientBoostingClassifier\n",
    "from xgboost import XGBClassifier\n",
    "from sklearn.metrics import confusion_matrix, accuracy_score, recall_score, precision_score\n",
    "from sklearn.ensemble import RandomForestClassifier, ExtraTreesClassifier\n",
    "from sklearn.preprocessing import StandardScaler, MinMaxScaler"
   ]
  },
  {
   "cell_type": "markdown",
   "metadata": {},
   "source": [
    "### 2. Lihat isi dataset Hepatitis C"
   ]
  },
  {
   "cell_type": "code",
   "execution_count": 2,
   "metadata": {},
   "outputs": [
    {
     "name": "stdout",
     "output_type": "stream",
     "text": [
      "   Unnamed: 0       Category  Age Sex   ALB   ALP   ALT\n",
      "0           1  0=Blood Donor   32   m  38.5  52.5   7.7\n",
      "1           2  0=Blood Donor   32   m  38.5  70.3  18.0\n",
      "2           3  0=Blood Donor   32   m  46.9  74.7  36.2\n",
      "3           4  0=Blood Donor   32   m  43.2  52.0  30.6\n",
      "4           5  0=Blood Donor   32   m  39.2  74.1  32.6\n",
      "    AST   BIL    CHE  CHOL   CREA   GGT  PROT\n",
      "0  22.1   7.5   6.93  3.23  106.0  12.1  69.0\n",
      "1  24.7   3.9  11.17  4.80   74.0  15.6  76.5\n",
      "2  52.6   6.1   8.84  5.20   86.0  33.2  79.3\n",
      "3  22.6  18.9   7.33  4.74   80.0  33.8  75.7\n",
      "4  24.8   9.6   9.15  4.32   76.0  29.9  68.7\n"
     ]
    }
   ],
   "source": [
    "df = pd.read_csv(\"hcvdat0.csv\")\n",
    "\n",
    "print(df.iloc[:,0:7].head().to_string())\n",
    "print(df.iloc[:,7:14].head().to_string())"
   ]
  },
  {
   "cell_type": "markdown",
   "metadata": {},
   "source": [
    "### 3. Cek jumlah baris dan kolom"
   ]
  },
  {
   "cell_type": "code",
   "execution_count": 3,
   "metadata": {},
   "outputs": [
    {
     "name": "stdout",
     "output_type": "stream",
     "text": [
      "dimensi dari data (615, 14)\n"
     ]
    }
   ],
   "source": [
    "print(\"dimensi dari data\", df.shape)"
   ]
  },
  {
   "cell_type": "markdown",
   "metadata": {},
   "source": [
    "### 4. Drop unnamed: 0 column"
   ]
  },
  {
   "cell_type": "code",
   "execution_count": 4,
   "metadata": {},
   "outputs": [],
   "source": [
    "df.drop(\"Unnamed: 0\", axis=1, inplace=True)"
   ]
  },
  {
   "cell_type": "code",
   "execution_count": 5,
   "metadata": {},
   "outputs": [
    {
     "name": "stdout",
     "output_type": "stream",
     "text": [
      "Category     object\n",
      "Age           int64\n",
      "Sex          object\n",
      "ALB         float64\n",
      "ALP         float64\n",
      "ALT         float64\n",
      "AST         float64\n",
      "BIL         float64\n",
      "CHE         float64\n",
      "CHOL        float64\n",
      "CREA        float64\n",
      "GGT         float64\n",
      "PROT        float64\n",
      "dtype: object\n"
     ]
    }
   ],
   "source": [
    "#Cek Tipe data masing2 kolom\n",
    "print(df.dtypes)"
   ]
  },
  {
   "cell_type": "markdown",
   "metadata": {},
   "source": [
    "### 5. Cek nilai null dalam dataset"
   ]
  },
  {
   "cell_type": "code",
   "execution_count": 6,
   "metadata": {},
   "outputs": [
    {
     "name": "stdout",
     "output_type": "stream",
     "text": [
      "Category     0\n",
      "Age          0\n",
      "Sex          0\n",
      "ALB          1\n",
      "ALP         18\n",
      "ALT          1\n",
      "AST          0\n",
      "BIL          0\n",
      "CHE          0\n",
      "CHOL        10\n",
      "CREA         0\n",
      "GGT          0\n",
      "PROT         1\n",
      "dtype: int64\n",
      "Total 31\n"
     ]
    }
   ],
   "source": [
    "print(df.isnull().sum())\n",
    "print(\"Total\", df.isnull().sum().sum())"
   ]
  },
  {
   "cell_type": "markdown",
   "metadata": {},
   "source": [
    "### 6. Isi Nilai kosong dengan rata-rata"
   ]
  },
  {
   "cell_type": "code",
   "execution_count": 7,
   "metadata": {},
   "outputs": [
    {
     "name": "stdout",
     "output_type": "stream",
     "text": [
      "Category    0\n",
      "Age         0\n",
      "Sex         0\n",
      "ALB         0\n",
      "ALP         0\n",
      "ALT         0\n",
      "AST         0\n",
      "BIL         0\n",
      "CHE         0\n",
      "CHOL        0\n",
      "CREA        0\n",
      "GGT         0\n",
      "PROT        0\n",
      "dtype: int64\n",
      "Total:  0\n"
     ]
    }
   ],
   "source": [
    "df.fillna(df.median(), inplace=True)\n",
    "\n",
    "print(df.isnull().sum())\n",
    "print(\"Total: \", df.isnull().sum().sum())"
   ]
  },
  {
   "cell_type": "markdown",
   "metadata": {},
   "source": [
    "### 7. Plot umur histrogram"
   ]
  },
  {
   "cell_type": "code",
   "execution_count": 8,
   "metadata": {},
   "outputs": [
    {
     "data": {
      "image/png": "[encoded data removed]",
      "text/plain": [
       "<Figure size 504x504 with 1 Axes>"
      ]
     },
     "metadata": {
      "needs_background": "light"
     },
     "output_type": "display_data"
    },
    {
     "data": {
      "image/png": "[encoded data removed]",
      "text/plain": [
       "<Figure size 504x504 with 1 Axes>"
      ]
     },
     "metadata": {
      "needs_background": "light"
     },
     "output_type": "display_data"
    }
   ],
   "source": [
    "plt.figure(figsize=(7,7))\n",
    "plt.title(\"Histrogram Umur\")\n",
    "sns.histplot(df['Age'])\n",
    "plt.show()\n",
    "plt.figure(figsize=(7,7))\n",
    "plt.title(\"Histrogram Umur\", fontsize=20)\n",
    "sns.histplot(df[['Age', 'Category']], x='Age', hue='Category')\n",
    "plt.show()"
   ]
  },
  {
   "cell_type": "markdown",
   "metadata": {},
   "source": [
    "### 8. Plot sebaran kolom sex"
   ]
  },
  {
   "cell_type": "code",
   "execution_count": 9,
   "metadata": {},
   "outputs": [
    {
     "name": "stdout",
     "output_type": "stream",
     "text": [
      "m    377\n",
      "f    238\n",
      "Name: Sex, dtype: int64\n"
     ]
    },
    {
     "data": {
      "image/png": "[encoded data removed]",
      "text/plain": [
       "<Figure size 504x504 with 1 Axes>"
      ]
     },
     "metadata": {},
     "output_type": "display_data"
    },
    {
     "name": "stdout",
     "output_type": "stream",
     "text": [
      "\n"
     ]
    },
    {
     "data": {
      "image/png": "[encoded data removed]",
      "text/plain": [
       "<Figure size 504x504 with 1 Axes>"
      ]
     },
     "metadata": {},
     "output_type": "display_data"
    },
    {
     "name": "stdout",
     "output_type": "stream",
     "text": [
      "0=Blood Donor             533\n",
      "3=Cirrhosis                30\n",
      "1=Hepatitis                24\n",
      "2=Fibrosis                 21\n",
      "0s=suspect Blood Donor      7\n",
      "Name: Category, dtype: int64\n"
     ]
    }
   ],
   "source": [
    "print(df.Sex.value_counts())\n",
    "\n",
    "fig, ax = plt.subplots(figsize=(7,7), facecolor='#fbe7dd')\n",
    "plt.pie(x=df[\"Sex\"].value_counts(),\n",
    "        colors = ['#de7959', '#72b7a1'],\n",
    "        labels = [\"Male\", \"Female\"],\n",
    "        shadow = True,\n",
    "        explode = (0, 0.05),\n",
    "        autopct = '%1.1f%%'\n",
    "        )\n",
    "\n",
    "plt.title(\"Sebaran kolom Sex\", fontsize=20)\n",
    "plt.show()\n",
    "\n",
    "print()\n",
    "\n",
    "plt.figure(figsize=(7,7))\n",
    "df['Category'].value_counts().plot(kind='pie', autopct='%.2f')\n",
    "plt.title('Kategori Diagram Pie', fontsize=20)\n",
    "plt.show()\n",
    "print(df['Category'].value_counts())"
   ]
  },
  {
   "cell_type": "markdown",
   "metadata": {},
   "source": [
    "#### Dari sini kita bisa melihat bahwa dataset terjadi ketidakseimbangan. Kita perlu lebih sampel dataset dengan menggunakan SMOTE method"
   ]
  },
  {
   "cell_type": "markdown",
   "metadata": {},
   "source": [
    "### 9. Preprosesing"
   ]
  },
  {
   "cell_type": "code",
   "execution_count": 10,
   "metadata": {},
   "outputs": [
    {
     "name": "stdout",
     "output_type": "stream",
     "text": [
      "   Category  Age  Sex   ALB   ALP   ALT   AST\n",
      "0         0   32    1  38.5  52.5   7.7  22.1\n",
      "1         0   32    1  38.5  70.3  18.0  24.7\n",
      "2         0   32    1  46.9  74.7  36.2  52.6\n",
      "3         0   32    1  43.2  52.0  30.6  22.6\n",
      "4         0   32    1  39.2  74.1  32.6  24.8\n",
      "    BIL    CHE  CHOL   CREA   GGT  PROT\n",
      "0   7.5   6.93  3.23  106.0  12.1  69.0\n",
      "1   3.9  11.17  4.80   74.0  15.6  76.5\n",
      "2   6.1   8.84  5.20   86.0  33.2  79.3\n",
      "3  18.9   7.33  4.74   80.0  33.8  75.7\n",
      "4   9.6   9.15  4.32   76.0  29.9  68.7\n",
      "\n",
      "Category      int64\n",
      "Age           int64\n",
      "Sex           int64\n",
      "ALB         float64\n",
      "ALP         float64\n",
      "ALT         float64\n",
      "AST         float64\n",
      "BIL         float64\n",
      "CHE         float64\n",
      "CHOL        float64\n",
      "CREA        float64\n",
      "GGT         float64\n",
      "PROT        float64\n",
      "dtype: object\n"
     ]
    }
   ],
   "source": [
    "#### cari nilai unik di kolom kategori dan sex dan menempatkan kolom tersebut\n",
    "\n",
    "\n",
    "df.Category.unique()\n",
    "df.Sex.unique()\n",
    "\n",
    "#Menempatkan kolom masuk ke nilai numerik\n",
    "df['Category'] = df['Category'].map({'0=Blood Donor': 0, \\\n",
    "                                    '0s=suspect Blood Donor':1, \"1=Hepatitis\": 2, \\\n",
    "                                     \"2=Fibrosis\": 3, \"3=Cirrhosis\":4\n",
    "                                    })\n",
    "df['Sex'] = df['Sex'].map({'m':1, 'f':2})\n",
    "print(df.iloc[:,0:7].head().to_string())\n",
    "print(df.iloc[:,7:14].head().to_string())\n",
    "\n",
    "print()\n",
    "\n",
    "print(df.dtypes)\n"
   ]
  },
  {
   "cell_type": "markdown",
   "metadata": {},
   "source": [
    "#### Sampel data menggunakan metode SMOTE"
   ]
  },
  {
   "cell_type": "code",
   "execution_count": 11,
   "metadata": {},
   "outputs": [
    {
     "data": {
      "image/png": "[encoded data removed]",
      "text/plain": [
       "<Figure size 504x504 with 1 Axes>"
      ]
     },
     "metadata": {},
     "output_type": "display_data"
    },
    {
     "data": {
      "text/plain": [
       "0    533\n",
       "2    533\n",
       "4    533\n",
       "1    533\n",
       "3    533\n",
       "Name: Category, dtype: int64"
      ]
     },
     "execution_count": 11,
     "metadata": {},
     "output_type": "execute_result"
    }
   ],
   "source": [
    "\n",
    "x, y = df.drop('Category', axis=1), df['Category']\n",
    "smote = SMOTE()\n",
    "x, y = smote.fit_resample(x,y)\n",
    "plt.figure(figsize=(7,7))\n",
    "y.value_counts().plot(kind='pie', labels=[\"Blood Donor\", \\\n",
    "                                          \"suspect Blood Donor\", \"Hepatitis\", \"Fibrosis\", \"Cirrhosis\"], \\\n",
    "                                          autopct='%.2f')\n",
    "plt.title('Kategori pie chart', fontsize=20)\n",
    "plt.show()\n",
    "y.value_counts()"
   ]
  },
  {
   "cell_type": "code",
   "execution_count": 13,
   "metadata": {},
   "outputs": [
    {
     "name": "stdout",
     "output_type": "stream",
     "text": [
      "        Age  Sex       ALB       ALP       ALT       AST       BIL       CHE  \\\n",
      "0  0.224138    1  0.350669  0.101653  0.020962  0.036694  0.026461  0.367578   \n",
      "1  0.224138    1  0.350669  0.145571  0.052713  0.044990  0.012243  0.650434   \n",
      "2  0.224138    1  0.475483  0.156427  0.108816  0.134014  0.020932  0.494997   \n",
      "3  0.224138    1  0.420505  0.100419  0.091554  0.038290  0.071485  0.394263   \n",
      "4  0.224138    1  0.361070  0.154947  0.097719  0.045310  0.034755  0.515677   \n",
      "\n",
      "       CHOL      CREA       GGT      PROT  \n",
      "0  0.218447  0.091495  0.011757  0.535398  \n",
      "1  0.408981  0.061619  0.017172  0.701327  \n",
      "2  0.457524  0.072822  0.044400  0.763274  \n",
      "3  0.401699  0.067221  0.045328  0.683628  \n",
      "4  0.350728  0.063486  0.039295  0.528761  \n"
     ]
    }
   ],
   "source": [
    "# Skala fitur dengan MinMaxScaler\n",
    "\n",
    "cols_to_scale = x.drop('Sex', axis=1).columns\n",
    "cols_to_scale\n",
    "scale = MinMaxScaler()\n",
    "scalled = scale.fit_transform(x[cols_to_scale])\n",
    "\n",
    "i = 0\n",
    "for col in cols_to_scale:\n",
    "  x[col] = scalled[:,i]\n",
    "  i += 1\n",
    "\n",
    "print(x.head())"
   ]
  },
  {
   "cell_type": "code",
   "execution_count": 14,
   "metadata": {},
   "outputs": [
    {
     "data": {
      "image/png": "[encoded data removed]",
      "text/plain": [
       "<Figure size 576x432 with 1 Axes>"
      ]
     },
     "metadata": {
      "needs_background": "light"
     },
     "output_type": "display_data"
    }
   ],
   "source": [
    "from IPython.core.pylabtools import figsize\n",
    "# Plot korelasi \n",
    "\n",
    "fig, ax = plt.subplots(figsize=(8,6))\n",
    "sns.heatmap(x.corr(), annot=True, fmt='.1g', \\\n",
    "            cmap=\"PuRd\", cbar=False);"
   ]
  },
  {
   "cell_type": "markdown",
   "metadata": {},
   "source": [
    "### 8. Seleksi kolom yang penting"
   ]
  },
  {
   "cell_type": "code",
   "execution_count": 15,
   "metadata": {},
   "outputs": [
    {
     "name": "stderr",
     "output_type": "stream",
     "text": [
      "C:\\Users\\ASUS\\anaconda3\\lib\\site-packages\\seaborn\\_decorators.py:36: FutureWarning: Pass the following variables as keyword args: x, y. From version 0.12, the only valid positional argument will be `data`, and passing other arguments without an explicit keyword will result in an error or misinterpretation.\n",
      "  warnings.warn(\n"
     ]
    },
    {
     "data": {
      "image/png": "[encoded data removed]",
      "text/plain": [
       "<Figure size 1080x720 with 1 Axes>"
      ]
     },
     "metadata": {
      "needs_background": "light"
     },
     "output_type": "display_data"
    }
   ],
   "source": [
    "r = ExtraTreesClassifier(random_state=0)\n",
    "r.fit(x, y)\n",
    "feature_importance = r.feature_importances_\n",
    "\n",
    "feature_importance_normalized = np.std(\n",
    "    [tree.feature_importances_ for tree in r.estimators_],\n",
    "    axis = 0)\n",
    "\n",
    "plt.figure(figsize=(15,10))\n",
    "sns.barplot(feature_importance_normalized, x.columns)\n",
    "plt.xlabel('Fitur')\n",
    "plt.ylabel('Fitur yang penting')\n",
    "plt.title('Perbandingan fitur yang penting', fontsize=20)\n",
    "plt.show()\n"
   ]
  },
  {
   "cell_type": "code",
   "execution_count": 18,
   "metadata": {},
   "outputs": [],
   "source": [
    "feat_boundary = ['PROT', 'CHE']\n",
    "X_feature = x[feat_boundary]\n",
    "\n",
    "# X_train_feat, X_test_feat, y_train_feat, y_test_feat = train-test_split(X_feature, y, test_size=0.2, random_state = 2021, stratify=y)\n",
    "\n",
    "X_train, X_test, Y_train, y_test = train_test_split(X_feature, y, test_size=0.2, random_state = 2021, stratify=y)\n",
    "# X_train, X_val, Y_train, Y_val = train_test_split(X_train, Y_train, test_size=.15)\n",
    "\n",
    "\n"
   ]
  },
  {
   "cell_type": "code",
   "execution_count": 21,
   "metadata": {},
   "outputs": [],
   "source": [
    "import sys\n",
    "def plot_learning_curve(estimator, title, X, y, axes=None, ylim=None, cv=None, n_job=None, train_sizes=np.linspace(.1, 1.0, 5)):\n",
    "  if axes is None:\n",
    "    _, axes = plt.subplots(1, 3, figsize=(20,5))\n",
    "\n",
    "    axes[0].set_title(title)\n",
    "    if ylim is not None:\n",
    "        axes[0].set_ylim(*ylim)\n",
    "        axes[0].set_xlabel(\"Example training\")\n",
    "        axes[0].set_ylabel(\"Skor\")\n",
    "\n",
    "        train_sizes, train_scores, test_scores, fit_times, _ = learning_curve(estimator, X, y, cv=cv, n_jobs=n_jobs, train_sizes=train_sizes, return_times=True)\n",
    "\n",
    "        train_scores_mean = np.mean(train_scores, axis=1)\n",
    "        train_score_std = np.std(train_scores, axis=1)\n",
    "\n",
    "        test_scores_mean = np.mean(test_scores, axis=1)\n",
    "        test_scores_std = np.std(test_scores, axis=1)\n",
    "        fit_times_mean = np.mean(fit_times, axis=1)\n",
    "        fit_times_std = np.std(fit_times, axis=1)\n",
    "\n",
    "        axes[0].grid()\n",
    "        axes[0].fill_between(train_sizes, train_scores_mean - train_scores_std, train_scores_mean + train_scores_std, alpha=0.1, color=\"r\")\n",
    "        axes[0].fill_between(train_sizes, train_scores_mean - train_scores_std, train_scores_mean + train_scores_std, alpha=0.1, color=\"g\")\n",
    "        axes[0].plot(train_sizes, train_scores_mean, 'o-', color=\"r\", label=\"Training skor\")\n",
    "        axes[0].plot(train_sizes, train_scores_mean, 'o-', color=\"g\", label=\"Cross-validation score\")\n",
    "        axes[0].legend(loc=\"best\")\n",
    "\n",
    "        axes[1].grid()\n",
    "        axes[1].plot(train_sizes, fit_times_mean, 'o-')\n",
    "        axes[1].fill_between(train_sizes, fit_times_mean - fit_times_std, fit_times_mean + fit_times_std, alpha=0.1)\n",
    "        axes[1].set_xlabel(\"Training Example\")\n",
    "        axes[1].set_ylabel(\"Skor\")\n",
    "        axes[1].set_title(\"Skala model\")\n",
    "\n",
    "        axes[2].grid()\n",
    "        axes[2].plot(fit_times_mean, test_scores_mean, 'o-')\n",
    "        axes[2].fill_between(train_sizes, fit_times_mean - fit_times_std, fit_times_mean + fit_times_std, alpha=0.1)\n",
    "        axes[2].set_xlabel(\"fit_times\")\n",
    "        axes[2].set_ylabel(\"Skor\")\n",
    "        axes[2].set_title(\"Performa dari model\")\n",
    "\n",
    "        return plt\n"
   ]
  },
  {
   "cell_type": "code",
   "execution_count": 23,
   "metadata": {},
   "outputs": [],
   "source": [
    "def plot_real_pred_val(Y_test, ypred, name):\n",
    "  plt.figure()\n",
    "  acc = accuracy_score(Y_test,ypred)\n",
    "  plt.scatter(range(len(ypred)), ypred, color=\"blue\", lw=5, label=\"Predicted\")\n",
    "  plt.scatter(renge(len(Y_test)), Y_test,color=\"red\", label=\"Actual\")\n",
    "  plt.title(\"Terprediksi nilai vs nilai benar\" +name, fontsize=10)\n",
    "  plt.xlabel(\"Akurasi\" +str(round((acc*100),3)) + \"%\")\n",
    "  plt.legend()\n",
    "  plt.grid(True, alpha=0.75, lw=1, ls='-.')\n",
    "  plt.show()\n",
    "\n",
    "def plot_cm(Y_test, ypred, name):\n",
    "  plt.figure()\n",
    "  labels = ['0=Blood Donor', '0s+suspect Blood Donor', '1=Hepatitis', '2=Fibrosis', '3=Cirrhosis']\n",
    "  cm = confusion_matrix(Y_test, ypred)\n",
    "  sns.heatmap(cm, annot=True, linewidth=0.7, linecolor='red', fmt='g', cmap=\"Reds\",xticklabels=labels, yticklabels=labels)\n",
    "\n",
    "  plt.title(name + 'confusion matrix')\n",
    "  plt.xlabel('Y prediksi')\n",
    "  plt.ylabel('Y test')\n",
    "  plt.show()\n",
    "  return cm\n",
    "\n",
    "\n",
    "def plot_decision_boundary(model, xtest, ytest, name):\n",
    "  model.fit(xtest,ytest)\n",
    "  plt.figure()\n",
    "\n",
    "  plot_decision_region(xtest.values, ytest.ravel(), clf=model, legend=2)\n",
    "  plt.title(\"Decision boundry for\" +name+ \" (Test) \")\n",
    "  plt.xlabel(\"PROT\")\n",
    "  plt.ylabel(\"CHE\")\n",
    "  plt.show()\n",
    "\n",
    "\n",
    "\n",
    "def train_model(model, X, y):\n",
    "  model.fit(X, y)\n",
    "  return model\n",
    "\n",
    "\n",
    "\n",
    "def predict_model(model, X, proba=False):\n",
    "  if ~proba:\n",
    "    y_pred = model.predict(X)\n",
    "  else:\n",
    "    y_pred_proba = model.predict_proba(X)\n",
    "    y_pred = np.argmax(y_pred_proba, axis=1)\n",
    "\n",
    "    return y_pred\n",
    "\n",
    "list_scores = []\n",
    "\n",
    "\n",
    "def run_model(name, model, X_train, X_test, y_train, y_test, fc, proba=False):\n",
    "  print(name)\n",
    "  print(fc)\n",
    "\n",
    "  model = train_model(model, X_train, y_train)\n",
    "  y_pred = predict_model(model, X_test, proba)\n",
    "\n",
    "  accuracy = accuracy_score(y_test, y_pred)\n",
    "  recall = recall_score(y_test, y_pred)\n",
    "  precision = precision_score(y_test, y_pred)\n",
    "  f1 = f1_score(y_test, y_pred)\n",
    "\n",
    "  print(\"Akurasi: \", accuracy)\n",
    "  print('Recall: ', recall)\n",
    "  print('precision: ', precision)\n",
    "  print('f1: ', f1)\n",
    "  print(classification(y_test, y_pred))\n",
    "\n",
    "  plot_cm(y_test, y_pred, name)\n",
    "  plot_real_pred_val(y_test, y_pred, name)\n",
    "  plot_decision_boundary(model, name, X_test_feat, y_test_feat, name)\n",
    "  plot_learning_curve(model, name, X_train, y_train, cv=3);\n",
    "  plt.show()\n",
    "  list_scores.append({'Nama Model': name, 'Feature Scaling':fc, 'Accuracy': accuracy, 'recall':recall, 'Precision': precision, 'F1':f1})\n",
    "\n",
    "\n",
    "  "
   ]
  },
  {
   "cell_type": "code",
   "execution_count": 22,
   "metadata": {},
   "outputs": [
    {
     "name": "stderr",
     "output_type": "stream",
     "text": [
      "C:\\Users\\ASUS\\anaconda3\\lib\\site-packages\\sklearn\\neural_network\\_multilayer_perceptron.py:702: ConvergenceWarning: Stochastic Optimizer: Maximum iterations (200) reached and the optimization hasn't converged yet.\n",
      "  warnings.warn(\n"
     ]
    },
    {
     "data": {
      "text/plain": [
       "0.6228893058161351"
      ]
     },
     "execution_count": 22,
     "metadata": {},
     "output_type": "execute_result"
    }
   ],
   "source": [
    "mlp = MLPClassifier(random_state=20)\n",
    "mlp.fit(X_train, Y_train)\n",
    "mlp.score(X_test, y_test)"
   ]
  },
  {
   "cell_type": "code",
   "execution_count": 29,
   "metadata": {},
   "outputs": [
    {
     "data": {
      "text/plain": [
       "0.44652908067542213"
      ]
     },
     "execution_count": 29,
     "metadata": {},
     "output_type": "execute_result"
    }
   ],
   "source": [
    "model_ada = AdaBoostClassifier(n_estimators=200, learning_rate=0.01)\n",
    "model_ada.fit(X_train, Y_train)\n",
    "model_ada.score(X_test, y_test)"
   ]
  },
  {
   "cell_type": "code",
   "execution_count": 33,
   "metadata": {},
   "outputs": [
    {
     "name": "stdout",
     "output_type": "stream",
     "text": [
      "Epoch 1/200\n",
      "54/54 [==============================] - 1s 7ms/step - loss: 1.5877 - accuracy: 0.3413 - val_loss: 1.5715 - val_accuracy: 0.3630\n",
      "Epoch 2/200\n",
      "54/54 [==============================] - 0s 2ms/step - loss: 1.5568 - accuracy: 0.4100 - val_loss: 1.5382 - val_accuracy: 0.4918\n",
      "Epoch 3/200\n",
      "54/54 [==============================] - 0s 2ms/step - loss: 1.5264 - accuracy: 0.4886 - val_loss: 1.5033 - val_accuracy: 0.5199\n",
      "Epoch 4/200\n",
      "54/54 [==============================] - 0s 2ms/step - loss: 1.4940 - accuracy: 0.5132 - val_loss: 1.4672 - val_accuracy: 0.5433\n",
      "Epoch 5/200\n",
      "54/54 [==============================] - 0s 2ms/step - loss: 1.4602 - accuracy: 0.5326 - val_loss: 1.4287 - val_accuracy: 0.5738\n",
      "Epoch 6/200\n",
      "54/54 [==============================] - 0s 2ms/step - loss: 1.4244 - accuracy: 0.5478 - val_loss: 1.3874 - val_accuracy: 0.6230\n",
      "Epoch 7/200\n",
      "54/54 [==============================] - 0s 2ms/step - loss: 1.3877 - accuracy: 0.5754 - val_loss: 1.3471 - val_accuracy: 0.6347\n",
      "Epoch 8/200\n",
      "54/54 [==============================] - 0s 2ms/step - loss: 1.3502 - accuracy: 0.5988 - val_loss: 1.3056 - val_accuracy: 0.6440\n",
      "Epoch 9/200\n",
      "54/54 [==============================] - 0s 2ms/step - loss: 1.3127 - accuracy: 0.5889 - val_loss: 1.2648 - val_accuracy: 0.6323\n",
      "Epoch 10/200\n",
      "54/54 [==============================] - 0s 2ms/step - loss: 1.2763 - accuracy: 0.5935 - val_loss: 1.2261 - val_accuracy: 0.6581\n",
      "Epoch 11/200\n",
      "54/54 [==============================] - 0s 2ms/step - loss: 1.2418 - accuracy: 0.6035 - val_loss: 1.1887 - val_accuracy: 0.6628\n",
      "Epoch 12/200\n",
      "54/54 [==============================] - 0s 2ms/step - loss: 1.2084 - accuracy: 0.6076 - val_loss: 1.1542 - val_accuracy: 0.6581\n",
      "Epoch 13/200\n",
      "54/54 [==============================] - 0s 2ms/step - loss: 1.1776 - accuracy: 0.6082 - val_loss: 1.1218 - val_accuracy: 0.6651\n",
      "Epoch 14/200\n",
      "54/54 [==============================] - 0s 2ms/step - loss: 1.1487 - accuracy: 0.6229 - val_loss: 1.0919 - val_accuracy: 0.6581\n",
      "Epoch 15/200\n",
      "54/54 [==============================] - 0s 2ms/step - loss: 1.1227 - accuracy: 0.6299 - val_loss: 1.0652 - val_accuracy: 0.6557\n",
      "Epoch 16/200\n",
      "54/54 [==============================] - 0s 2ms/step - loss: 1.0996 - accuracy: 0.6317 - val_loss: 1.0407 - val_accuracy: 0.6581\n",
      "Epoch 17/200\n",
      "54/54 [==============================] - 0s 2ms/step - loss: 1.0785 - accuracy: 0.6287 - val_loss: 1.0190 - val_accuracy: 0.6604\n",
      "Epoch 18/200\n",
      "54/54 [==============================] - 0s 2ms/step - loss: 1.0596 - accuracy: 0.6223 - val_loss: 0.9993 - val_accuracy: 0.6628\n",
      "Epoch 19/200\n",
      "54/54 [==============================] - 0s 3ms/step - loss: 1.0429 - accuracy: 0.6299 - val_loss: 0.9821 - val_accuracy: 0.6698\n",
      "Epoch 20/200\n",
      "54/54 [==============================] - 0s 2ms/step - loss: 1.0279 - accuracy: 0.6323 - val_loss: 0.9663 - val_accuracy: 0.6674\n",
      "Epoch 21/200\n",
      "54/54 [==============================] - 0s 2ms/step - loss: 1.0150 - accuracy: 0.6229 - val_loss: 0.9526 - val_accuracy: 0.6581\n",
      "Epoch 22/200\n",
      "54/54 [==============================] - 0s 2ms/step - loss: 1.0022 - accuracy: 0.6334 - val_loss: 0.9401 - val_accuracy: 0.6698\n",
      "Epoch 23/200\n",
      "54/54 [==============================] - 0s 2ms/step - loss: 0.9917 - accuracy: 0.6282 - val_loss: 0.9287 - val_accuracy: 0.6674\n",
      "Epoch 24/200\n",
      "54/54 [==============================] - 0s 2ms/step - loss: 0.9820 - accuracy: 0.6287 - val_loss: 0.9185 - val_accuracy: 0.6674\n",
      "Epoch 25/200\n",
      "54/54 [==============================] - 0s 2ms/step - loss: 0.9732 - accuracy: 0.6328 - val_loss: 0.9099 - val_accuracy: 0.6698\n",
      "Epoch 26/200\n",
      "54/54 [==============================] - 0s 2ms/step - loss: 0.9655 - accuracy: 0.6252 - val_loss: 0.9016 - val_accuracy: 0.6698\n",
      "Epoch 27/200\n",
      "54/54 [==============================] - 0s 2ms/step - loss: 0.9586 - accuracy: 0.6370 - val_loss: 0.8937 - val_accuracy: 0.6745\n",
      "Epoch 28/200\n",
      "54/54 [==============================] - 0s 2ms/step - loss: 0.9522 - accuracy: 0.6305 - val_loss: 0.8871 - val_accuracy: 0.6745\n",
      "Epoch 29/200\n",
      "54/54 [==============================] - 0s 2ms/step - loss: 0.9463 - accuracy: 0.6381 - val_loss: 0.8805 - val_accuracy: 0.6721\n",
      "Epoch 30/200\n",
      "54/54 [==============================] - 0s 2ms/step - loss: 0.9415 - accuracy: 0.6358 - val_loss: 0.8754 - val_accuracy: 0.6698\n",
      "Epoch 31/200\n",
      "54/54 [==============================] - 0s 2ms/step - loss: 0.9360 - accuracy: 0.6399 - val_loss: 0.8692 - val_accuracy: 0.6628\n",
      "Epoch 32/200\n",
      "54/54 [==============================] - 0s 2ms/step - loss: 0.9315 - accuracy: 0.6352 - val_loss: 0.8642 - val_accuracy: 0.6651\n",
      "Epoch 33/200\n",
      "54/54 [==============================] - 0s 2ms/step - loss: 0.9272 - accuracy: 0.6399 - val_loss: 0.8603 - val_accuracy: 0.6698\n",
      "Epoch 34/200\n",
      "54/54 [==============================] - 0s 2ms/step - loss: 0.9232 - accuracy: 0.6393 - val_loss: 0.8559 - val_accuracy: 0.6674\n",
      "Epoch 35/200\n",
      "54/54 [==============================] - 0s 2ms/step - loss: 0.9200 - accuracy: 0.6393 - val_loss: 0.8520 - val_accuracy: 0.6721\n",
      "Epoch 36/200\n",
      "54/54 [==============================] - 0s 2ms/step - loss: 0.9169 - accuracy: 0.6364 - val_loss: 0.8485 - val_accuracy: 0.6721\n",
      "Epoch 37/200\n",
      "54/54 [==============================] - 0s 2ms/step - loss: 0.9138 - accuracy: 0.6370 - val_loss: 0.8445 - val_accuracy: 0.6674\n",
      "Epoch 38/200\n",
      "54/54 [==============================] - 0s 2ms/step - loss: 0.9113 - accuracy: 0.6358 - val_loss: 0.8415 - val_accuracy: 0.6674\n",
      "Epoch 39/200\n",
      "54/54 [==============================] - 0s 2ms/step - loss: 0.9079 - accuracy: 0.6352 - val_loss: 0.8386 - val_accuracy: 0.6721\n",
      "Epoch 40/200\n",
      "54/54 [==============================] - 0s 2ms/step - loss: 0.9060 - accuracy: 0.6364 - val_loss: 0.8360 - val_accuracy: 0.6674\n",
      "Epoch 41/200\n",
      "54/54 [==============================] - 0s 2ms/step - loss: 0.9032 - accuracy: 0.6352 - val_loss: 0.8338 - val_accuracy: 0.6721\n",
      "Epoch 42/200\n",
      "54/54 [==============================] - 0s 2ms/step - loss: 0.9010 - accuracy: 0.6399 - val_loss: 0.8313 - val_accuracy: 0.6792\n",
      "Epoch 43/200\n",
      "54/54 [==============================] - 0s 2ms/step - loss: 0.8985 - accuracy: 0.6352 - val_loss: 0.8286 - val_accuracy: 0.6745\n",
      "Epoch 44/200\n",
      "54/54 [==============================] - 0s 2ms/step - loss: 0.8964 - accuracy: 0.6370 - val_loss: 0.8260 - val_accuracy: 0.6745\n",
      "Epoch 45/200\n",
      "54/54 [==============================] - 0s 2ms/step - loss: 0.8948 - accuracy: 0.6370 - val_loss: 0.8242 - val_accuracy: 0.6745\n",
      "Epoch 46/200\n",
      "54/54 [==============================] - 0s 2ms/step - loss: 0.8936 - accuracy: 0.6364 - val_loss: 0.8225 - val_accuracy: 0.6792\n",
      "Epoch 47/200\n",
      "54/54 [==============================] - 0s 2ms/step - loss: 0.8912 - accuracy: 0.6393 - val_loss: 0.8203 - val_accuracy: 0.6768\n",
      "Epoch 48/200\n",
      "54/54 [==============================] - 0s 2ms/step - loss: 0.8913 - accuracy: 0.6381 - val_loss: 0.8185 - val_accuracy: 0.6721\n",
      "Epoch 49/200\n",
      "54/54 [==============================] - 0s 2ms/step - loss: 0.8885 - accuracy: 0.6411 - val_loss: 0.8171 - val_accuracy: 0.6745\n",
      "Epoch 50/200\n",
      "54/54 [==============================] - 0s 2ms/step - loss: 0.8870 - accuracy: 0.6399 - val_loss: 0.8157 - val_accuracy: 0.6815\n",
      "Epoch 51/200\n",
      "54/54 [==============================] - 0s 2ms/step - loss: 0.8859 - accuracy: 0.6358 - val_loss: 0.8141 - val_accuracy: 0.6792\n",
      "Epoch 52/200\n",
      "54/54 [==============================] - 0s 2ms/step - loss: 0.8846 - accuracy: 0.6381 - val_loss: 0.8131 - val_accuracy: 0.6792\n",
      "Epoch 53/200\n",
      "54/54 [==============================] - 0s 3ms/step - loss: 0.8826 - accuracy: 0.6370 - val_loss: 0.8112 - val_accuracy: 0.6792\n",
      "Epoch 54/200\n",
      "54/54 [==============================] - 0s 2ms/step - loss: 0.8817 - accuracy: 0.6381 - val_loss: 0.8104 - val_accuracy: 0.6862\n",
      "Epoch 55/200\n",
      "54/54 [==============================] - 0s 2ms/step - loss: 0.8806 - accuracy: 0.6393 - val_loss: 0.8088 - val_accuracy: 0.6815\n",
      "Epoch 56/200\n",
      "54/54 [==============================] - 0s 2ms/step - loss: 0.8797 - accuracy: 0.6358 - val_loss: 0.8080 - val_accuracy: 0.6815\n",
      "Epoch 57/200\n",
      "54/54 [==============================] - 0s 2ms/step - loss: 0.8785 - accuracy: 0.6358 - val_loss: 0.8062 - val_accuracy: 0.6792\n",
      "Epoch 58/200\n",
      "54/54 [==============================] - 0s 2ms/step - loss: 0.8776 - accuracy: 0.6405 - val_loss: 0.8048 - val_accuracy: 0.6698\n"
     ]
    },
    {
     "name": "stdout",
     "output_type": "stream",
     "text": [
      "Epoch 59/200\n",
      "54/54 [==============================] - 0s 2ms/step - loss: 0.8767 - accuracy: 0.6411 - val_loss: 0.8041 - val_accuracy: 0.6745\n",
      "Epoch 60/200\n",
      "54/54 [==============================] - 0s 2ms/step - loss: 0.8753 - accuracy: 0.6416 - val_loss: 0.8035 - val_accuracy: 0.6838\n",
      "Epoch 61/200\n",
      "54/54 [==============================] - 0s 2ms/step - loss: 0.8747 - accuracy: 0.6370 - val_loss: 0.8025 - val_accuracy: 0.6768\n",
      "Epoch 62/200\n",
      "54/54 [==============================] - 0s 2ms/step - loss: 0.8739 - accuracy: 0.6364 - val_loss: 0.8013 - val_accuracy: 0.6745\n",
      "Epoch 63/200\n",
      "54/54 [==============================] - 0s 2ms/step - loss: 0.8731 - accuracy: 0.6399 - val_loss: 0.8010 - val_accuracy: 0.6745\n",
      "Epoch 64/200\n",
      "54/54 [==============================] - 0s 2ms/step - loss: 0.8730 - accuracy: 0.6334 - val_loss: 0.7997 - val_accuracy: 0.6815\n",
      "Epoch 65/200\n",
      "54/54 [==============================] - 0s 2ms/step - loss: 0.8715 - accuracy: 0.6416 - val_loss: 0.7987 - val_accuracy: 0.6721\n",
      "Epoch 66/200\n",
      "54/54 [==============================] - 0s 2ms/step - loss: 0.8712 - accuracy: 0.6370 - val_loss: 0.7981 - val_accuracy: 0.6792\n",
      "Epoch 67/200\n",
      "54/54 [==============================] - 0s 2ms/step - loss: 0.8696 - accuracy: 0.6387 - val_loss: 0.7975 - val_accuracy: 0.6792\n",
      "Epoch 68/200\n",
      "54/54 [==============================] - 0s 2ms/step - loss: 0.8692 - accuracy: 0.6393 - val_loss: 0.7969 - val_accuracy: 0.6815\n",
      "Epoch 69/200\n",
      "54/54 [==============================] - 0s 2ms/step - loss: 0.8686 - accuracy: 0.6399 - val_loss: 0.7961 - val_accuracy: 0.6792\n",
      "Epoch 70/200\n",
      "54/54 [==============================] - 0s 2ms/step - loss: 0.8681 - accuracy: 0.6422 - val_loss: 0.7954 - val_accuracy: 0.6768\n",
      "Epoch 71/200\n",
      "54/54 [==============================] - 0s 2ms/step - loss: 0.8680 - accuracy: 0.6422 - val_loss: 0.7946 - val_accuracy: 0.6768\n",
      "Epoch 72/200\n",
      "54/54 [==============================] - 0s 2ms/step - loss: 0.8665 - accuracy: 0.6411 - val_loss: 0.7944 - val_accuracy: 0.6815\n",
      "Epoch 73/200\n",
      "54/54 [==============================] - 0s 2ms/step - loss: 0.8657 - accuracy: 0.6434 - val_loss: 0.7935 - val_accuracy: 0.6768\n",
      "Epoch 74/200\n",
      "54/54 [==============================] - 0s 2ms/step - loss: 0.8656 - accuracy: 0.6428 - val_loss: 0.7932 - val_accuracy: 0.6768\n",
      "Epoch 75/200\n",
      "54/54 [==============================] - 0s 2ms/step - loss: 0.8648 - accuracy: 0.6387 - val_loss: 0.7926 - val_accuracy: 0.6792\n",
      "Epoch 76/200\n",
      "54/54 [==============================] - 0s 2ms/step - loss: 0.8642 - accuracy: 0.6411 - val_loss: 0.7923 - val_accuracy: 0.6768\n",
      "Epoch 77/200\n",
      "54/54 [==============================] - 0s 2ms/step - loss: 0.8643 - accuracy: 0.6411 - val_loss: 0.7920 - val_accuracy: 0.6768\n",
      "Epoch 78/200\n",
      "54/54 [==============================] - 0s 2ms/step - loss: 0.8635 - accuracy: 0.6416 - val_loss: 0.7910 - val_accuracy: 0.6721\n",
      "Epoch 79/200\n",
      "54/54 [==============================] - 0s 2ms/step - loss: 0.8630 - accuracy: 0.6405 - val_loss: 0.7909 - val_accuracy: 0.6792\n",
      "Epoch 80/200\n",
      "54/54 [==============================] - 0s 2ms/step - loss: 0.8627 - accuracy: 0.6375 - val_loss: 0.7902 - val_accuracy: 0.6862\n",
      "Epoch 81/200\n",
      "54/54 [==============================] - 0s 2ms/step - loss: 0.8621 - accuracy: 0.6399 - val_loss: 0.7897 - val_accuracy: 0.6792\n",
      "Epoch 82/200\n",
      "54/54 [==============================] - 0s 2ms/step - loss: 0.8619 - accuracy: 0.6393 - val_loss: 0.7893 - val_accuracy: 0.6815\n",
      "Epoch 83/200\n",
      "54/54 [==============================] - 0s 2ms/step - loss: 0.8611 - accuracy: 0.6416 - val_loss: 0.7898 - val_accuracy: 0.6838\n",
      "Epoch 84/200\n",
      "54/54 [==============================] - 0s 2ms/step - loss: 0.8610 - accuracy: 0.6387 - val_loss: 0.7886 - val_accuracy: 0.6815\n",
      "Epoch 85/200\n",
      "54/54 [==============================] - 0s 2ms/step - loss: 0.8604 - accuracy: 0.6428 - val_loss: 0.7883 - val_accuracy: 0.6721\n",
      "Epoch 86/200\n",
      "54/54 [==============================] - 0s 2ms/step - loss: 0.8597 - accuracy: 0.6440 - val_loss: 0.7879 - val_accuracy: 0.6792\n",
      "Epoch 87/200\n",
      "54/54 [==============================] - 0s 2ms/step - loss: 0.8604 - accuracy: 0.6405 - val_loss: 0.7875 - val_accuracy: 0.6792\n",
      "Epoch 88/200\n",
      "54/54 [==============================] - 0s 2ms/step - loss: 0.8594 - accuracy: 0.6387 - val_loss: 0.7872 - val_accuracy: 0.6838\n",
      "Epoch 89/200\n",
      "54/54 [==============================] - 0s 2ms/step - loss: 0.8594 - accuracy: 0.6422 - val_loss: 0.7873 - val_accuracy: 0.6838\n",
      "Epoch 90/200\n",
      "54/54 [==============================] - 0s 2ms/step - loss: 0.8583 - accuracy: 0.6457 - val_loss: 0.7867 - val_accuracy: 0.6768\n",
      "Epoch 91/200\n",
      "54/54 [==============================] - 0s 2ms/step - loss: 0.8583 - accuracy: 0.6393 - val_loss: 0.7861 - val_accuracy: 0.6838\n",
      "Epoch 92/200\n",
      "54/54 [==============================] - 0s 2ms/step - loss: 0.8587 - accuracy: 0.6405 - val_loss: 0.7863 - val_accuracy: 0.6768\n",
      "Epoch 93/200\n",
      "54/54 [==============================] - 0s 2ms/step - loss: 0.8579 - accuracy: 0.6405 - val_loss: 0.7860 - val_accuracy: 0.6815\n",
      "Epoch 94/200\n",
      "54/54 [==============================] - 0s 2ms/step - loss: 0.8572 - accuracy: 0.6446 - val_loss: 0.7857 - val_accuracy: 0.6815\n",
      "Epoch 95/200\n",
      "54/54 [==============================] - 0s 2ms/step - loss: 0.8570 - accuracy: 0.6452 - val_loss: 0.7851 - val_accuracy: 0.6792\n",
      "Epoch 96/200\n",
      "54/54 [==============================] - 0s 2ms/step - loss: 0.8574 - accuracy: 0.6434 - val_loss: 0.7848 - val_accuracy: 0.6792\n",
      "Epoch 97/200\n",
      "54/54 [==============================] - 0s 2ms/step - loss: 0.8568 - accuracy: 0.6434 - val_loss: 0.7846 - val_accuracy: 0.6745\n",
      "Epoch 98/200\n",
      "54/54 [==============================] - 0s 2ms/step - loss: 0.8565 - accuracy: 0.6434 - val_loss: 0.7846 - val_accuracy: 0.6815\n",
      "Epoch 99/200\n",
      "54/54 [==============================] - 0s 2ms/step - loss: 0.8564 - accuracy: 0.6422 - val_loss: 0.7841 - val_accuracy: 0.6745\n",
      "Epoch 100/200\n",
      "54/54 [==============================] - 0s 2ms/step - loss: 0.8560 - accuracy: 0.6422 - val_loss: 0.7836 - val_accuracy: 0.6792\n",
      "Epoch 101/200\n",
      "54/54 [==============================] - 0s 2ms/step - loss: 0.8561 - accuracy: 0.6416 - val_loss: 0.7836 - val_accuracy: 0.6721\n",
      "Epoch 102/200\n",
      "54/54 [==============================] - 0s 2ms/step - loss: 0.8552 - accuracy: 0.6457 - val_loss: 0.7831 - val_accuracy: 0.6768\n",
      "Epoch 103/200\n",
      "54/54 [==============================] - 0s 2ms/step - loss: 0.8556 - accuracy: 0.6487 - val_loss: 0.7830 - val_accuracy: 0.6815\n",
      "Epoch 104/200\n",
      "54/54 [==============================] - 0s 2ms/step - loss: 0.8555 - accuracy: 0.6393 - val_loss: 0.7827 - val_accuracy: 0.6838\n",
      "Epoch 105/200\n",
      "54/54 [==============================] - 0s 2ms/step - loss: 0.8548 - accuracy: 0.6428 - val_loss: 0.7826 - val_accuracy: 0.6768\n",
      "Epoch 106/200\n",
      "54/54 [==============================] - 0s 2ms/step - loss: 0.8550 - accuracy: 0.6428 - val_loss: 0.7825 - val_accuracy: 0.6768\n",
      "Epoch 107/200\n",
      "54/54 [==============================] - 0s 2ms/step - loss: 0.8552 - accuracy: 0.6387 - val_loss: 0.7828 - val_accuracy: 0.6792\n",
      "Epoch 108/200\n",
      "54/54 [==============================] - 0s 2ms/step - loss: 0.8540 - accuracy: 0.6434 - val_loss: 0.7820 - val_accuracy: 0.6768\n",
      "Epoch 109/200\n",
      "54/54 [==============================] - 0s 2ms/step - loss: 0.8536 - accuracy: 0.6446 - val_loss: 0.7818 - val_accuracy: 0.6768\n",
      "Epoch 110/200\n",
      "54/54 [==============================] - 0s 2ms/step - loss: 0.8535 - accuracy: 0.6440 - val_loss: 0.7819 - val_accuracy: 0.6792\n",
      "Epoch 111/200\n",
      "54/54 [==============================] - 0s 2ms/step - loss: 0.8536 - accuracy: 0.6428 - val_loss: 0.7818 - val_accuracy: 0.6792\n",
      "Epoch 112/200\n",
      "54/54 [==============================] - 0s 2ms/step - loss: 0.8532 - accuracy: 0.6422 - val_loss: 0.7813 - val_accuracy: 0.6815\n",
      "Epoch 113/200\n",
      "54/54 [==============================] - 0s 2ms/step - loss: 0.8535 - accuracy: 0.6428 - val_loss: 0.7811 - val_accuracy: 0.6862\n",
      "Epoch 114/200\n",
      "54/54 [==============================] - 0s 2ms/step - loss: 0.8531 - accuracy: 0.6463 - val_loss: 0.7807 - val_accuracy: 0.6745\n",
      "Epoch 115/200\n",
      "54/54 [==============================] - 0s 2ms/step - loss: 0.8533 - accuracy: 0.6405 - val_loss: 0.7808 - val_accuracy: 0.6792\n",
      "Epoch 116/200\n",
      "54/54 [==============================] - 0s 2ms/step - loss: 0.8530 - accuracy: 0.6446 - val_loss: 0.7806 - val_accuracy: 0.6792\n",
      "Epoch 117/200\n",
      "54/54 [==============================] - 0s 2ms/step - loss: 0.8528 - accuracy: 0.6440 - val_loss: 0.7807 - val_accuracy: 0.6838\n",
      "Epoch 118/200\n",
      "54/54 [==============================] - 0s 2ms/step - loss: 0.8525 - accuracy: 0.6428 - val_loss: 0.7804 - val_accuracy: 0.6815\n",
      "Epoch 119/200\n",
      "54/54 [==============================] - 0s 2ms/step - loss: 0.8523 - accuracy: 0.6422 - val_loss: 0.7802 - val_accuracy: 0.6815\n",
      "Epoch 120/200\n",
      "54/54 [==============================] - 0s 2ms/step - loss: 0.8522 - accuracy: 0.6399 - val_loss: 0.7801 - val_accuracy: 0.6815\n",
      "Epoch 121/200\n",
      "54/54 [==============================] - 0s 2ms/step - loss: 0.8520 - accuracy: 0.6446 - val_loss: 0.7799 - val_accuracy: 0.6745\n",
      "Epoch 122/200\n",
      "54/54 [==============================] - 0s 2ms/step - loss: 0.8517 - accuracy: 0.6416 - val_loss: 0.7801 - val_accuracy: 0.6838\n",
      "Epoch 123/200\n",
      "54/54 [==============================] - 0s 2ms/step - loss: 0.8515 - accuracy: 0.6422 - val_loss: 0.7799 - val_accuracy: 0.6768\n",
      "Epoch 124/200\n",
      "54/54 [==============================] - 0s 2ms/step - loss: 0.8517 - accuracy: 0.6446 - val_loss: 0.7796 - val_accuracy: 0.6745\n",
      "Epoch 125/200\n",
      "54/54 [==============================] - 0s 2ms/step - loss: 0.8512 - accuracy: 0.6487 - val_loss: 0.7796 - val_accuracy: 0.6745\n",
      "Epoch 126/200\n",
      "54/54 [==============================] - 0s 2ms/step - loss: 0.8514 - accuracy: 0.6434 - val_loss: 0.7795 - val_accuracy: 0.6838\n",
      "Epoch 127/200\n",
      "54/54 [==============================] - 0s 3ms/step - loss: 0.8509 - accuracy: 0.6452 - val_loss: 0.7796 - val_accuracy: 0.6792\n",
      "Epoch 128/200\n",
      "54/54 [==============================] - 0s 2ms/step - loss: 0.8511 - accuracy: 0.6452 - val_loss: 0.7793 - val_accuracy: 0.6721\n",
      "Epoch 129/200\n",
      "54/54 [==============================] - 0s 2ms/step - loss: 0.8510 - accuracy: 0.6452 - val_loss: 0.7798 - val_accuracy: 0.6768\n",
      "Epoch 130/200\n",
      "54/54 [==============================] - 0s 2ms/step - loss: 0.8504 - accuracy: 0.6428 - val_loss: 0.7792 - val_accuracy: 0.6745\n",
      "Epoch 131/200\n",
      "54/54 [==============================] - 0s 3ms/step - loss: 0.8506 - accuracy: 0.6411 - val_loss: 0.7790 - val_accuracy: 0.6792\n",
      "Epoch 132/200\n",
      "54/54 [==============================] - 0s 2ms/step - loss: 0.8511 - accuracy: 0.6475 - val_loss: 0.7790 - val_accuracy: 0.6838\n",
      "Epoch 133/200\n",
      "54/54 [==============================] - 0s 2ms/step - loss: 0.8498 - accuracy: 0.6434 - val_loss: 0.7790 - val_accuracy: 0.6838\n",
      "Epoch 134/200\n",
      "54/54 [==============================] - 0s 2ms/step - loss: 0.8496 - accuracy: 0.6428 - val_loss: 0.7787 - val_accuracy: 0.6745\n",
      "Epoch 135/200\n",
      "54/54 [==============================] - 0s 3ms/step - loss: 0.8497 - accuracy: 0.6463 - val_loss: 0.7788 - val_accuracy: 0.6768\n",
      "Epoch 136/200\n",
      "54/54 [==============================] - 0s 2ms/step - loss: 0.8503 - accuracy: 0.6393 - val_loss: 0.7787 - val_accuracy: 0.6792\n",
      "Epoch 137/200\n",
      "54/54 [==============================] - 0s 2ms/step - loss: 0.8498 - accuracy: 0.6411 - val_loss: 0.7783 - val_accuracy: 0.6792\n",
      "Epoch 138/200\n",
      "54/54 [==============================] - 0s 2ms/step - loss: 0.8500 - accuracy: 0.6499 - val_loss: 0.7783 - val_accuracy: 0.6815\n",
      "Epoch 139/200\n",
      "54/54 [==============================] - 0s 2ms/step - loss: 0.8503 - accuracy: 0.6428 - val_loss: 0.7781 - val_accuracy: 0.6745\n",
      "Epoch 140/200\n",
      "54/54 [==============================] - 0s 2ms/step - loss: 0.8493 - accuracy: 0.6446 - val_loss: 0.7782 - val_accuracy: 0.6838\n",
      "Epoch 141/200\n",
      "54/54 [==============================] - 0s 2ms/step - loss: 0.8501 - accuracy: 0.6399 - val_loss: 0.7782 - val_accuracy: 0.6815\n",
      "Epoch 142/200\n",
      "54/54 [==============================] - 0s 2ms/step - loss: 0.8493 - accuracy: 0.6428 - val_loss: 0.7777 - val_accuracy: 0.6745\n",
      "Epoch 143/200\n",
      "54/54 [==============================] - 0s 2ms/step - loss: 0.8491 - accuracy: 0.6452 - val_loss: 0.7779 - val_accuracy: 0.6745\n",
      "Epoch 144/200\n",
      "54/54 [==============================] - 0s 2ms/step - loss: 0.8485 - accuracy: 0.6475 - val_loss: 0.7781 - val_accuracy: 0.6838\n",
      "Epoch 145/200\n",
      "54/54 [==============================] - 0s 2ms/step - loss: 0.8490 - accuracy: 0.6446 - val_loss: 0.7777 - val_accuracy: 0.6792\n",
      "Epoch 146/200\n",
      "54/54 [==============================] - 0s 2ms/step - loss: 0.8487 - accuracy: 0.6422 - val_loss: 0.7775 - val_accuracy: 0.6721\n",
      "Epoch 147/200\n",
      "54/54 [==============================] - 0s 2ms/step - loss: 0.8484 - accuracy: 0.6416 - val_loss: 0.7779 - val_accuracy: 0.6768\n",
      "Epoch 148/200\n",
      "54/54 [==============================] - 0s 2ms/step - loss: 0.8486 - accuracy: 0.6446 - val_loss: 0.7776 - val_accuracy: 0.6745\n",
      "Epoch 149/200\n",
      "54/54 [==============================] - 0s 2ms/step - loss: 0.8480 - accuracy: 0.6440 - val_loss: 0.7775 - val_accuracy: 0.6792\n",
      "Epoch 150/200\n",
      "54/54 [==============================] - 0s 2ms/step - loss: 0.8480 - accuracy: 0.6428 - val_loss: 0.7779 - val_accuracy: 0.6768\n",
      "Epoch 151/200\n",
      "54/54 [==============================] - 0s 2ms/step - loss: 0.8483 - accuracy: 0.6440 - val_loss: 0.7776 - val_accuracy: 0.6792\n",
      "Epoch 152/200\n",
      "54/54 [==============================] - 0s 2ms/step - loss: 0.8476 - accuracy: 0.6428 - val_loss: 0.7772 - val_accuracy: 0.6768\n",
      "Epoch 153/200\n",
      "54/54 [==============================] - 0s 2ms/step - loss: 0.8478 - accuracy: 0.6428 - val_loss: 0.7774 - val_accuracy: 0.6745\n",
      "Epoch 154/200\n",
      "54/54 [==============================] - 0s 2ms/step - loss: 0.8487 - accuracy: 0.6422 - val_loss: 0.7770 - val_accuracy: 0.6698\n",
      "Epoch 155/200\n",
      "54/54 [==============================] - 0s 2ms/step - loss: 0.8478 - accuracy: 0.6422 - val_loss: 0.7771 - val_accuracy: 0.6745\n",
      "Epoch 156/200\n",
      "54/54 [==============================] - 0s 2ms/step - loss: 0.8477 - accuracy: 0.6457 - val_loss: 0.7777 - val_accuracy: 0.6792\n",
      "Epoch 157/200\n",
      "54/54 [==============================] - 0s 2ms/step - loss: 0.8475 - accuracy: 0.6416 - val_loss: 0.7774 - val_accuracy: 0.6768\n",
      "Epoch 158/200\n",
      "54/54 [==============================] - 0s 2ms/step - loss: 0.8473 - accuracy: 0.6405 - val_loss: 0.7771 - val_accuracy: 0.6792\n",
      "Epoch 159/200\n",
      "54/54 [==============================] - 0s 2ms/step - loss: 0.8477 - accuracy: 0.6405 - val_loss: 0.7770 - val_accuracy: 0.6792\n",
      "Epoch 160/200\n",
      "54/54 [==============================] - 0s 2ms/step - loss: 0.8471 - accuracy: 0.6457 - val_loss: 0.7766 - val_accuracy: 0.6721\n",
      "Epoch 161/200\n",
      "54/54 [==============================] - 0s 2ms/step - loss: 0.8476 - accuracy: 0.6422 - val_loss: 0.7771 - val_accuracy: 0.6815\n",
      "Epoch 162/200\n",
      "54/54 [==============================] - 0s 2ms/step - loss: 0.8472 - accuracy: 0.6463 - val_loss: 0.7771 - val_accuracy: 0.6815\n",
      "Epoch 163/200\n",
      "54/54 [==============================] - 0s 2ms/step - loss: 0.8475 - accuracy: 0.6411 - val_loss: 0.7766 - val_accuracy: 0.6792\n",
      "Epoch 164/200\n",
      "54/54 [==============================] - 0s 2ms/step - loss: 0.8468 - accuracy: 0.6446 - val_loss: 0.7770 - val_accuracy: 0.6792\n",
      "Epoch 165/200\n",
      "54/54 [==============================] - 0s 2ms/step - loss: 0.8465 - accuracy: 0.6411 - val_loss: 0.7769 - val_accuracy: 0.6792\n",
      "Epoch 166/200\n",
      "54/54 [==============================] - 0s 2ms/step - loss: 0.8469 - accuracy: 0.6422 - val_loss: 0.7764 - val_accuracy: 0.6745\n",
      "Epoch 167/200\n",
      "54/54 [==============================] - 0s 2ms/step - loss: 0.8462 - accuracy: 0.6422 - val_loss: 0.7765 - val_accuracy: 0.6792\n",
      "Epoch 168/200\n",
      "54/54 [==============================] - 0s 2ms/step - loss: 0.8466 - accuracy: 0.6440 - val_loss: 0.7762 - val_accuracy: 0.6745\n",
      "Epoch 169/200\n",
      "54/54 [==============================] - 0s 2ms/step - loss: 0.8466 - accuracy: 0.6422 - val_loss: 0.7766 - val_accuracy: 0.6815\n",
      "Epoch 170/200\n",
      "54/54 [==============================] - 0s 2ms/step - loss: 0.8463 - accuracy: 0.6446 - val_loss: 0.7767 - val_accuracy: 0.6768\n",
      "Epoch 171/200\n",
      "54/54 [==============================] - 0s 2ms/step - loss: 0.8463 - accuracy: 0.6434 - val_loss: 0.7760 - val_accuracy: 0.6815\n",
      "Epoch 172/200\n",
      "54/54 [==============================] - 0s 2ms/step - loss: 0.8461 - accuracy: 0.6399 - val_loss: 0.7759 - val_accuracy: 0.6745\n",
      "Epoch 173/200\n"
     ]
    },
    {
     "name": "stdout",
     "output_type": "stream",
     "text": [
      "54/54 [==============================] - 0s 2ms/step - loss: 0.8461 - accuracy: 0.6440 - val_loss: 0.7759 - val_accuracy: 0.6698\n",
      "Epoch 174/200\n",
      "54/54 [==============================] - 0s 2ms/step - loss: 0.8463 - accuracy: 0.6405 - val_loss: 0.7759 - val_accuracy: 0.6745\n",
      "Epoch 175/200\n",
      "54/54 [==============================] - 0s 3ms/step - loss: 0.8466 - accuracy: 0.6422 - val_loss: 0.7759 - val_accuracy: 0.6721\n",
      "Epoch 176/200\n",
      "54/54 [==============================] - 0s 2ms/step - loss: 0.8456 - accuracy: 0.6434 - val_loss: 0.7758 - val_accuracy: 0.6792\n",
      "Epoch 177/200\n",
      "54/54 [==============================] - 0s 2ms/step - loss: 0.8460 - accuracy: 0.6452 - val_loss: 0.7757 - val_accuracy: 0.6745\n",
      "Epoch 178/200\n",
      "54/54 [==============================] - 0s 2ms/step - loss: 0.8455 - accuracy: 0.6434 - val_loss: 0.7761 - val_accuracy: 0.6815\n",
      "Epoch 179/200\n",
      "54/54 [==============================] - 0s 2ms/step - loss: 0.8462 - accuracy: 0.6463 - val_loss: 0.7764 - val_accuracy: 0.6792\n",
      "Epoch 180/200\n",
      "54/54 [==============================] - 0s 2ms/step - loss: 0.8452 - accuracy: 0.6446 - val_loss: 0.7761 - val_accuracy: 0.6768\n",
      "Epoch 181/200\n",
      "54/54 [==============================] - 0s 2ms/step - loss: 0.8453 - accuracy: 0.6387 - val_loss: 0.7761 - val_accuracy: 0.6768\n",
      "Epoch 182/200\n",
      "54/54 [==============================] - 0s 2ms/step - loss: 0.8451 - accuracy: 0.6440 - val_loss: 0.7759 - val_accuracy: 0.6768\n",
      "Epoch 183/200\n",
      "54/54 [==============================] - 0s 2ms/step - loss: 0.8458 - accuracy: 0.6405 - val_loss: 0.7756 - val_accuracy: 0.6745\n",
      "Epoch 184/200\n",
      "54/54 [==============================] - 0s 2ms/step - loss: 0.8459 - accuracy: 0.6416 - val_loss: 0.7759 - val_accuracy: 0.6745\n",
      "Epoch 185/200\n",
      "54/54 [==============================] - 0s 2ms/step - loss: 0.8457 - accuracy: 0.6352 - val_loss: 0.7756 - val_accuracy: 0.6745\n",
      "Epoch 186/200\n",
      "54/54 [==============================] - 0s 2ms/step - loss: 0.8459 - accuracy: 0.6446 - val_loss: 0.7760 - val_accuracy: 0.6838\n",
      "Epoch 187/200\n",
      "54/54 [==============================] - 0s 2ms/step - loss: 0.8451 - accuracy: 0.6434 - val_loss: 0.7754 - val_accuracy: 0.6815\n",
      "Epoch 188/200\n",
      "54/54 [==============================] - 0s 4ms/step - loss: 0.8447 - accuracy: 0.6457 - val_loss: 0.7754 - val_accuracy: 0.6745\n",
      "Epoch 189/200\n",
      "54/54 [==============================] - 0s 2ms/step - loss: 0.8444 - accuracy: 0.6434 - val_loss: 0.7756 - val_accuracy: 0.6768\n",
      "Epoch 190/200\n",
      "54/54 [==============================] - 0s 2ms/step - loss: 0.8443 - accuracy: 0.6446 - val_loss: 0.7755 - val_accuracy: 0.6768\n",
      "Epoch 191/200\n",
      "54/54 [==============================] - 0s 2ms/step - loss: 0.8443 - accuracy: 0.6416 - val_loss: 0.7750 - val_accuracy: 0.6674\n",
      "Epoch 192/200\n",
      "54/54 [==============================] - 0s 2ms/step - loss: 0.8443 - accuracy: 0.6469 - val_loss: 0.7752 - val_accuracy: 0.6815\n",
      "Epoch 193/200\n",
      "54/54 [==============================] - 0s 2ms/step - loss: 0.8443 - accuracy: 0.6393 - val_loss: 0.7750 - val_accuracy: 0.6745\n",
      "Epoch 194/200\n",
      "54/54 [==============================] - 0s 2ms/step - loss: 0.8445 - accuracy: 0.6422 - val_loss: 0.7751 - val_accuracy: 0.6815\n",
      "Epoch 195/200\n",
      "54/54 [==============================] - 0s 2ms/step - loss: 0.8444 - accuracy: 0.6440 - val_loss: 0.7750 - val_accuracy: 0.6792\n",
      "Epoch 196/200\n",
      "54/54 [==============================] - 0s 2ms/step - loss: 0.8446 - accuracy: 0.6475 - val_loss: 0.7752 - val_accuracy: 0.6721\n",
      "Epoch 197/200\n",
      "54/54 [==============================] - 0s 2ms/step - loss: 0.8443 - accuracy: 0.6416 - val_loss: 0.7748 - val_accuracy: 0.6768\n",
      "Epoch 198/200\n",
      "54/54 [==============================] - 0s 2ms/step - loss: 0.8449 - accuracy: 0.6399 - val_loss: 0.7751 - val_accuracy: 0.6815\n",
      "Epoch 199/200\n",
      "54/54 [==============================] - 0s 2ms/step - loss: 0.8436 - accuracy: 0.6440 - val_loss: 0.7753 - val_accuracy: 0.6792\n",
      "Epoch 200/200\n",
      "54/54 [==============================] - 0s 2ms/step - loss: 0.8432 - accuracy: 0.6434 - val_loss: 0.7749 - val_accuracy: 0.6815\n"
     ]
    },
    {
     "data": {
      "text/plain": [
       "<keras.callbacks.History at 0x2608f84e910>"
      ]
     },
     "execution_count": 33,
     "metadata": {},
     "output_type": "execute_result"
    }
   ],
   "source": [
    "import tensorflow as tf\n",
    "from tensorflow.keras.models import Sequential, Model, load_model\n",
    "from keras.layers import Flatten, Dense\n",
    "\n",
    "model = Sequential()\n",
    "model.add(Flatten())\n",
    "model.add(Dense(12,input_shape=(12,),activation='relu'))\n",
    "model.add(Dense(5,activation='softmax'))\n",
    "\n",
    "# model = tf.keras.Sequential([\n",
    "#     tf.keras.layers.Dense(12, input_shape=(12,), activation='relu')\n",
    "#     tf.keras.layers.Dense(5, activation='softmax')\n",
    "# ])\n",
    "\n",
    "\n",
    "model.compile(\n",
    "    optimizer='adam',\n",
    "    metrics=['accuracy'],\n",
    "    loss='sparse_categorical_crossentropy'\n",
    "\n",
    ")\n",
    "\n",
    "model.fit(X_train,Y_train,batch_size=32,validation_split=0.20, epochs=200, shuffle=True)\n",
    "\n"
   ]
  },
  {
   "cell_type": "code",
   "execution_count": 34,
   "metadata": {},
   "outputs": [
    {
     "name": "stdout",
     "output_type": "stream",
     "text": [
      "Model: \"sequential\"\n",
      "_________________________________________________________________\n",
      " Layer (type)                Output Shape              Param #   \n",
      "=================================================================\n",
      " flatten (Flatten)           (None, 2)                 0         \n",
      "                                                                 \n",
      " dense (Dense)               (None, 12)                36        \n",
      "                                                                 \n",
      " dense_1 (Dense)             (None, 5)                 65        \n",
      "                                                                 \n",
      "=================================================================\n",
      "Total params: 101\n",
      "Trainable params: 101\n",
      "Non-trainable params: 0\n",
      "_________________________________________________________________\n"
     ]
    }
   ],
   "source": [
    "model.summary()"
   ]
  },
  {
   "cell_type": "code",
   "execution_count": 36,
   "metadata": {},
   "outputs": [
    {
     "name": "stdout",
     "output_type": "stream",
     "text": [
      "17/17 [==============================] - 0s 935us/step - loss: 0.8377 - accuracy: 0.6266\n",
      "Akurasi Testing ANN: 0.6266416311264038\n"
     ]
    }
   ],
   "source": [
    "from sklearn.metrics import confusion_matrix\n",
    "\n",
    "loss, accuracy = model.evaluate(X_test, y_test)\n",
    "print('Akurasi Testing ANN:', accuracy)\n"
   ]
  },
  {
   "cell_type": "markdown",
   "metadata": {},
   "source": [
    "### <center> Terima Kasih </center>"
   ]
  }
 ],
 "metadata": {
  "kernelspec": {
   "display_name": "Python 3",
   "language": "python",
   "name": "python3"
  },
  "language_info": {
   "codemirror_mode": {
    "name": "ipython",
    "version": 3
   },
   "file_extension": ".py",
   "mimetype": "text/x-python",
   "name": "python",
   "nbconvert_exporter": "python",
   "pygments_lexer": "ipython3",
   "version": "3.8.8"
  }
 },
 "nbformat": 4,
 "nbformat_minor": 2
}
