{
 "cells": [
  {
   "cell_type": "markdown",
   "id": "ac262411",
   "metadata": {},
   "source": [
    "# TensorFlow dan Bodypix\n",
    "\n",
    "<b> Nama &nbsp; &nbsp; &nbsp; &nbsp; &nbsp;   : </b> Daniel Morantha <br>\n",
    "<b> NIM  &nbsp; &nbsp; &nbsp; &nbsp; &nbsp; &nbsp; &nbsp; : </b> 2019230088 <br>\n",
    "<b> Matakuliah  &nbsp;   : </b> Intelegensi Buatan <br>\n",
    "<b> Dosen  &nbsp; &nbsp; &nbsp; &nbsp; &nbsp;  : </b> HERIANTO, S.Pd., M.T.<br>"
   ]
  },
  {
   "cell_type": "code",
   "execution_count": 1,
   "id": "271a1626",
   "metadata": {},
   "outputs": [],
   "source": [
    "import tensorflow as tf\n",
    "from tf_bodypix.api import download_model, load_model, BodyPixModelPaths\n",
    "import cv2\n",
    "from matplotlib import pyplot as plt\n",
    "import numpy as np"
   ]
  },
  {
   "cell_type": "markdown",
   "id": "0a95258b",
   "metadata": {},
   "source": [
    "## 2. Mengenali"
   ]
  },
  {
   "cell_type": "code",
   "execution_count": 2,
   "id": "f8258eb7",
   "metadata": {},
   "outputs": [
    {
     "data": {
      "text/plain": [
       "<tf_bodypix.model.BodyPixModelWrapper at 0x1e85dcd1f40>"
      ]
     },
     "execution_count": 2,
     "metadata": {},
     "output_type": "execute_result"
    }
   ],
   "source": [
    "load_model(download_model(BodyPixModelPaths.MOBILENET_FLOAT_50_STRIDE_16))"
   ]
  },
  {
   "cell_type": "code",
   "execution_count": 3,
   "id": "8b7a6e64",
   "metadata": {},
   "outputs": [],
   "source": [
    "bodypix_model = load_model(download_model(BodyPixModelPaths.MOBILENET_FLOAT_50_STRIDE_16))"
   ]
  },
  {
   "cell_type": "code",
   "execution_count": null,
   "id": "01899ed9",
   "metadata": {},
   "outputs": [],
   "source": [
    "# memanggil video\n",
    "cap = cv2.VideoCapture(0) \n",
    "\n",
    "# kondisi untuk menampilkan frame\n",
    "while cap.isOpened(): \n",
    "    ret, frame = cap.read()\n",
    "    \n",
    "    # BodyPix Detections\n",
    "    result = bodypix_model.predict_single(frame)\n",
    "    mask = result.get_mask(threshold=0.5).numpy().astype(np.uint8)\n",
    "    masked_image = cv2.bitwise_and(frame, frame, mask=mask)\n",
    "    \n",
    "    # Video tampil di monitor\n",
    "    cv2.imshow('BodyPix', masked_image)\n",
    "    \n",
    "    # Kondisi apabila klik q, keluar dari frame\n",
    "    if cv2.waitKey(10) & 0xFF == ord('q'):\n",
    "        break\n",
    "\n",
    "cap.release() \n",
    "cv2.destroyAllWindows() # tutup frame"
   ]
  },
  {
   "cell_type": "markdown",
   "id": "40e63dc6",
   "metadata": {},
   "source": [
    "## 3. insert Virtual Background"
   ]
  },
  {
   "cell_type": "code",
   "execution_count": null,
   "id": "efffe650",
   "metadata": {},
   "outputs": [],
   "source": [
    "img = cv2.imread('background.jpg')\n",
    "img = img[:480, :640, :]"
   ]
  },
  {
   "cell_type": "code",
   "execution_count": null,
   "id": "a10706cb",
   "metadata": {},
   "outputs": [],
   "source": [
    "plt.imshow(cv2.cvtColor(img, cv2.COLOR_BGR2RGB))"
   ]
  },
  {
   "cell_type": "code",
   "execution_count": null,
   "id": "a791fbef",
   "metadata": {},
   "outputs": [],
   "source": [
    "img.shape"
   ]
  },
  {
   "cell_type": "code",
   "execution_count": null,
   "id": "7c03baad",
   "metadata": {},
   "outputs": [],
   "source": [
    "frame.shape"
   ]
  },
  {
   "cell_type": "code",
   "execution_count": null,
   "id": "ce41a5c6",
   "metadata": {},
   "outputs": [],
   "source": [
    "plt.imshow(mask)"
   ]
  },
  {
   "cell_type": "code",
   "execution_count": null,
   "id": "6363e0b5",
   "metadata": {},
   "outputs": [],
   "source": [
    "plt.imshow(np.where(np.add(mask, -1) == -1, 1, np.add(mask, -1)))"
   ]
  },
  {
   "cell_type": "code",
   "execution_count": null,
   "id": "ac6177df",
   "metadata": {},
   "outputs": [],
   "source": [
    "# memanggil video\n",
    "cap = cv2.VideoCapture(0) \n",
    "\n",
    "# kondisi untuk menampilkan frame\n",
    "while cap.isOpened(): \n",
    "    ret, frame = cap.read()\n",
    "    \n",
    "        # BodyPix Detections\n",
    "    result = bodypix_model.predict_single(frame)\n",
    "    mask = result.get_mask(threshold=0.5).numpy().astype(np.uint8)\n",
    "    masked_image = cv2.bitwise_and(frame, frame, mask=mask)\n",
    "    \n",
    "    # Memasukan Background\n",
    "    neg = np.add(mask, -1)\n",
    "    inverse = np.where(neg==-1, 1, neg).astype(np.uint8)\n",
    "    masked_background = cv2.bitwise_and(img, img, mask=inverse)\n",
    "    final = cv2.add(masked_image, masked_background)\n",
    "    \n",
    "     # Video tampil di monitor\n",
    "    cv2.imshow('Virtual Background', final)\n",
    "    \n",
    "    # Kondisi apabila klik q, keluar dari frame\n",
    "    if cv2.waitKey(10) & 0xFF == ord('q'):\n",
    "        break\n",
    "\n",
    "cap.release() \n",
    "cv2.destroyAllWindows() # Tutup frame"
   ]
  },
  {
   "cell_type": "code",
   "execution_count": null,
   "id": "73e6c7cd",
   "metadata": {},
   "outputs": [],
   "source": []
  }
 ],
 "metadata": {
  "kernelspec": {
   "display_name": "Python 3",
   "language": "python",
   "name": "python3"
  },
  "language_info": {
   "codemirror_mode": {
    "name": "ipython",
    "version": 3
   },
   "file_extension": ".py",
   "mimetype": "text/x-python",
   "name": "python",
   "nbconvert_exporter": "python",
   "pygments_lexer": "ipython3",
   "version": "3.8.8"
  }
 },
 "nbformat": 4,
 "nbformat_minor": 5
}
