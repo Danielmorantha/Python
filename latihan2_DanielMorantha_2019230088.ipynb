{
 "cells": [
  {
   "cell_type": "code",
   "execution_count": 23,
   "id": "91ac1b13",
   "metadata": {},
   "outputs": [
    {
     "name": "stdout",
     "output_type": "stream",
     "text": [
      "Masukan score anda: \n",
      "86\n",
      "Hasil Anda Adalah\n",
      " Nilai anda B\n"
     ]
    }
   ],
   "source": [
    "print(\"Masukan score anda: \")\n",
    "nilai    = int(input())\n",
    "\n",
    "output = \"\"\n",
    "\n",
    "if 90 <= nilai <= 100 :\n",
    "    output = \"Nilai anda A\"\n",
    "elif 80 <= nilai <= 89 :\n",
    "    output = \"Nilai anda B\"\n",
    "elif 70 <= nilai <= 79 :\n",
    "    output = \"Nilai anda C\"\n",
    "elif 60 <= nilai <= 69 :\n",
    "    output = \"Nilai anda D\"\n",
    "elif 50 <= nilai <= 59 :\n",
    "    output = \"Nilai Anda E\"\n",
    "else :\n",
    "    output = \"Anda mengulang\"\n",
    "    \n",
    "\n",
    "print(\"Hasil Anda Adalah\\n\", output)\n"
   ]
  },
  {
   "cell_type": "code",
   "execution_count": null,
   "id": "884a7469",
   "metadata": {},
   "outputs": [],
   "source": []
  }
 ],
 "metadata": {
  "kernelspec": {
   "display_name": "Python 3",
   "language": "python",
   "name": "python3"
  },
  "language_info": {
   "codemirror_mode": {
    "name": "ipython",
    "version": 3
   },
   "file_extension": ".py",
   "mimetype": "text/x-python",
   "name": "python",
   "nbconvert_exporter": "python",
   "pygments_lexer": "ipython3",
   "version": "3.8.8"
  }
 },
 "nbformat": 4,
 "nbformat_minor": 5
}
